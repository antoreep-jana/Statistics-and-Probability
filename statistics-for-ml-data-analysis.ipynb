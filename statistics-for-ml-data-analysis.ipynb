{
 "cells": [
  {
   "cell_type": "markdown",
   "metadata": {
    "papermill": {
     "duration": 0.121193,
     "end_time": "2021-03-25T14:49:37.871225",
     "exception": false,
     "start_time": "2021-03-25T14:49:37.750032",
     "status": "completed"
    },
    "tags": []
   },
   "source": [
    "## Summary => <br>\n",
    "This notebook includes the following topics. <br><br>\n",
    "\n",
    "The notebook will be constructed in two stages. <br>\n",
    "* 1st Stage -> Complete python implementations along with brief descriptions. (Est. Date of Completion - 28-03-2021)\n",
    "* 2nd Stage -> Solving questions on these topics using python. (Est. Date of Completion - 10-03-2021)"
   ]
  },
  {
   "cell_type": "markdown",
   "metadata": {
    "papermill": {
     "duration": 0.12668,
     "end_time": "2021-03-25T14:49:38.115755",
     "exception": false,
     "start_time": "2021-03-25T14:49:37.989075",
     "status": "completed"
    },
    "tags": []
   },
   "source": [
    "## Table of Contents\n",
    "\n",
    "* Understanding Data types\n",
    "    * Interval Scale\n",
    "    * Binary \n",
    "    * Categorical\n",
    "    * Ordinal \n",
    "    * Ratio Scaled\n",
    "    * Mixed Type\n",
    "* Different types of distances\n",
    "* Simmilarity and Dissimilarity Matrix\n",
    "* Handling Missing data values\n",
    "* Central Tendency & Dispersion\n",
    "* Descriptive Statistics\n",
    "* [Sample](https://www.kaggle.com/antoreepjana/statistics-for-ml-data-analysis/#16.-Sample-Statistics) vs [Population statistics](https://www.kaggle.com/antoreepjana/statistics-for-ml-data-analysis/#17.-Population-Statistics)\n",
    "* Random Variables\n",
    "* Probability Distribution Function\n",
    "* [Measuring p-value](https://www.kaggle.com/antoreepjana/statistics-for-ml-data-analysis/#13.-Calculating-p-Value)\n",
    "* [Measuring Correlation](https://www.kaggle.com/antoreepjana/statistics-for-ml-data-analysis/#14.-Measuring-Correlation)\n",
    "* [Measuring Variance](https://www.kaggle.com/antoreepjana/statistics-for-ml-data-analysis/#15.-Measuring-Variance)\n",
    "* Expected Value\n",
    "* [Binomial Distribution](https://www.kaggle.com/antoreepjana/statistics-for-ml-data-analysis/#8.-Binomial-Distribution)\n",
    "* [Normal Distributions](https://www.kaggle.com/antoreepjana/statistics-for-ml-data-analysis/#9.-Normal-Distribution)\n",
    "* [Poisson Distributions](https://www.kaggle.com/antoreepjana/statistics-for-ml-data-analysis/#10.-Poisson-Distribution)\n",
    "* [Bernoulli Distribution](https://www.kaggle.com/antoreepjana/statistics-for-ml-data-analysis/#11.-Bernoulli-Distribution)\n",
    "* [z-score](https://www.kaggle.com/antoreepjana/statistics-for-ml-data-analysis/#5.-Z-Test)\n",
    "* Hypothesis Testing\n",
    "    * Null & Alternate Hypothesis\n",
    "    * Type 1 Error; Type 2 Error\n",
    "    * Various Approaches\n",
    "        * p-value\n",
    "        * critical value\n",
    "        * confidence interval value\n",
    "* z-stats vs t-stats\n",
    "\n",
    "* Two Sample Tests\n",
    "* Confidence Interval\n",
    "* Similarity & Dissimilarity Matrices\n",
    "* [Central Limit Theorem](https://www.kaggle.com/antoreepjana/statistics-for-ml-data-analysis/#12.-Central-Limit-Theorem)\n",
    "* [Chi Square Test](https://www.kaggle.com/antoreepjana/statistics-for-ml-data-analysis/#3.-Chi-Square-Test)\n",
    "* [T Test](https://www.kaggle.com/antoreepjana/statistics-for-ml-data-analysis/#4.-T-Test)\n",
    "* [ANOVA Test](https://www.kaggle.com/antoreepjana/statistics-for-ml-data-analysis/#6.-ANOVA-Test)\n",
    "    * [One Way Anova Test](https://www.kaggle.com/antoreepjana/statistics-for-ml-data-analysis/#6.1-One-Way-ANOVA-Test)\n",
    "        * F Test (LSD Test)\n",
    "        * Tukey Kramer Test\n",
    "    * [Two Way Anova Test](https://www.kaggle.com/antoreepjana/statistics-for-ml-data-analysis/#6.2-Two-Way-ANOVA-Test)\n",
    "        * Interaction Effects\n",
    "* [F Stats](https://www.kaggle.com/antoreepjana/statistics-for-ml-data-analysis/#7.-F-Stats-Test)\n",
    "* [Regressions (Linear, Multiple) + ROC](https://www.kaggle.com/antoreepjana/statistics-for-ml-data-analysis/#2.-Regressions)\n",
    "* Logistic Regression\n",
    "    * Python Implementation\n",
    "    * Calculating G Statistics\n",
    "* Residual Analysis\n",
    "* Maximum Likelihood Estimation\n",
    "* Cluster Analysis\n",
    "    * Partitioning Cluster Methods\n",
    "        * K-Means\n",
    "        * K Mediods\n",
    "    * Hierarchial Cluster Methods\n",
    "        * Agglomerative\n",
    "* [CART Algorithms](https://www.kaggle.com/antoreepjana/statistics-for-ml-data-analysis/#1.-CART-Algorithms)\n",
    "    * Python Implementation\n",
    "    * various Calculations involved\n",
    "        * Information Gain\n",
    "        * Gain Ratio\n",
    "        * Gini Index\n",
    "* Confusion Metrics, ROC & Regression Analysis"
   ]
  },
  {
   "cell_type": "code",
   "execution_count": null,
   "metadata": {
    "papermill": {
     "duration": 0.114088,
     "end_time": "2021-03-25T14:49:38.346151",
     "exception": false,
     "start_time": "2021-03-25T14:49:38.232063",
     "status": "completed"
    },
    "tags": []
   },
   "outputs": [],
   "source": []
  },
  {
   "cell_type": "code",
   "execution_count": null,
   "metadata": {
    "papermill": {
     "duration": 0.116777,
     "end_time": "2021-03-25T14:49:38.577091",
     "exception": false,
     "start_time": "2021-03-25T14:49:38.460314",
     "status": "completed"
    },
    "tags": []
   },
   "outputs": [],
   "source": []
  },
  {
   "cell_type": "code",
   "execution_count": 1,
   "metadata": {
    "_cell_guid": "b1076dfc-b9ad-4769-8c92-a6c4dae69d19",
    "_uuid": "8f2839f25d086af736a60e9eeb907d3b93b6e0e5",
    "execution": {
     "iopub.execute_input": "2021-03-25T14:49:38.832990Z",
     "iopub.status.busy": "2021-03-25T14:49:38.832115Z",
     "iopub.status.idle": "2021-03-25T14:49:38.836219Z",
     "shell.execute_reply": "2021-03-25T14:49:38.835453Z"
    },
    "papermill": {
     "duration": 0.133579,
     "end_time": "2021-03-25T14:49:38.836472",
     "exception": false,
     "start_time": "2021-03-25T14:49:38.702893",
     "status": "completed"
    },
    "tags": []
   },
   "outputs": [],
   "source": [
    "import numpy as np\n",
    "import pandas as pd \n",
    "import os\n",
    "import random as rnd"
   ]
  },
  {
   "cell_type": "code",
   "execution_count": 2,
   "metadata": {
    "execution": {
     "iopub.execute_input": "2021-03-25T14:49:39.080869Z",
     "iopub.status.busy": "2021-03-25T14:49:39.079608Z",
     "iopub.status.idle": "2021-03-25T14:49:40.267137Z",
     "shell.execute_reply": "2021-03-25T14:49:40.266322Z"
    },
    "papermill": {
     "duration": 1.314954,
     "end_time": "2021-03-25T14:49:40.267307",
     "exception": false,
     "start_time": "2021-03-25T14:49:38.952353",
     "status": "completed"
    },
    "tags": []
   },
   "outputs": [],
   "source": [
    "import matplotlib.pyplot as plt\n",
    "import seaborn as sns\n",
    "%matplotlib inline"
   ]
  },
  {
   "cell_type": "markdown",
   "metadata": {
    "papermill": {
     "duration": 0.111519,
     "end_time": "2021-03-25T14:49:40.494896",
     "exception": false,
     "start_time": "2021-03-25T14:49:40.383377",
     "status": "completed"
    },
    "tags": []
   },
   "source": [
    "### 1. CART Algorithms"
   ]
  },
  {
   "cell_type": "markdown",
   "metadata": {
    "papermill": {
     "duration": 0.113988,
     "end_time": "2021-03-25T14:49:40.720460",
     "exception": false,
     "start_time": "2021-03-25T14:49:40.606472",
     "status": "completed"
    },
    "tags": []
   },
   "source": [
    "Brief Description -> "
   ]
  },
  {
   "cell_type": "markdown",
   "metadata": {
    "papermill": {
     "duration": 0.112846,
     "end_time": "2021-03-25T14:49:40.952249",
     "exception": false,
     "start_time": "2021-03-25T14:49:40.839403",
     "status": "completed"
    },
    "tags": []
   },
   "source": [
    "##### Tools Used\n",
    "\n",
    "Dataset Used -> Boston Dataset (UCI Machine Learning Repository)"
   ]
  },
  {
   "cell_type": "code",
   "execution_count": 3,
   "metadata": {
    "execution": {
     "iopub.execute_input": "2021-03-25T14:49:41.191329Z",
     "iopub.status.busy": "2021-03-25T14:49:41.190301Z",
     "iopub.status.idle": "2021-03-25T14:49:41.698428Z",
     "shell.execute_reply": "2021-03-25T14:49:41.697757Z"
    },
    "papermill": {
     "duration": 0.629537,
     "end_time": "2021-03-25T14:49:41.698647",
     "exception": false,
     "start_time": "2021-03-25T14:49:41.069110",
     "status": "completed"
    },
    "tags": []
   },
   "outputs": [],
   "source": [
    "from sklearn.datasets import load_boston\n",
    "boston_dataset = load_boston()"
   ]
  },
  {
   "cell_type": "code",
   "execution_count": 4,
   "metadata": {
    "execution": {
     "iopub.execute_input": "2021-03-25T14:49:41.941149Z",
     "iopub.status.busy": "2021-03-25T14:49:41.939951Z",
     "iopub.status.idle": "2021-03-25T14:49:41.944089Z",
     "shell.execute_reply": "2021-03-25T14:49:41.943158Z"
    },
    "papermill": {
     "duration": 0.129119,
     "end_time": "2021-03-25T14:49:41.944306",
     "exception": false,
     "start_time": "2021-03-25T14:49:41.815187",
     "status": "completed"
    },
    "tags": []
   },
   "outputs": [],
   "source": [
    "boston = pd.DataFrame(boston_dataset.data, columns = boston_dataset.feature_names)"
   ]
  },
  {
   "cell_type": "code",
   "execution_count": 5,
   "metadata": {
    "execution": {
     "iopub.execute_input": "2021-03-25T14:49:42.206964Z",
     "iopub.status.busy": "2021-03-25T14:49:42.204794Z",
     "iopub.status.idle": "2021-03-25T14:49:42.246089Z",
     "shell.execute_reply": "2021-03-25T14:49:42.246892Z"
    },
    "papermill": {
     "duration": 0.180957,
     "end_time": "2021-03-25T14:49:42.247142",
     "exception": false,
     "start_time": "2021-03-25T14:49:42.066185",
     "status": "completed"
    },
    "tags": []
   },
   "outputs": [
    {
     "data": {
      "text/html": [
       "<div>\n",
       "<style scoped>\n",
       "    .dataframe tbody tr th:only-of-type {\n",
       "        vertical-align: middle;\n",
       "    }\n",
       "\n",
       "    .dataframe tbody tr th {\n",
       "        vertical-align: top;\n",
       "    }\n",
       "\n",
       "    .dataframe thead th {\n",
       "        text-align: right;\n",
       "    }\n",
       "</style>\n",
       "<table border=\"1\" class=\"dataframe\">\n",
       "  <thead>\n",
       "    <tr style=\"text-align: right;\">\n",
       "      <th></th>\n",
       "      <th>CRIM</th>\n",
       "      <th>ZN</th>\n",
       "      <th>INDUS</th>\n",
       "      <th>CHAS</th>\n",
       "      <th>NOX</th>\n",
       "      <th>RM</th>\n",
       "      <th>AGE</th>\n",
       "      <th>DIS</th>\n",
       "      <th>RAD</th>\n",
       "      <th>TAX</th>\n",
       "      <th>PTRATIO</th>\n",
       "      <th>B</th>\n",
       "      <th>LSTAT</th>\n",
       "    </tr>\n",
       "  </thead>\n",
       "  <tbody>\n",
       "    <tr>\n",
       "      <th>0</th>\n",
       "      <td>0.00632</td>\n",
       "      <td>18.0</td>\n",
       "      <td>2.31</td>\n",
       "      <td>0.0</td>\n",
       "      <td>0.538</td>\n",
       "      <td>6.575</td>\n",
       "      <td>65.2</td>\n",
       "      <td>4.0900</td>\n",
       "      <td>1.0</td>\n",
       "      <td>296.0</td>\n",
       "      <td>15.3</td>\n",
       "      <td>396.90</td>\n",
       "      <td>4.98</td>\n",
       "    </tr>\n",
       "    <tr>\n",
       "      <th>1</th>\n",
       "      <td>0.02731</td>\n",
       "      <td>0.0</td>\n",
       "      <td>7.07</td>\n",
       "      <td>0.0</td>\n",
       "      <td>0.469</td>\n",
       "      <td>6.421</td>\n",
       "      <td>78.9</td>\n",
       "      <td>4.9671</td>\n",
       "      <td>2.0</td>\n",
       "      <td>242.0</td>\n",
       "      <td>17.8</td>\n",
       "      <td>396.90</td>\n",
       "      <td>9.14</td>\n",
       "    </tr>\n",
       "    <tr>\n",
       "      <th>2</th>\n",
       "      <td>0.02729</td>\n",
       "      <td>0.0</td>\n",
       "      <td>7.07</td>\n",
       "      <td>0.0</td>\n",
       "      <td>0.469</td>\n",
       "      <td>7.185</td>\n",
       "      <td>61.1</td>\n",
       "      <td>4.9671</td>\n",
       "      <td>2.0</td>\n",
       "      <td>242.0</td>\n",
       "      <td>17.8</td>\n",
       "      <td>392.83</td>\n",
       "      <td>4.03</td>\n",
       "    </tr>\n",
       "    <tr>\n",
       "      <th>3</th>\n",
       "      <td>0.03237</td>\n",
       "      <td>0.0</td>\n",
       "      <td>2.18</td>\n",
       "      <td>0.0</td>\n",
       "      <td>0.458</td>\n",
       "      <td>6.998</td>\n",
       "      <td>45.8</td>\n",
       "      <td>6.0622</td>\n",
       "      <td>3.0</td>\n",
       "      <td>222.0</td>\n",
       "      <td>18.7</td>\n",
       "      <td>394.63</td>\n",
       "      <td>2.94</td>\n",
       "    </tr>\n",
       "    <tr>\n",
       "      <th>4</th>\n",
       "      <td>0.06905</td>\n",
       "      <td>0.0</td>\n",
       "      <td>2.18</td>\n",
       "      <td>0.0</td>\n",
       "      <td>0.458</td>\n",
       "      <td>7.147</td>\n",
       "      <td>54.2</td>\n",
       "      <td>6.0622</td>\n",
       "      <td>3.0</td>\n",
       "      <td>222.0</td>\n",
       "      <td>18.7</td>\n",
       "      <td>396.90</td>\n",
       "      <td>5.33</td>\n",
       "    </tr>\n",
       "  </tbody>\n",
       "</table>\n",
       "</div>"
      ],
      "text/plain": [
       "      CRIM    ZN  INDUS  CHAS    NOX     RM   AGE     DIS  RAD    TAX  \\\n",
       "0  0.00632  18.0   2.31   0.0  0.538  6.575  65.2  4.0900  1.0  296.0   \n",
       "1  0.02731   0.0   7.07   0.0  0.469  6.421  78.9  4.9671  2.0  242.0   \n",
       "2  0.02729   0.0   7.07   0.0  0.469  7.185  61.1  4.9671  2.0  242.0   \n",
       "3  0.03237   0.0   2.18   0.0  0.458  6.998  45.8  6.0622  3.0  222.0   \n",
       "4  0.06905   0.0   2.18   0.0  0.458  7.147  54.2  6.0622  3.0  222.0   \n",
       "\n",
       "   PTRATIO       B  LSTAT  \n",
       "0     15.3  396.90   4.98  \n",
       "1     17.8  396.90   9.14  \n",
       "2     17.8  392.83   4.03  \n",
       "3     18.7  394.63   2.94  \n",
       "4     18.7  396.90   5.33  "
      ]
     },
     "execution_count": 5,
     "metadata": {},
     "output_type": "execute_result"
    }
   ],
   "source": [
    "boston.head()"
   ]
  },
  {
   "cell_type": "code",
   "execution_count": 6,
   "metadata": {
    "execution": {
     "iopub.execute_input": "2021-03-25T14:49:42.485613Z",
     "iopub.status.busy": "2021-03-25T14:49:42.484857Z",
     "iopub.status.idle": "2021-03-25T14:49:42.488058Z",
     "shell.execute_reply": "2021-03-25T14:49:42.487246Z"
    },
    "papermill": {
     "duration": 0.125974,
     "end_time": "2021-03-25T14:49:42.488222",
     "exception": false,
     "start_time": "2021-03-25T14:49:42.362248",
     "status": "completed"
    },
    "tags": []
   },
   "outputs": [],
   "source": [
    "boston['MEDV'] = boston_dataset.target"
   ]
  },
  {
   "cell_type": "code",
   "execution_count": 7,
   "metadata": {
    "execution": {
     "iopub.execute_input": "2021-03-25T14:49:42.721746Z",
     "iopub.status.busy": "2021-03-25T14:49:42.720957Z",
     "iopub.status.idle": "2021-03-25T14:49:42.724030Z",
     "shell.execute_reply": "2021-03-25T14:49:42.723306Z"
    },
    "papermill": {
     "duration": 0.122964,
     "end_time": "2021-03-25T14:49:42.724202",
     "exception": false,
     "start_time": "2021-03-25T14:49:42.601238",
     "status": "completed"
    },
    "tags": []
   },
   "outputs": [],
   "source": [
    "names = boston_dataset.feature_names"
   ]
  },
  {
   "cell_type": "code",
   "execution_count": 8,
   "metadata": {
    "execution": {
     "iopub.execute_input": "2021-03-25T14:49:42.962386Z",
     "iopub.status.busy": "2021-03-25T14:49:42.961599Z",
     "iopub.status.idle": "2021-03-25T14:49:43.317793Z",
     "shell.execute_reply": "2021-03-25T14:49:43.318554Z"
    },
    "papermill": {
     "duration": 0.477656,
     "end_time": "2021-03-25T14:49:43.318777",
     "exception": false,
     "start_time": "2021-03-25T14:49:42.841121",
     "status": "completed"
    },
    "tags": []
   },
   "outputs": [],
   "source": [
    "from sklearn.tree import DecisionTreeRegressor"
   ]
  },
  {
   "cell_type": "code",
   "execution_count": 9,
   "metadata": {
    "execution": {
     "iopub.execute_input": "2021-03-25T14:49:43.558625Z",
     "iopub.status.busy": "2021-03-25T14:49:43.557586Z",
     "iopub.status.idle": "2021-03-25T14:49:43.562468Z",
     "shell.execute_reply": "2021-03-25T14:49:43.561854Z"
    },
    "papermill": {
     "duration": 0.12613,
     "end_time": "2021-03-25T14:49:43.562653",
     "exception": false,
     "start_time": "2021-03-25T14:49:43.436523",
     "status": "completed"
    },
    "tags": []
   },
   "outputs": [],
   "source": [
    "array = boston.values\n",
    "\n",
    "X = array[:, 0:13]\n",
    "Y = array[:, 13]"
   ]
  },
  {
   "cell_type": "code",
   "execution_count": 10,
   "metadata": {
    "execution": {
     "iopub.execute_input": "2021-03-25T14:49:43.813022Z",
     "iopub.status.busy": "2021-03-25T14:49:43.811886Z",
     "iopub.status.idle": "2021-03-25T14:49:43.815938Z",
     "shell.execute_reply": "2021-03-25T14:49:43.815267Z"
    },
    "papermill": {
     "duration": 0.139088,
     "end_time": "2021-03-25T14:49:43.816118",
     "exception": false,
     "start_time": "2021-03-25T14:49:43.677030",
     "status": "completed"
    },
    "tags": []
   },
   "outputs": [],
   "source": [
    "from sklearn.model_selection import train_test_split\n",
    "X_train, X_test, Y_train, Y_test = train_test_split(X,Y, test_size = 0.3, random_state = 1234)"
   ]
  },
  {
   "cell_type": "code",
   "execution_count": 11,
   "metadata": {
    "execution": {
     "iopub.execute_input": "2021-03-25T14:49:44.067176Z",
     "iopub.status.busy": "2021-03-25T14:49:44.065948Z",
     "iopub.status.idle": "2021-03-25T14:49:44.070105Z",
     "shell.execute_reply": "2021-03-25T14:49:44.069339Z"
    },
    "papermill": {
     "duration": 0.135304,
     "end_time": "2021-03-25T14:49:44.070288",
     "exception": false,
     "start_time": "2021-03-25T14:49:43.934984",
     "status": "completed"
    },
    "tags": []
   },
   "outputs": [],
   "source": [
    "model = DecisionTreeRegressor(max_leaf_nodes = 20)"
   ]
  },
  {
   "cell_type": "code",
   "execution_count": 12,
   "metadata": {
    "execution": {
     "iopub.execute_input": "2021-03-25T14:49:44.315581Z",
     "iopub.status.busy": "2021-03-25T14:49:44.313108Z",
     "iopub.status.idle": "2021-03-25T14:49:44.326349Z",
     "shell.execute_reply": "2021-03-25T14:49:44.325488Z"
    },
    "papermill": {
     "duration": 0.136381,
     "end_time": "2021-03-25T14:49:44.326557",
     "exception": false,
     "start_time": "2021-03-25T14:49:44.190176",
     "status": "completed"
    },
    "tags": []
   },
   "outputs": [
    {
     "data": {
      "text/plain": [
       "DecisionTreeRegressor(max_leaf_nodes=20)"
      ]
     },
     "execution_count": 12,
     "metadata": {},
     "output_type": "execute_result"
    }
   ],
   "source": [
    "model.fit(X_train, Y_train)"
   ]
  },
  {
   "cell_type": "code",
   "execution_count": 13,
   "metadata": {
    "execution": {
     "iopub.execute_input": "2021-03-25T14:49:44.571508Z",
     "iopub.status.busy": "2021-03-25T14:49:44.570717Z",
     "iopub.status.idle": "2021-03-25T14:49:44.575206Z",
     "shell.execute_reply": "2021-03-25T14:49:44.574334Z"
    },
    "papermill": {
     "duration": 0.132755,
     "end_time": "2021-03-25T14:49:44.575393",
     "exception": false,
     "start_time": "2021-03-25T14:49:44.442638",
     "status": "completed"
    },
    "tags": []
   },
   "outputs": [],
   "source": [
    "from sklearn.metrics import r2_score"
   ]
  },
  {
   "cell_type": "code",
   "execution_count": 14,
   "metadata": {
    "execution": {
     "iopub.execute_input": "2021-03-25T14:49:44.823887Z",
     "iopub.status.busy": "2021-03-25T14:49:44.822947Z",
     "iopub.status.idle": "2021-03-25T14:49:44.826672Z",
     "shell.execute_reply": "2021-03-25T14:49:44.826004Z"
    },
    "papermill": {
     "duration": 0.131001,
     "end_time": "2021-03-25T14:49:44.826852",
     "exception": false,
     "start_time": "2021-03-25T14:49:44.695851",
     "status": "completed"
    },
    "tags": []
   },
   "outputs": [],
   "source": [
    "YHat = model.predict(X_test)"
   ]
  },
  {
   "cell_type": "code",
   "execution_count": 15,
   "metadata": {
    "execution": {
     "iopub.execute_input": "2021-03-25T14:49:45.075418Z",
     "iopub.status.busy": "2021-03-25T14:49:45.074246Z",
     "iopub.status.idle": "2021-03-25T14:49:45.079265Z",
     "shell.execute_reply": "2021-03-25T14:49:45.078445Z"
    },
    "papermill": {
     "duration": 0.130999,
     "end_time": "2021-03-25T14:49:45.079444",
     "exception": false,
     "start_time": "2021-03-25T14:49:44.948445",
     "status": "completed"
    },
    "tags": []
   },
   "outputs": [
    {
     "name": "stdout",
     "output_type": "stream",
     "text": [
      "R2 Score ->  0.8567122297482948\n"
     ]
    }
   ],
   "source": [
    "r2 = r2_score(Y_test, YHat)\n",
    "print(\"R2 Score -> \", r2)"
   ]
  },
  {
   "cell_type": "markdown",
   "metadata": {
    "papermill": {
     "duration": 0.11655,
     "end_time": "2021-03-25T14:49:45.316234",
     "exception": false,
     "start_time": "2021-03-25T14:49:45.199684",
     "status": "completed"
    },
    "tags": []
   },
   "source": [
    "### plot the decision tree as a graph "
   ]
  },
  {
   "cell_type": "code",
   "execution_count": 16,
   "metadata": {
    "execution": {
     "iopub.execute_input": "2021-03-25T14:49:45.567336Z",
     "iopub.status.busy": "2021-03-25T14:49:45.566424Z",
     "iopub.status.idle": "2021-03-25T14:49:45.585130Z",
     "shell.execute_reply": "2021-03-25T14:49:45.584465Z"
    },
    "papermill": {
     "duration": 0.150426,
     "end_time": "2021-03-25T14:49:45.585320",
     "exception": false,
     "start_time": "2021-03-25T14:49:45.434894",
     "status": "completed"
    },
    "tags": []
   },
   "outputs": [],
   "source": [
    "import graphviz\n",
    "from sklearn import tree"
   ]
  },
  {
   "cell_type": "markdown",
   "metadata": {
    "papermill": {
     "duration": 0.12147,
     "end_time": "2021-03-25T14:49:45.828883",
     "exception": false,
     "start_time": "2021-03-25T14:49:45.707413",
     "status": "completed"
    },
    "tags": []
   },
   "source": [
    "method 1"
   ]
  },
  {
   "cell_type": "code",
   "execution_count": 17,
   "metadata": {
    "execution": {
     "iopub.execute_input": "2021-03-25T14:49:46.102150Z",
     "iopub.status.busy": "2021-03-25T14:49:46.096252Z",
     "iopub.status.idle": "2021-03-25T14:49:47.991334Z",
     "shell.execute_reply": "2021-03-25T14:49:47.992107Z"
    },
    "papermill": {
     "duration": 2.045958,
     "end_time": "2021-03-25T14:49:47.992370",
     "exception": false,
     "start_time": "2021-03-25T14:49:45.946412",
     "status": "completed"
    },
    "tags": []
   },
   "outputs": [
    {
     "data": {
      "image/png": "[encoded data removed]",
      "text/plain": [
       "<Figure size 1800x1440 with 1 Axes>"
      ]
     },
     "metadata": {
      "needs_background": "light"
     },
     "output_type": "display_data"
    }
   ],
   "source": [
    "fig = plt.figure(figsize=(25,20))\n",
    "_ = tree.plot_tree(model, \n",
    "                   feature_names=names,  \n",
    "                   class_names=boston_dataset.target,\n",
    "                   filled=True)"
   ]
  },
  {
   "cell_type": "markdown",
   "metadata": {
    "papermill": {
     "duration": 0.12984,
     "end_time": "2021-03-25T14:49:48.247511",
     "exception": false,
     "start_time": "2021-03-25T14:49:48.117671",
     "status": "completed"
    },
    "tags": []
   },
   "source": [
    "method 2"
   ]
  },
  {
   "cell_type": "code",
   "execution_count": 18,
   "metadata": {
    "execution": {
     "iopub.execute_input": "2021-03-25T14:49:48.502347Z",
     "iopub.status.busy": "2021-03-25T14:49:48.499606Z",
     "iopub.status.idle": "2021-03-25T14:49:49.155140Z",
     "shell.execute_reply": "2021-03-25T14:49:49.154516Z"
    },
    "papermill": {
     "duration": 0.784986,
     "end_time": "2021-03-25T14:49:49.155313",
     "exception": false,
     "start_time": "2021-03-25T14:49:48.370327",
     "status": "completed"
    },
    "tags": []
   },
   "outputs": [
    {
     "data": {
      "image/svg+xml": [
       "<?xml version=\"1.0\" encoding=\"UTF-8\" standalone=\"no\"?>\n",
       "<!DOCTYPE svg PUBLIC \"-//W3C//DTD SVG 1.1//EN\"\n",
       " \"http://www.w3.org/Graphics/SVG/1.1/DTD/svg11.dtd\">\n",
       "<!-- Generated by graphviz version 2.42.3 (20191010.1750)\n",
       " -->\n",
       "<!-- Title: Tree Pages: 1 -->\n",
       "<svg width=\"1588pt\" height=\"789pt\"\n",
       " viewBox=\"0.00 0.00 1588.00 789.00\" xmlns=\"http://www.w3.org/2000/svg\" xmlns:xlink=\"http://www.w3.org/1999/xlink\">\n",
       "<g id=\"graph0\" class=\"graph\" transform=\"scale(1 1) rotate(0) translate(4 785)\">\n",
       "<title>Tree</title>\n",
       "<polygon fill=\"white\" stroke=\"transparent\" points=\"-4,4 -4,-785 1584,-785 1584,4 -4,4\"/>\n",
       "<!-- 0 -->\n",
       "<g id=\"node1\" class=\"node\">\n",
       "<title>0</title>\n",
       "<path fill=\"#f7d8c2\" stroke=\"black\" d=\"M866,-781C866,-781 774,-781 774,-781 768,-781 762,-775 762,-769 762,-769 762,-725 762,-725 762,-719 768,-713 774,-713 774,-713 866,-713 866,-713 872,-713 878,-719 878,-725 878,-725 878,-769 878,-769 878,-775 872,-781 866,-781\"/>\n",
       "<text text-anchor=\"middle\" x=\"820\" y=\"-765.8\" font-family=\"Helvetica,sans-Serif\" font-size=\"14.00\">LSTAT &lt;= 9.725</text>\n",
       "<text text-anchor=\"middle\" x=\"820\" y=\"-750.8\" font-family=\"Helvetica,sans-Serif\" font-size=\"14.00\">mse = 81.081</text>\n",
       "<text text-anchor=\"middle\" x=\"820\" y=\"-735.8\" font-family=\"Helvetica,sans-Serif\" font-size=\"14.00\">samples = 354</text>\n",
       "<text text-anchor=\"middle\" x=\"820\" y=\"-720.8\" font-family=\"Helvetica,sans-Serif\" font-size=\"14.00\">value = 22.488</text>\n",
       "</g>\n",
       "<!-- 1 -->\n",
       "<g id=\"node2\" class=\"node\">\n",
       "<title>1</title>\n",
       "<path fill=\"#f2c19e\" stroke=\"black\" d=\"M794,-677C794,-677 712,-677 712,-677 706,-677 700,-671 700,-665 700,-665 700,-621 700,-621 700,-615 706,-609 712,-609 712,-609 794,-609 794,-609 800,-609 806,-615 806,-621 806,-621 806,-665 806,-665 806,-671 800,-677 794,-677\"/>\n",
       "<text text-anchor=\"middle\" x=\"753\" y=\"-661.8\" font-family=\"Helvetica,sans-Serif\" font-size=\"14.00\">RM &lt;= 7.435</text>\n",
       "<text text-anchor=\"middle\" x=\"753\" y=\"-646.8\" font-family=\"Helvetica,sans-Serif\" font-size=\"14.00\">mse = 78.714</text>\n",
       "<text text-anchor=\"middle\" x=\"753\" y=\"-631.8\" font-family=\"Helvetica,sans-Serif\" font-size=\"14.00\">samples = 144</text>\n",
       "<text text-anchor=\"middle\" x=\"753\" y=\"-616.8\" font-family=\"Helvetica,sans-Serif\" font-size=\"14.00\">value = 29.715</text>\n",
       "</g>\n",
       "<!-- 0&#45;&gt;1 -->\n",
       "<g id=\"edge1\" class=\"edge\">\n",
       "<title>0&#45;&gt;1</title>\n",
       "<path fill=\"none\" stroke=\"black\" d=\"M798.25,-712.88C792.57,-704.24 786.38,-694.82 780.45,-685.79\"/>\n",
       "<polygon fill=\"black\" stroke=\"black\" points=\"783.29,-683.74 774.87,-677.3 777.44,-687.58 783.29,-683.74\"/>\n",
       "<text text-anchor=\"middle\" x=\"769.8\" y=\"-698.08\" font-family=\"Helvetica,sans-Serif\" font-size=\"14.00\">True</text>\n",
       "</g>\n",
       "<!-- 2 -->\n",
       "<g id=\"node25\" class=\"node\">\n",
       "<title>2</title>\n",
       "<path fill=\"#fae8db\" stroke=\"black\" d=\"M987,-677C987,-677 895,-677 895,-677 889,-677 883,-671 883,-665 883,-665 883,-621 883,-621 883,-615 889,-609 895,-609 895,-609 987,-609 987,-609 993,-609 999,-615 999,-621 999,-621 999,-665 999,-665 999,-671 993,-677 987,-677\"/>\n",
       "<text text-anchor=\"middle\" x=\"941\" y=\"-661.8\" font-family=\"Helvetica,sans-Serif\" font-size=\"14.00\">LSTAT &lt;= 16.21</text>\n",
       "<text text-anchor=\"middle\" x=\"941\" y=\"-646.8\" font-family=\"Helvetica,sans-Serif\" font-size=\"14.00\">mse = 22.34</text>\n",
       "<text text-anchor=\"middle\" x=\"941\" y=\"-631.8\" font-family=\"Helvetica,sans-Serif\" font-size=\"14.00\">samples = 210</text>\n",
       "<text text-anchor=\"middle\" x=\"941\" y=\"-616.8\" font-family=\"Helvetica,sans-Serif\" font-size=\"14.00\">value = 17.533</text>\n",
       "</g>\n",
       "<!-- 0&#45;&gt;2 -->\n",
       "<g id=\"edge24\" class=\"edge\">\n",
       "<title>0&#45;&gt;2</title>\n",
       "<path fill=\"none\" stroke=\"black\" d=\"M859.29,-712.88C870.27,-703.62 882.33,-693.45 893.73,-683.85\"/>\n",
       "<polygon fill=\"black\" stroke=\"black\" points=\"896.11,-686.42 901.5,-677.3 891.6,-681.07 896.11,-686.42\"/>\n",
       "<text text-anchor=\"middle\" x=\"899.38\" y=\"-698.51\" font-family=\"Helvetica,sans-Serif\" font-size=\"14.00\">False</text>\n",
       "</g>\n",
       "<!-- 3 -->\n",
       "<g id=\"node3\" class=\"node\">\n",
       "<title>3</title>\n",
       "<path fill=\"#f4c9aa\" stroke=\"black\" d=\"M575,-573C575,-573 493,-573 493,-573 487,-573 481,-567 481,-561 481,-561 481,-517 481,-517 481,-511 487,-505 493,-505 493,-505 575,-505 575,-505 581,-505 587,-511 587,-517 587,-517 587,-561 587,-561 587,-567 581,-573 575,-573\"/>\n",
       "<text text-anchor=\"middle\" x=\"534\" y=\"-557.8\" font-family=\"Helvetica,sans-Serif\" font-size=\"14.00\">DIS &lt;= 1.473</text>\n",
       "<text text-anchor=\"middle\" x=\"534\" y=\"-542.8\" font-family=\"Helvetica,sans-Serif\" font-size=\"14.00\">mse = 42.639</text>\n",
       "<text text-anchor=\"middle\" x=\"534\" y=\"-527.8\" font-family=\"Helvetica,sans-Serif\" font-size=\"14.00\">samples = 125</text>\n",
       "<text text-anchor=\"middle\" x=\"534\" y=\"-512.8\" font-family=\"Helvetica,sans-Serif\" font-size=\"14.00\">value = 27.394</text>\n",
       "</g>\n",
       "<!-- 1&#45;&gt;3 -->\n",
       "<g id=\"edge2\" class=\"edge\">\n",
       "<title>1&#45;&gt;3</title>\n",
       "<path fill=\"none\" stroke=\"black\" d=\"M699.99,-617.31C668.88,-602.82 629.39,-584.43 596.74,-569.22\"/>\n",
       "<polygon fill=\"black\" stroke=\"black\" points=\"597.83,-565.87 587.28,-564.82 594.87,-572.21 597.83,-565.87\"/>\n",
       "</g>\n",
       "<!-- 4 -->\n",
       "<g id=\"node20\" class=\"node\">\n",
       "<title>4</title>\n",
       "<path fill=\"#e89152\" stroke=\"black\" d=\"M804,-573C804,-573 702,-573 702,-573 696,-573 690,-567 690,-561 690,-561 690,-517 690,-517 690,-511 696,-505 702,-505 702,-505 804,-505 804,-505 810,-505 816,-511 816,-517 816,-517 816,-561 816,-561 816,-567 810,-573 804,-573\"/>\n",
       "<text text-anchor=\"middle\" x=\"753\" y=\"-557.8\" font-family=\"Helvetica,sans-Serif\" font-size=\"14.00\">PTRATIO &lt;= 18.3</text>\n",
       "<text text-anchor=\"middle\" x=\"753\" y=\"-542.8\" font-family=\"Helvetica,sans-Serif\" font-size=\"14.00\">mse = 47.634</text>\n",
       "<text text-anchor=\"middle\" x=\"753\" y=\"-527.8\" font-family=\"Helvetica,sans-Serif\" font-size=\"14.00\">samples = 19</text>\n",
       "<text text-anchor=\"middle\" x=\"753\" y=\"-512.8\" font-family=\"Helvetica,sans-Serif\" font-size=\"14.00\">value = 44.979</text>\n",
       "</g>\n",
       "<!-- 1&#45;&gt;4 -->\n",
       "<g id=\"edge19\" class=\"edge\">\n",
       "<title>1&#45;&gt;4</title>\n",
       "<path fill=\"none\" stroke=\"black\" d=\"M753,-608.88C753,-600.78 753,-591.98 753,-583.47\"/>\n",
       "<polygon fill=\"black\" stroke=\"black\" points=\"756.5,-583.3 753,-573.3 749.5,-583.3 756.5,-583.3\"/>\n",
       "</g>\n",
       "<!-- 5 -->\n",
       "<g id=\"node4\" class=\"node\">\n",
       "<title>5</title>\n",
       "<path fill=\"#e58139\" stroke=\"black\" d=\"M450.5,-461.5C450.5,-461.5 383.5,-461.5 383.5,-461.5 377.5,-461.5 371.5,-455.5 371.5,-449.5 371.5,-449.5 371.5,-420.5 371.5,-420.5 371.5,-414.5 377.5,-408.5 383.5,-408.5 383.5,-408.5 450.5,-408.5 450.5,-408.5 456.5,-408.5 462.5,-414.5 462.5,-420.5 462.5,-420.5 462.5,-449.5 462.5,-449.5 462.5,-455.5 456.5,-461.5 450.5,-461.5\"/>\n",
       "<text text-anchor=\"middle\" x=\"417\" y=\"-446.3\" font-family=\"Helvetica,sans-Serif\" font-size=\"14.00\">mse = 0.0</text>\n",
       "<text text-anchor=\"middle\" x=\"417\" y=\"-431.3\" font-family=\"Helvetica,sans-Serif\" font-size=\"14.00\">samples = 4</text>\n",
       "<text text-anchor=\"middle\" x=\"417\" y=\"-416.3\" font-family=\"Helvetica,sans-Serif\" font-size=\"14.00\">value = 50.0</text>\n",
       "</g>\n",
       "<!-- 3&#45;&gt;5 -->\n",
       "<g id=\"edge3\" class=\"edge\">\n",
       "<title>3&#45;&gt;5</title>\n",
       "<path fill=\"none\" stroke=\"black\" d=\"M496.01,-504.88C482.52,-493.12 467.35,-479.89 453.94,-468.2\"/>\n",
       "<polygon fill=\"black\" stroke=\"black\" points=\"456.11,-465.45 446.27,-461.52 451.51,-470.73 456.11,-465.45\"/>\n",
       "</g>\n",
       "<!-- 6 -->\n",
       "<g id=\"node5\" class=\"node\">\n",
       "<title>6</title>\n",
       "<path fill=\"#f4cbad\" stroke=\"black\" d=\"M575,-469C575,-469 493,-469 493,-469 487,-469 481,-463 481,-457 481,-457 481,-413 481,-413 481,-407 487,-401 493,-401 493,-401 575,-401 575,-401 581,-401 587,-407 587,-413 587,-413 587,-457 587,-457 587,-463 581,-469 575,-469\"/>\n",
       "<text text-anchor=\"middle\" x=\"534\" y=\"-453.8\" font-family=\"Helvetica,sans-Serif\" font-size=\"14.00\">RM &lt;= 6.797</text>\n",
       "<text text-anchor=\"middle\" x=\"534\" y=\"-438.8\" font-family=\"Helvetica,sans-Serif\" font-size=\"14.00\">mse = 26.597</text>\n",
       "<text text-anchor=\"middle\" x=\"534\" y=\"-423.8\" font-family=\"Helvetica,sans-Serif\" font-size=\"14.00\">samples = 121</text>\n",
       "<text text-anchor=\"middle\" x=\"534\" y=\"-408.8\" font-family=\"Helvetica,sans-Serif\" font-size=\"14.00\">value = 26.647</text>\n",
       "</g>\n",
       "<!-- 3&#45;&gt;6 -->\n",
       "<g id=\"edge4\" class=\"edge\">\n",
       "<title>3&#45;&gt;6</title>\n",
       "<path fill=\"none\" stroke=\"black\" d=\"M534,-504.88C534,-496.78 534,-487.98 534,-479.47\"/>\n",
       "<polygon fill=\"black\" stroke=\"black\" points=\"537.5,-479.3 534,-469.3 530.5,-479.3 537.5,-479.3\"/>\n",
       "</g>\n",
       "<!-- 9 -->\n",
       "<g id=\"node6\" class=\"node\">\n",
       "<title>9</title>\n",
       "<path fill=\"#f6d3b9\" stroke=\"black\" d=\"M401,-365C401,-365 319,-365 319,-365 313,-365 307,-359 307,-353 307,-353 307,-309 307,-309 307,-303 313,-297 319,-297 319,-297 401,-297 401,-297 407,-297 413,-303 413,-309 413,-309 413,-353 413,-353 413,-359 407,-365 401,-365\"/>\n",
       "<text text-anchor=\"middle\" x=\"360\" y=\"-349.8\" font-family=\"Helvetica,sans-Serif\" font-size=\"14.00\">RM &lt;= 6.428</text>\n",
       "<text text-anchor=\"middle\" x=\"360\" y=\"-334.8\" font-family=\"Helvetica,sans-Serif\" font-size=\"14.00\">mse = 11.277</text>\n",
       "<text text-anchor=\"middle\" x=\"360\" y=\"-319.8\" font-family=\"Helvetica,sans-Serif\" font-size=\"14.00\">samples = 85</text>\n",
       "<text text-anchor=\"middle\" x=\"360\" y=\"-304.8\" font-family=\"Helvetica,sans-Serif\" font-size=\"14.00\">value = 24.195</text>\n",
       "</g>\n",
       "<!-- 6&#45;&gt;9 -->\n",
       "<g id=\"edge5\" class=\"edge\">\n",
       "<title>6&#45;&gt;9</title>\n",
       "<path fill=\"none\" stroke=\"black\" d=\"M480.85,-402.84C462.22,-391.92 441.13,-379.56 421.84,-368.25\"/>\n",
       "<polygon fill=\"black\" stroke=\"black\" points=\"423.52,-365.18 413.13,-363.14 419.98,-371.22 423.52,-365.18\"/>\n",
       "</g>\n",
       "<!-- 10 -->\n",
       "<g id=\"node13\" class=\"node\">\n",
       "<title>10</title>\n",
       "<path fill=\"#f0b990\" stroke=\"black\" d=\"M592,-365C592,-365 490,-365 490,-365 484,-365 478,-359 478,-353 478,-353 478,-309 478,-309 478,-303 484,-297 490,-297 490,-297 592,-297 592,-297 598,-297 604,-303 604,-309 604,-309 604,-353 604,-353 604,-359 598,-365 592,-365\"/>\n",
       "<text text-anchor=\"middle\" x=\"541\" y=\"-349.8\" font-family=\"Helvetica,sans-Serif\" font-size=\"14.00\">PTRATIO &lt;= 19.7</text>\n",
       "<text text-anchor=\"middle\" x=\"541\" y=\"-334.8\" font-family=\"Helvetica,sans-Serif\" font-size=\"14.00\">mse = 15.065</text>\n",
       "<text text-anchor=\"middle\" x=\"541\" y=\"-319.8\" font-family=\"Helvetica,sans-Serif\" font-size=\"14.00\">samples = 36</text>\n",
       "<text text-anchor=\"middle\" x=\"541\" y=\"-304.8\" font-family=\"Helvetica,sans-Serif\" font-size=\"14.00\">value = 32.436</text>\n",
       "</g>\n",
       "<!-- 6&#45;&gt;10 -->\n",
       "<g id=\"edge12\" class=\"edge\">\n",
       "<title>6&#45;&gt;10</title>\n",
       "<path fill=\"none\" stroke=\"black\" d=\"M536.27,-400.88C536.83,-392.78 537.43,-383.98 538.02,-375.47\"/>\n",
       "<polygon fill=\"black\" stroke=\"black\" points=\"541.52,-375.52 538.71,-365.3 534.54,-375.04 541.52,-375.52\"/>\n",
       "</g>\n",
       "<!-- 15 -->\n",
       "<g id=\"node7\" class=\"node\">\n",
       "<title>15</title>\n",
       "<path fill=\"#f7d8c2\" stroke=\"black\" d=\"M219.5,-261C219.5,-261 134.5,-261 134.5,-261 128.5,-261 122.5,-255 122.5,-249 122.5,-249 122.5,-205 122.5,-205 122.5,-199 128.5,-193 134.5,-193 134.5,-193 219.5,-193 219.5,-193 225.5,-193 231.5,-199 231.5,-205 231.5,-205 231.5,-249 231.5,-249 231.5,-255 225.5,-261 219.5,-261\"/>\n",
       "<text text-anchor=\"middle\" x=\"177\" y=\"-245.8\" font-family=\"Helvetica,sans-Serif\" font-size=\"14.00\">LSTAT &lt;= 7.81</text>\n",
       "<text text-anchor=\"middle\" x=\"177\" y=\"-230.8\" font-family=\"Helvetica,sans-Serif\" font-size=\"14.00\">mse = 6.556</text>\n",
       "<text text-anchor=\"middle\" x=\"177\" y=\"-215.8\" font-family=\"Helvetica,sans-Serif\" font-size=\"14.00\">samples = 47</text>\n",
       "<text text-anchor=\"middle\" x=\"177\" y=\"-200.8\" font-family=\"Helvetica,sans-Serif\" font-size=\"14.00\">value = 22.413</text>\n",
       "</g>\n",
       "<!-- 9&#45;&gt;15 -->\n",
       "<g id=\"edge6\" class=\"edge\">\n",
       "<title>9&#45;&gt;15</title>\n",
       "<path fill=\"none\" stroke=\"black\" d=\"M306.58,-300.22C285.9,-288.7 262.07,-275.41 240.52,-263.4\"/>\n",
       "<polygon fill=\"black\" stroke=\"black\" points=\"242.2,-260.33 231.76,-258.52 238.79,-266.45 242.2,-260.33\"/>\n",
       "</g>\n",
       "<!-- 16 -->\n",
       "<g id=\"node10\" class=\"node\">\n",
       "<title>16</title>\n",
       "<path fill=\"#f4ccaf\" stroke=\"black\" d=\"M415,-261C415,-261 305,-261 305,-261 299,-261 293,-255 293,-249 293,-249 293,-205 293,-205 293,-199 299,-193 305,-193 305,-193 415,-193 415,-193 421,-193 427,-199 427,-205 427,-205 427,-249 427,-249 427,-255 421,-261 415,-261\"/>\n",
       "<text text-anchor=\"middle\" x=\"360\" y=\"-245.8\" font-family=\"Helvetica,sans-Serif\" font-size=\"14.00\">PTRATIO &lt;= 18.35</text>\n",
       "<text text-anchor=\"middle\" x=\"360\" y=\"-230.8\" font-family=\"Helvetica,sans-Serif\" font-size=\"14.00\">mse = 8.324</text>\n",
       "<text text-anchor=\"middle\" x=\"360\" y=\"-215.8\" font-family=\"Helvetica,sans-Serif\" font-size=\"14.00\">samples = 38</text>\n",
       "<text text-anchor=\"middle\" x=\"360\" y=\"-200.8\" font-family=\"Helvetica,sans-Serif\" font-size=\"14.00\">value = 26.4</text>\n",
       "</g>\n",
       "<!-- 9&#45;&gt;16 -->\n",
       "<g id=\"edge9\" class=\"edge\">\n",
       "<title>9&#45;&gt;16</title>\n",
       "<path fill=\"none\" stroke=\"black\" d=\"M360,-296.88C360,-288.78 360,-279.98 360,-271.47\"/>\n",
       "<polygon fill=\"black\" stroke=\"black\" points=\"363.5,-271.3 360,-261.3 356.5,-271.3 363.5,-271.3\"/>\n",
       "</g>\n",
       "<!-- 31 -->\n",
       "<g id=\"node8\" class=\"node\">\n",
       "<title>31</title>\n",
       "<path fill=\"#f6d4bc\" stroke=\"black\" d=\"M94,-149.5C94,-149.5 12,-149.5 12,-149.5 6,-149.5 0,-143.5 0,-137.5 0,-137.5 0,-108.5 0,-108.5 0,-102.5 6,-96.5 12,-96.5 12,-96.5 94,-96.5 94,-96.5 100,-96.5 106,-102.5 106,-108.5 106,-108.5 106,-137.5 106,-137.5 106,-143.5 100,-149.5 94,-149.5\"/>\n",
       "<text text-anchor=\"middle\" x=\"53\" y=\"-134.3\" font-family=\"Helvetica,sans-Serif\" font-size=\"14.00\">mse = 2.396</text>\n",
       "<text text-anchor=\"middle\" x=\"53\" y=\"-119.3\" font-family=\"Helvetica,sans-Serif\" font-size=\"14.00\">samples = 24</text>\n",
       "<text text-anchor=\"middle\" x=\"53\" y=\"-104.3\" font-family=\"Helvetica,sans-Serif\" font-size=\"14.00\">value = 23.717</text>\n",
       "</g>\n",
       "<!-- 15&#45;&gt;31 -->\n",
       "<g id=\"edge7\" class=\"edge\">\n",
       "<title>15&#45;&gt;31</title>\n",
       "<path fill=\"none\" stroke=\"black\" d=\"M136.74,-192.88C122.3,-181.01 106.06,-167.65 91.75,-155.88\"/>\n",
       "<polygon fill=\"black\" stroke=\"black\" points=\"93.97,-153.17 84.02,-149.52 89.52,-158.58 93.97,-153.17\"/>\n",
       "</g>\n",
       "<!-- 32 -->\n",
       "<g id=\"node9\" class=\"node\">\n",
       "<title>32</title>\n",
       "<path fill=\"#f8ddc9\" stroke=\"black\" d=\"M218,-149.5C218,-149.5 136,-149.5 136,-149.5 130,-149.5 124,-143.5 124,-137.5 124,-137.5 124,-108.5 124,-108.5 124,-102.5 130,-96.5 136,-96.5 136,-96.5 218,-96.5 218,-96.5 224,-96.5 230,-102.5 230,-108.5 230,-108.5 230,-137.5 230,-137.5 230,-143.5 224,-149.5 218,-149.5\"/>\n",
       "<text text-anchor=\"middle\" x=\"177\" y=\"-134.3\" font-family=\"Helvetica,sans-Serif\" font-size=\"14.00\">mse = 7.273</text>\n",
       "<text text-anchor=\"middle\" x=\"177\" y=\"-119.3\" font-family=\"Helvetica,sans-Serif\" font-size=\"14.00\">samples = 23</text>\n",
       "<text text-anchor=\"middle\" x=\"177\" y=\"-104.3\" font-family=\"Helvetica,sans-Serif\" font-size=\"14.00\">value = 21.052</text>\n",
       "</g>\n",
       "<!-- 15&#45;&gt;32 -->\n",
       "<g id=\"edge8\" class=\"edge\">\n",
       "<title>15&#45;&gt;32</title>\n",
       "<path fill=\"none\" stroke=\"black\" d=\"M177,-192.88C177,-182.33 177,-170.6 177,-159.85\"/>\n",
       "<polygon fill=\"black\" stroke=\"black\" points=\"180.5,-159.52 177,-149.52 173.5,-159.52 180.5,-159.52\"/>\n",
       "</g>\n",
       "<!-- 37 -->\n",
       "<g id=\"node11\" class=\"node\">\n",
       "<title>37</title>\n",
       "<path fill=\"#f4c8a8\" stroke=\"black\" d=\"M334,-149.5C334,-149.5 260,-149.5 260,-149.5 254,-149.5 248,-143.5 248,-137.5 248,-137.5 248,-108.5 248,-108.5 248,-102.5 254,-96.5 260,-96.5 260,-96.5 334,-96.5 334,-96.5 340,-96.5 346,-102.5 346,-108.5 346,-108.5 346,-137.5 346,-137.5 346,-143.5 340,-149.5 334,-149.5\"/>\n",
       "<text text-anchor=\"middle\" x=\"297\" y=\"-134.3\" font-family=\"Helvetica,sans-Serif\" font-size=\"14.00\">mse = 8.594</text>\n",
       "<text text-anchor=\"middle\" x=\"297\" y=\"-119.3\" font-family=\"Helvetica,sans-Serif\" font-size=\"14.00\">samples = 20</text>\n",
       "<text text-anchor=\"middle\" x=\"297\" y=\"-104.3\" font-family=\"Helvetica,sans-Serif\" font-size=\"14.00\">value = 27.73</text>\n",
       "</g>\n",
       "<!-- 16&#45;&gt;37 -->\n",
       "<g id=\"edge10\" class=\"edge\">\n",
       "<title>16&#45;&gt;37</title>\n",
       "<path fill=\"none\" stroke=\"black\" d=\"M339.55,-192.88C332.68,-181.78 325.02,-169.37 318.11,-158.18\"/>\n",
       "<polygon fill=\"black\" stroke=\"black\" points=\"321,-156.19 312.76,-149.52 315.04,-159.87 321,-156.19\"/>\n",
       "</g>\n",
       "<!-- 38 -->\n",
       "<g id=\"node12\" class=\"node\">\n",
       "<title>38</title>\n",
       "<path fill=\"#f5d0b6\" stroke=\"black\" d=\"M458,-149.5C458,-149.5 376,-149.5 376,-149.5 370,-149.5 364,-143.5 364,-137.5 364,-137.5 364,-108.5 364,-108.5 364,-102.5 370,-96.5 376,-96.5 376,-96.5 458,-96.5 458,-96.5 464,-96.5 470,-102.5 470,-108.5 470,-108.5 470,-137.5 470,-137.5 470,-143.5 464,-149.5 458,-149.5\"/>\n",
       "<text text-anchor=\"middle\" x=\"417\" y=\"-134.3\" font-family=\"Helvetica,sans-Serif\" font-size=\"14.00\">mse = 3.875</text>\n",
       "<text text-anchor=\"middle\" x=\"417\" y=\"-119.3\" font-family=\"Helvetica,sans-Serif\" font-size=\"14.00\">samples = 18</text>\n",
       "<text text-anchor=\"middle\" x=\"417\" y=\"-104.3\" font-family=\"Helvetica,sans-Serif\" font-size=\"14.00\">value = 24.922</text>\n",
       "</g>\n",
       "<!-- 16&#45;&gt;38 -->\n",
       "<g id=\"edge11\" class=\"edge\">\n",
       "<title>16&#45;&gt;38</title>\n",
       "<path fill=\"none\" stroke=\"black\" d=\"M378.51,-192.88C384.65,-181.89 391.51,-169.62 397.71,-158.52\"/>\n",
       "<polygon fill=\"black\" stroke=\"black\" points=\"400.92,-159.96 402.74,-149.52 394.81,-156.54 400.92,-159.96\"/>\n",
       "</g>\n",
       "<!-- 25 -->\n",
       "<g id=\"node14\" class=\"node\">\n",
       "<title>25</title>\n",
       "<path fill=\"#f0b78e\" stroke=\"black\" d=\"M582,-261C582,-261 500,-261 500,-261 494,-261 488,-255 488,-249 488,-249 488,-205 488,-205 488,-199 494,-193 500,-193 500,-193 582,-193 582,-193 588,-193 594,-199 594,-205 594,-205 594,-249 594,-249 594,-255 588,-261 582,-261\"/>\n",
       "<text text-anchor=\"middle\" x=\"541\" y=\"-245.8\" font-family=\"Helvetica,sans-Serif\" font-size=\"14.00\">TAX &lt;= 384.0</text>\n",
       "<text text-anchor=\"middle\" x=\"541\" y=\"-230.8\" font-family=\"Helvetica,sans-Serif\" font-size=\"14.00\">mse = 11.961</text>\n",
       "<text text-anchor=\"middle\" x=\"541\" y=\"-215.8\" font-family=\"Helvetica,sans-Serif\" font-size=\"14.00\">samples = 34</text>\n",
       "<text text-anchor=\"middle\" x=\"541\" y=\"-200.8\" font-family=\"Helvetica,sans-Serif\" font-size=\"14.00\">value = 32.906</text>\n",
       "</g>\n",
       "<!-- 10&#45;&gt;25 -->\n",
       "<g id=\"edge13\" class=\"edge\">\n",
       "<title>10&#45;&gt;25</title>\n",
       "<path fill=\"none\" stroke=\"black\" d=\"M541,-296.88C541,-288.78 541,-279.98 541,-271.47\"/>\n",
       "<polygon fill=\"black\" stroke=\"black\" points=\"544.5,-271.3 541,-261.3 537.5,-271.3 544.5,-271.3\"/>\n",
       "</g>\n",
       "<!-- 26 -->\n",
       "<g id=\"node19\" class=\"node\">\n",
       "<title>26</title>\n",
       "<path fill=\"#f6d2b8\" stroke=\"black\" d=\"M698,-253.5C698,-253.5 624,-253.5 624,-253.5 618,-253.5 612,-247.5 612,-241.5 612,-241.5 612,-212.5 612,-212.5 612,-206.5 618,-200.5 624,-200.5 624,-200.5 698,-200.5 698,-200.5 704,-200.5 710,-206.5 710,-212.5 710,-212.5 710,-241.5 710,-241.5 710,-247.5 704,-253.5 698,-253.5\"/>\n",
       "<text text-anchor=\"middle\" x=\"661\" y=\"-238.3\" font-family=\"Helvetica,sans-Serif\" font-size=\"14.00\">mse = 0.303</text>\n",
       "<text text-anchor=\"middle\" x=\"661\" y=\"-223.3\" font-family=\"Helvetica,sans-Serif\" font-size=\"14.00\">samples = 2</text>\n",
       "<text text-anchor=\"middle\" x=\"661\" y=\"-208.3\" font-family=\"Helvetica,sans-Serif\" font-size=\"14.00\">value = 24.45</text>\n",
       "</g>\n",
       "<!-- 10&#45;&gt;26 -->\n",
       "<g id=\"edge18\" class=\"edge\">\n",
       "<title>10&#45;&gt;26</title>\n",
       "<path fill=\"none\" stroke=\"black\" d=\"M579.96,-296.88C593.8,-285.12 609.36,-271.89 623.11,-260.2\"/>\n",
       "<polygon fill=\"black\" stroke=\"black\" points=\"625.62,-262.66 630.98,-253.52 621.09,-257.33 625.62,-262.66\"/>\n",
       "</g>\n",
       "<!-- 33 -->\n",
       "<g id=\"node15\" class=\"node\">\n",
       "<title>33</title>\n",
       "<path fill=\"#f0b990\" stroke=\"black\" d=\"M582,-157C582,-157 500,-157 500,-157 494,-157 488,-151 488,-145 488,-145 488,-101 488,-101 488,-95 494,-89 500,-89 500,-89 582,-89 582,-89 588,-89 594,-95 594,-101 594,-101 594,-145 594,-145 594,-151 588,-157 582,-157\"/>\n",
       "<text text-anchor=\"middle\" x=\"541\" y=\"-141.8\" font-family=\"Helvetica,sans-Serif\" font-size=\"14.00\">TAX &lt;= 264.5</text>\n",
       "<text text-anchor=\"middle\" x=\"541\" y=\"-126.8\" font-family=\"Helvetica,sans-Serif\" font-size=\"14.00\">mse = 9.959</text>\n",
       "<text text-anchor=\"middle\" x=\"541\" y=\"-111.8\" font-family=\"Helvetica,sans-Serif\" font-size=\"14.00\">samples = 31</text>\n",
       "<text text-anchor=\"middle\" x=\"541\" y=\"-96.8\" font-family=\"Helvetica,sans-Serif\" font-size=\"14.00\">value = 32.439</text>\n",
       "</g>\n",
       "<!-- 25&#45;&gt;33 -->\n",
       "<g id=\"edge14\" class=\"edge\">\n",
       "<title>25&#45;&gt;33</title>\n",
       "<path fill=\"none\" stroke=\"black\" d=\"M541,-192.88C541,-184.78 541,-175.98 541,-167.47\"/>\n",
       "<polygon fill=\"black\" stroke=\"black\" points=\"544.5,-167.3 541,-157.3 537.5,-167.3 544.5,-167.3\"/>\n",
       "</g>\n",
       "<!-- 34 -->\n",
       "<g id=\"node18\" class=\"node\">\n",
       "<title>34</title>\n",
       "<path fill=\"#eda876\" stroke=\"black\" d=\"M706,-149.5C706,-149.5 624,-149.5 624,-149.5 618,-149.5 612,-143.5 612,-137.5 612,-137.5 612,-108.5 612,-108.5 612,-102.5 618,-96.5 624,-96.5 624,-96.5 706,-96.5 706,-96.5 712,-96.5 718,-102.5 718,-108.5 718,-108.5 718,-137.5 718,-137.5 718,-143.5 712,-149.5 706,-149.5\"/>\n",
       "<text text-anchor=\"middle\" x=\"665\" y=\"-134.3\" font-family=\"Helvetica,sans-Serif\" font-size=\"14.00\">mse = 7.096</text>\n",
       "<text text-anchor=\"middle\" x=\"665\" y=\"-119.3\" font-family=\"Helvetica,sans-Serif\" font-size=\"14.00\">samples = 3</text>\n",
       "<text text-anchor=\"middle\" x=\"665\" y=\"-104.3\" font-family=\"Helvetica,sans-Serif\" font-size=\"14.00\">value = 37.733</text>\n",
       "</g>\n",
       "<!-- 25&#45;&gt;34 -->\n",
       "<g id=\"edge17\" class=\"edge\">\n",
       "<title>25&#45;&gt;34</title>\n",
       "<path fill=\"none\" stroke=\"black\" d=\"M581.26,-192.88C595.7,-181.01 611.94,-167.65 626.25,-155.88\"/>\n",
       "<polygon fill=\"black\" stroke=\"black\" points=\"628.48,-158.58 633.98,-149.52 624.03,-153.17 628.48,-158.58\"/>\n",
       "</g>\n",
       "<!-- 35 -->\n",
       "<g id=\"node16\" class=\"node\">\n",
       "<title>35</title>\n",
       "<path fill=\"#efb387\" stroke=\"black\" d=\"M518,-53C518,-53 444,-53 444,-53 438,-53 432,-47 432,-41 432,-41 432,-12 432,-12 432,-6 438,0 444,0 444,0 518,0 518,0 524,0 530,-6 530,-12 530,-12 530,-41 530,-41 530,-47 524,-53 518,-53\"/>\n",
       "<text text-anchor=\"middle\" x=\"481\" y=\"-37.8\" font-family=\"Helvetica,sans-Serif\" font-size=\"14.00\">mse = 6.609</text>\n",
       "<text text-anchor=\"middle\" x=\"481\" y=\"-22.8\" font-family=\"Helvetica,sans-Serif\" font-size=\"14.00\">samples = 15</text>\n",
       "<text text-anchor=\"middle\" x=\"481\" y=\"-7.8\" font-family=\"Helvetica,sans-Serif\" font-size=\"14.00\">value = 34.26</text>\n",
       "</g>\n",
       "<!-- 33&#45;&gt;35 -->\n",
       "<g id=\"edge15\" class=\"edge\">\n",
       "<title>33&#45;&gt;35</title>\n",
       "<path fill=\"none\" stroke=\"black\" d=\"M520.01,-88.95C514.44,-80.17 508.41,-70.66 502.79,-61.82\"/>\n",
       "<polygon fill=\"black\" stroke=\"black\" points=\"505.66,-59.8 497.34,-53.24 499.75,-63.55 505.66,-59.8\"/>\n",
       "</g>\n",
       "<!-- 36 -->\n",
       "<g id=\"node17\" class=\"node\">\n",
       "<title>36</title>\n",
       "<path fill=\"#f2be99\" stroke=\"black\" d=\"M642,-53C642,-53 560,-53 560,-53 554,-53 548,-47 548,-41 548,-41 548,-12 548,-12 548,-6 554,0 560,0 560,0 642,0 642,0 648,0 654,-6 654,-12 654,-12 654,-41 654,-41 654,-47 648,-53 642,-53\"/>\n",
       "<text text-anchor=\"middle\" x=\"601\" y=\"-37.8\" font-family=\"Helvetica,sans-Serif\" font-size=\"14.00\">mse = 7.073</text>\n",
       "<text text-anchor=\"middle\" x=\"601\" y=\"-22.8\" font-family=\"Helvetica,sans-Serif\" font-size=\"14.00\">samples = 16</text>\n",
       "<text text-anchor=\"middle\" x=\"601\" y=\"-7.8\" font-family=\"Helvetica,sans-Serif\" font-size=\"14.00\">value = 30.731</text>\n",
       "</g>\n",
       "<!-- 33&#45;&gt;36 -->\n",
       "<g id=\"edge16\" class=\"edge\">\n",
       "<title>33&#45;&gt;36</title>\n",
       "<path fill=\"none\" stroke=\"black\" d=\"M561.99,-88.95C567.56,-80.17 573.59,-70.66 579.21,-61.82\"/>\n",
       "<polygon fill=\"black\" stroke=\"black\" points=\"582.25,-63.55 584.66,-53.24 576.34,-59.8 582.25,-63.55\"/>\n",
       "</g>\n",
       "<!-- 11 -->\n",
       "<g id=\"node21\" class=\"node\">\n",
       "<title>11</title>\n",
       "<path fill=\"#e78b48\" stroke=\"black\" d=\"M699,-461.5C699,-461.5 617,-461.5 617,-461.5 611,-461.5 605,-455.5 605,-449.5 605,-449.5 605,-420.5 605,-420.5 605,-414.5 611,-408.5 617,-408.5 617,-408.5 699,-408.5 699,-408.5 705,-408.5 711,-414.5 711,-420.5 711,-420.5 711,-449.5 711,-449.5 711,-455.5 705,-461.5 699,-461.5\"/>\n",
       "<text text-anchor=\"middle\" x=\"658\" y=\"-446.3\" font-family=\"Helvetica,sans-Serif\" font-size=\"14.00\">mse = 12.546</text>\n",
       "<text text-anchor=\"middle\" x=\"658\" y=\"-431.3\" font-family=\"Helvetica,sans-Serif\" font-size=\"14.00\">samples = 17</text>\n",
       "<text text-anchor=\"middle\" x=\"658\" y=\"-416.3\" font-family=\"Helvetica,sans-Serif\" font-size=\"14.00\">value = 46.912</text>\n",
       "</g>\n",
       "<!-- 4&#45;&gt;11 -->\n",
       "<g id=\"edge20\" class=\"edge\">\n",
       "<title>4&#45;&gt;11</title>\n",
       "<path fill=\"none\" stroke=\"black\" d=\"M722.16,-504.88C711.4,-493.34 699.34,-480.39 688.61,-468.86\"/>\n",
       "<polygon fill=\"black\" stroke=\"black\" points=\"691.15,-466.45 681.77,-461.52 686.02,-471.22 691.15,-466.45\"/>\n",
       "</g>\n",
       "<!-- 12 -->\n",
       "<g id=\"node22\" class=\"node\">\n",
       "<title>12</title>\n",
       "<path fill=\"#f3c5a4\" stroke=\"black\" d=\"M827,-469C827,-469 741,-469 741,-469 735,-469 729,-463 729,-457 729,-457 729,-413 729,-413 729,-407 735,-401 741,-401 741,-401 827,-401 827,-401 833,-401 839,-407 839,-413 839,-413 839,-457 839,-457 839,-463 833,-469 827,-469\"/>\n",
       "<text text-anchor=\"middle\" x=\"784\" y=\"-453.8\" font-family=\"Helvetica,sans-Serif\" font-size=\"14.00\">CRIM &lt;= 1.848</text>\n",
       "<text text-anchor=\"middle\" x=\"784\" y=\"-438.8\" font-family=\"Helvetica,sans-Serif\" font-size=\"14.00\">mse = 44.223</text>\n",
       "<text text-anchor=\"middle\" x=\"784\" y=\"-423.8\" font-family=\"Helvetica,sans-Serif\" font-size=\"14.00\">samples = 2</text>\n",
       "<text text-anchor=\"middle\" x=\"784\" y=\"-408.8\" font-family=\"Helvetica,sans-Serif\" font-size=\"14.00\">value = 28.55</text>\n",
       "</g>\n",
       "<!-- 4&#45;&gt;12 -->\n",
       "<g id=\"edge21\" class=\"edge\">\n",
       "<title>4&#45;&gt;12</title>\n",
       "<path fill=\"none\" stroke=\"black\" d=\"M763.06,-504.88C765.58,-496.6 768.32,-487.6 770.96,-478.91\"/>\n",
       "<polygon fill=\"black\" stroke=\"black\" points=\"774.32,-479.89 773.88,-469.3 767.62,-477.85 774.32,-479.89\"/>\n",
       "</g>\n",
       "<!-- 29 -->\n",
       "<g id=\"node23\" class=\"node\">\n",
       "<title>29</title>\n",
       "<path fill=\"#efb083\" stroke=\"black\" d=\"M714.5,-357.5C714.5,-357.5 647.5,-357.5 647.5,-357.5 641.5,-357.5 635.5,-351.5 635.5,-345.5 635.5,-345.5 635.5,-316.5 635.5,-316.5 635.5,-310.5 641.5,-304.5 647.5,-304.5 647.5,-304.5 714.5,-304.5 714.5,-304.5 720.5,-304.5 726.5,-310.5 726.5,-316.5 726.5,-316.5 726.5,-345.5 726.5,-345.5 726.5,-351.5 720.5,-357.5 714.5,-357.5\"/>\n",
       "<text text-anchor=\"middle\" x=\"681\" y=\"-342.3\" font-family=\"Helvetica,sans-Serif\" font-size=\"14.00\">mse = 0.0</text>\n",
       "<text text-anchor=\"middle\" x=\"681\" y=\"-327.3\" font-family=\"Helvetica,sans-Serif\" font-size=\"14.00\">samples = 1</text>\n",
       "<text text-anchor=\"middle\" x=\"681\" y=\"-312.3\" font-family=\"Helvetica,sans-Serif\" font-size=\"14.00\">value = 35.2</text>\n",
       "</g>\n",
       "<!-- 12&#45;&gt;29 -->\n",
       "<g id=\"edge22\" class=\"edge\">\n",
       "<title>12&#45;&gt;29</title>\n",
       "<path fill=\"none\" stroke=\"black\" d=\"M750.56,-400.88C738.9,-389.34 725.82,-376.39 714.18,-364.86\"/>\n",
       "<polygon fill=\"black\" stroke=\"black\" points=\"716.34,-362.07 706.77,-357.52 711.41,-367.04 716.34,-362.07\"/>\n",
       "</g>\n",
       "<!-- 30 -->\n",
       "<g id=\"node24\" class=\"node\">\n",
       "<title>30</title>\n",
       "<path fill=\"#f7dac5\" stroke=\"black\" d=\"M823.5,-357.5C823.5,-357.5 756.5,-357.5 756.5,-357.5 750.5,-357.5 744.5,-351.5 744.5,-345.5 744.5,-345.5 744.5,-316.5 744.5,-316.5 744.5,-310.5 750.5,-304.5 756.5,-304.5 756.5,-304.5 823.5,-304.5 823.5,-304.5 829.5,-304.5 835.5,-310.5 835.5,-316.5 835.5,-316.5 835.5,-345.5 835.5,-345.5 835.5,-351.5 829.5,-357.5 823.5,-357.5\"/>\n",
       "<text text-anchor=\"middle\" x=\"790\" y=\"-342.3\" font-family=\"Helvetica,sans-Serif\" font-size=\"14.00\">mse = &#45;0.0</text>\n",
       "<text text-anchor=\"middle\" x=\"790\" y=\"-327.3\" font-family=\"Helvetica,sans-Serif\" font-size=\"14.00\">samples = 1</text>\n",
       "<text text-anchor=\"middle\" x=\"790\" y=\"-312.3\" font-family=\"Helvetica,sans-Serif\" font-size=\"14.00\">value = 21.9</text>\n",
       "</g>\n",
       "<!-- 12&#45;&gt;30 -->\n",
       "<g id=\"edge23\" class=\"edge\">\n",
       "<title>12&#45;&gt;30</title>\n",
       "<path fill=\"none\" stroke=\"black\" d=\"M785.95,-400.88C786.58,-390.22 787.27,-378.35 787.91,-367.52\"/>\n",
       "<polygon fill=\"black\" stroke=\"black\" points=\"791.41,-367.71 788.5,-357.52 784.42,-367.3 791.41,-367.71\"/>\n",
       "</g>\n",
       "<!-- 7 -->\n",
       "<g id=\"node26\" class=\"node\">\n",
       "<title>7</title>\n",
       "<path fill=\"#f8dfcc\" stroke=\"black\" d=\"M982,-573C982,-573 900,-573 900,-573 894,-573 888,-567 888,-561 888,-561 888,-517 888,-517 888,-511 894,-505 900,-505 900,-505 982,-505 982,-505 988,-505 994,-511 994,-517 994,-517 994,-561 994,-561 994,-567 988,-573 982,-573\"/>\n",
       "<text text-anchor=\"middle\" x=\"941\" y=\"-557.8\" font-family=\"Helvetica,sans-Serif\" font-size=\"14.00\">B &lt;= 116.025</text>\n",
       "<text text-anchor=\"middle\" x=\"941\" y=\"-542.8\" font-family=\"Helvetica,sans-Serif\" font-size=\"14.00\">mse = 10.347</text>\n",
       "<text text-anchor=\"middle\" x=\"941\" y=\"-527.8\" font-family=\"Helvetica,sans-Serif\" font-size=\"14.00\">samples = 115</text>\n",
       "<text text-anchor=\"middle\" x=\"941\" y=\"-512.8\" font-family=\"Helvetica,sans-Serif\" font-size=\"14.00\">value = 20.39</text>\n",
       "</g>\n",
       "<!-- 2&#45;&gt;7 -->\n",
       "<g id=\"edge25\" class=\"edge\">\n",
       "<title>2&#45;&gt;7</title>\n",
       "<path fill=\"none\" stroke=\"black\" d=\"M941,-608.88C941,-600.78 941,-591.98 941,-583.47\"/>\n",
       "<polygon fill=\"black\" stroke=\"black\" points=\"944.5,-583.3 941,-573.3 937.5,-583.3 944.5,-583.3\"/>\n",
       "</g>\n",
       "<!-- 8 -->\n",
       "<g id=\"node31\" class=\"node\">\n",
       "<title>8</title>\n",
       "<path fill=\"#fcf3ec\" stroke=\"black\" d=\"M1258,-573C1258,-573 1176,-573 1176,-573 1170,-573 1164,-567 1164,-561 1164,-561 1164,-517 1164,-517 1164,-511 1170,-505 1176,-505 1176,-505 1258,-505 1258,-505 1264,-505 1270,-511 1270,-517 1270,-517 1270,-561 1270,-561 1270,-567 1264,-573 1258,-573\"/>\n",
       "<text text-anchor=\"middle\" x=\"1217\" y=\"-557.8\" font-family=\"Helvetica,sans-Serif\" font-size=\"14.00\">DIS &lt;= 2.004</text>\n",
       "<text text-anchor=\"middle\" x=\"1217\" y=\"-542.8\" font-family=\"Helvetica,sans-Serif\" font-size=\"14.00\">mse = 15.019</text>\n",
       "<text text-anchor=\"middle\" x=\"1217\" y=\"-527.8\" font-family=\"Helvetica,sans-Serif\" font-size=\"14.00\">samples = 95</text>\n",
       "<text text-anchor=\"middle\" x=\"1217\" y=\"-512.8\" font-family=\"Helvetica,sans-Serif\" font-size=\"14.00\">value = 14.075</text>\n",
       "</g>\n",
       "<!-- 2&#45;&gt;8 -->\n",
       "<g id=\"edge30\" class=\"edge\">\n",
       "<title>2&#45;&gt;8</title>\n",
       "<path fill=\"none\" stroke=\"black\" d=\"M999.2,-620.49C1044.52,-603.74 1107.36,-580.52 1153.89,-563.32\"/>\n",
       "<polygon fill=\"black\" stroke=\"black\" points=\"1155.39,-566.5 1163.56,-559.75 1152.97,-559.93 1155.39,-566.5\"/>\n",
       "</g>\n",
       "<!-- 17 -->\n",
       "<g id=\"node27\" class=\"node\">\n",
       "<title>17</title>\n",
       "<path fill=\"#fcf1ea\" stroke=\"black\" d=\"M951,-461.5C951,-461.5 869,-461.5 869,-461.5 863,-461.5 857,-455.5 857,-449.5 857,-449.5 857,-420.5 857,-420.5 857,-414.5 863,-408.5 869,-408.5 869,-408.5 951,-408.5 951,-408.5 957,-408.5 963,-414.5 963,-420.5 963,-420.5 963,-449.5 963,-449.5 963,-455.5 957,-461.5 951,-461.5\"/>\n",
       "<text text-anchor=\"middle\" x=\"910\" y=\"-446.3\" font-family=\"Helvetica,sans-Serif\" font-size=\"14.00\">mse = 7.859</text>\n",
       "<text text-anchor=\"middle\" x=\"910\" y=\"-431.3\" font-family=\"Helvetica,sans-Serif\" font-size=\"14.00\">samples = 6</text>\n",
       "<text text-anchor=\"middle\" x=\"910\" y=\"-416.3\" font-family=\"Helvetica,sans-Serif\" font-size=\"14.00\">value = 14.533</text>\n",
       "</g>\n",
       "<!-- 7&#45;&gt;17 -->\n",
       "<g id=\"edge26\" class=\"edge\">\n",
       "<title>7&#45;&gt;17</title>\n",
       "<path fill=\"none\" stroke=\"black\" d=\"M930.94,-504.88C927.66,-494.11 924.01,-482.11 920.69,-471.18\"/>\n",
       "<polygon fill=\"black\" stroke=\"black\" points=\"924.01,-470.07 917.76,-461.52 917.32,-472.11 924.01,-470.07\"/>\n",
       "</g>\n",
       "<!-- 18 -->\n",
       "<g id=\"node28\" class=\"node\">\n",
       "<title>18</title>\n",
       "<path fill=\"#f8decb\" stroke=\"black\" d=\"M1075,-469C1075,-469 993,-469 993,-469 987,-469 981,-463 981,-457 981,-457 981,-413 981,-413 981,-407 987,-401 993,-401 993,-401 1075,-401 1075,-401 1081,-401 1087,-407 1087,-413 1087,-413 1087,-457 1087,-457 1087,-463 1081,-469 1075,-469\"/>\n",
       "<text text-anchor=\"middle\" x=\"1034\" y=\"-453.8\" font-family=\"Helvetica,sans-Serif\" font-size=\"14.00\">RM &lt;= 6.696</text>\n",
       "<text text-anchor=\"middle\" x=\"1034\" y=\"-438.8\" font-family=\"Helvetica,sans-Serif\" font-size=\"14.00\">mse = 8.492</text>\n",
       "<text text-anchor=\"middle\" x=\"1034\" y=\"-423.8\" font-family=\"Helvetica,sans-Serif\" font-size=\"14.00\">samples = 109</text>\n",
       "<text text-anchor=\"middle\" x=\"1034\" y=\"-408.8\" font-family=\"Helvetica,sans-Serif\" font-size=\"14.00\">value = 20.712</text>\n",
       "</g>\n",
       "<!-- 7&#45;&gt;18 -->\n",
       "<g id=\"edge27\" class=\"edge\">\n",
       "<title>7&#45;&gt;18</title>\n",
       "<path fill=\"none\" stroke=\"black\" d=\"M971.19,-504.88C979.32,-495.98 988.2,-486.24 996.66,-476.96\"/>\n",
       "<polygon fill=\"black\" stroke=\"black\" points=\"999.49,-479.05 1003.64,-469.3 994.31,-474.33 999.49,-479.05\"/>\n",
       "</g>\n",
       "<!-- 19 -->\n",
       "<g id=\"node29\" class=\"node\">\n",
       "<title>19</title>\n",
       "<path fill=\"#f8dfcc\" stroke=\"black\" d=\"M954,-357.5C954,-357.5 872,-357.5 872,-357.5 866,-357.5 860,-351.5 860,-345.5 860,-345.5 860,-316.5 860,-316.5 860,-310.5 866,-304.5 872,-304.5 872,-304.5 954,-304.5 954,-304.5 960,-304.5 966,-310.5 966,-316.5 966,-316.5 966,-345.5 966,-345.5 966,-351.5 960,-357.5 954,-357.5\"/>\n",
       "<text text-anchor=\"middle\" x=\"913\" y=\"-342.3\" font-family=\"Helvetica,sans-Serif\" font-size=\"14.00\">mse = 6.558</text>\n",
       "<text text-anchor=\"middle\" x=\"913\" y=\"-327.3\" font-family=\"Helvetica,sans-Serif\" font-size=\"14.00\">samples = 105</text>\n",
       "<text text-anchor=\"middle\" x=\"913\" y=\"-312.3\" font-family=\"Helvetica,sans-Serif\" font-size=\"14.00\">value = 20.453</text>\n",
       "</g>\n",
       "<!-- 18&#45;&gt;19 -->\n",
       "<g id=\"edge28\" class=\"edge\">\n",
       "<title>18&#45;&gt;19</title>\n",
       "<path fill=\"none\" stroke=\"black\" d=\"M994.71,-400.88C980.76,-389.12 965.07,-375.89 951.2,-364.2\"/>\n",
       "<polygon fill=\"black\" stroke=\"black\" points=\"953.18,-361.29 943.27,-357.52 948.66,-366.64 953.18,-361.29\"/>\n",
       "</g>\n",
       "<!-- 20 -->\n",
       "<g id=\"node30\" class=\"node\">\n",
       "<title>20</title>\n",
       "<path fill=\"#f4c8a9\" stroke=\"black\" d=\"M1072,-357.5C1072,-357.5 996,-357.5 996,-357.5 990,-357.5 984,-351.5 984,-345.5 984,-345.5 984,-316.5 984,-316.5 984,-310.5 990,-304.5 996,-304.5 996,-304.5 1072,-304.5 1072,-304.5 1078,-304.5 1084,-310.5 1084,-316.5 1084,-316.5 1084,-345.5 1084,-345.5 1084,-351.5 1078,-357.5 1072,-357.5\"/>\n",
       "<text text-anchor=\"middle\" x=\"1034\" y=\"-342.3\" font-family=\"Helvetica,sans-Serif\" font-size=\"14.00\">mse = 11.445</text>\n",
       "<text text-anchor=\"middle\" x=\"1034\" y=\"-327.3\" font-family=\"Helvetica,sans-Serif\" font-size=\"14.00\">samples = 4</text>\n",
       "<text text-anchor=\"middle\" x=\"1034\" y=\"-312.3\" font-family=\"Helvetica,sans-Serif\" font-size=\"14.00\">value = 27.5</text>\n",
       "</g>\n",
       "<!-- 18&#45;&gt;20 -->\n",
       "<g id=\"edge29\" class=\"edge\">\n",
       "<title>18&#45;&gt;20</title>\n",
       "<path fill=\"none\" stroke=\"black\" d=\"M1034,-400.88C1034,-390.33 1034,-378.6 1034,-367.85\"/>\n",
       "<polygon fill=\"black\" stroke=\"black\" points=\"1037.5,-367.52 1034,-357.52 1030.5,-367.52 1037.5,-367.52\"/>\n",
       "</g>\n",
       "<!-- 13 -->\n",
       "<g id=\"node32\" class=\"node\">\n",
       "<title>13</title>\n",
       "<path fill=\"#fefaf7\" stroke=\"black\" d=\"M1258,-469C1258,-469 1176,-469 1176,-469 1170,-469 1164,-463 1164,-457 1164,-457 1164,-413 1164,-413 1164,-407 1170,-401 1176,-401 1176,-401 1258,-401 1258,-401 1264,-401 1270,-407 1270,-413 1270,-413 1270,-457 1270,-457 1270,-463 1264,-469 1258,-469\"/>\n",
       "<text text-anchor=\"middle\" x=\"1217\" y=\"-453.8\" font-family=\"Helvetica,sans-Serif\" font-size=\"14.00\">TAX &lt;= 551.5</text>\n",
       "<text text-anchor=\"middle\" x=\"1217\" y=\"-438.8\" font-family=\"Helvetica,sans-Serif\" font-size=\"14.00\">mse = 10.93</text>\n",
       "<text text-anchor=\"middle\" x=\"1217\" y=\"-423.8\" font-family=\"Helvetica,sans-Serif\" font-size=\"14.00\">samples = 48</text>\n",
       "<text text-anchor=\"middle\" x=\"1217\" y=\"-408.8\" font-family=\"Helvetica,sans-Serif\" font-size=\"14.00\">value = 11.779</text>\n",
       "</g>\n",
       "<!-- 8&#45;&gt;13 -->\n",
       "<g id=\"edge31\" class=\"edge\">\n",
       "<title>8&#45;&gt;13</title>\n",
       "<path fill=\"none\" stroke=\"black\" d=\"M1217,-504.88C1217,-496.78 1217,-487.98 1217,-479.47\"/>\n",
       "<polygon fill=\"black\" stroke=\"black\" points=\"1220.5,-479.3 1217,-469.3 1213.5,-479.3 1220.5,-479.3\"/>\n",
       "</g>\n",
       "<!-- 14 -->\n",
       "<g id=\"node37\" class=\"node\">\n",
       "<title>14</title>\n",
       "<path fill=\"#fbebe0\" stroke=\"black\" d=\"M1446,-469C1446,-469 1360,-469 1360,-469 1354,-469 1348,-463 1348,-457 1348,-457 1348,-413 1348,-413 1348,-407 1354,-401 1360,-401 1360,-401 1446,-401 1446,-401 1452,-401 1458,-407 1458,-413 1458,-413 1458,-457 1458,-457 1458,-463 1452,-469 1446,-469\"/>\n",
       "<text text-anchor=\"middle\" x=\"1403\" y=\"-453.8\" font-family=\"Helvetica,sans-Serif\" font-size=\"14.00\">CRIM &lt;= 0.767</text>\n",
       "<text text-anchor=\"middle\" x=\"1403\" y=\"-438.8\" font-family=\"Helvetica,sans-Serif\" font-size=\"14.00\">mse = 8.317</text>\n",
       "<text text-anchor=\"middle\" x=\"1403\" y=\"-423.8\" font-family=\"Helvetica,sans-Serif\" font-size=\"14.00\">samples = 47</text>\n",
       "<text text-anchor=\"middle\" x=\"1403\" y=\"-408.8\" font-family=\"Helvetica,sans-Serif\" font-size=\"14.00\">value = 16.419</text>\n",
       "</g>\n",
       "<!-- 8&#45;&gt;14 -->\n",
       "<g id=\"edge36\" class=\"edge\">\n",
       "<title>8&#45;&gt;14</title>\n",
       "<path fill=\"none\" stroke=\"black\" d=\"M1270.3,-508.77C1291.72,-497.03 1316.59,-483.38 1338.98,-471.11\"/>\n",
       "<polygon fill=\"black\" stroke=\"black\" points=\"1340.67,-474.18 1347.75,-466.3 1337.3,-468.04 1340.67,-474.18\"/>\n",
       "</g>\n",
       "<!-- 21 -->\n",
       "<g id=\"node33\" class=\"node\">\n",
       "<title>21</title>\n",
       "<path fill=\"#fcf0e7\" stroke=\"black\" d=\"M1196,-357.5C1196,-357.5 1114,-357.5 1114,-357.5 1108,-357.5 1102,-351.5 1102,-345.5 1102,-345.5 1102,-316.5 1102,-316.5 1102,-310.5 1108,-304.5 1114,-304.5 1114,-304.5 1196,-304.5 1196,-304.5 1202,-304.5 1208,-310.5 1208,-316.5 1208,-316.5 1208,-345.5 1208,-345.5 1208,-351.5 1202,-357.5 1196,-357.5\"/>\n",
       "<text text-anchor=\"middle\" x=\"1155\" y=\"-342.3\" font-family=\"Helvetica,sans-Serif\" font-size=\"14.00\">mse = 2.871</text>\n",
       "<text text-anchor=\"middle\" x=\"1155\" y=\"-327.3\" font-family=\"Helvetica,sans-Serif\" font-size=\"14.00\">samples = 11</text>\n",
       "<text text-anchor=\"middle\" x=\"1155\" y=\"-312.3\" font-family=\"Helvetica,sans-Serif\" font-size=\"14.00\">value = 15.082</text>\n",
       "</g>\n",
       "<!-- 13&#45;&gt;21 -->\n",
       "<g id=\"edge32\" class=\"edge\">\n",
       "<title>13&#45;&gt;21</title>\n",
       "<path fill=\"none\" stroke=\"black\" d=\"M1196.87,-400.88C1190.12,-389.78 1182.58,-377.37 1175.78,-366.18\"/>\n",
       "<polygon fill=\"black\" stroke=\"black\" points=\"1178.7,-364.25 1170.51,-357.52 1172.72,-367.88 1178.7,-364.25\"/>\n",
       "</g>\n",
       "<!-- 22 -->\n",
       "<g id=\"node34\" class=\"node\">\n",
       "<title>22</title>\n",
       "<path fill=\"#fffdfc\" stroke=\"black\" d=\"M1320,-365C1320,-365 1238,-365 1238,-365 1232,-365 1226,-359 1226,-353 1226,-353 1226,-309 1226,-309 1226,-303 1232,-297 1238,-297 1238,-297 1320,-297 1320,-297 1326,-297 1332,-303 1332,-309 1332,-309 1332,-353 1332,-353 1332,-359 1326,-365 1320,-365\"/>\n",
       "<text text-anchor=\"middle\" x=\"1279\" y=\"-349.8\" font-family=\"Helvetica,sans-Serif\" font-size=\"14.00\">NOX &lt;= 0.603</text>\n",
       "<text text-anchor=\"middle\" x=\"1279\" y=\"-334.8\" font-family=\"Helvetica,sans-Serif\" font-size=\"14.00\">mse = 9.12</text>\n",
       "<text text-anchor=\"middle\" x=\"1279\" y=\"-319.8\" font-family=\"Helvetica,sans-Serif\" font-size=\"14.00\">samples = 37</text>\n",
       "<text text-anchor=\"middle\" x=\"1279\" y=\"-304.8\" font-family=\"Helvetica,sans-Serif\" font-size=\"14.00\">value = 10.797</text>\n",
       "</g>\n",
       "<!-- 13&#45;&gt;22 -->\n",
       "<g id=\"edge33\" class=\"edge\">\n",
       "<title>13&#45;&gt;22</title>\n",
       "<path fill=\"none\" stroke=\"black\" d=\"M1237.13,-400.88C1242.33,-392.33 1247.99,-383.01 1253.43,-374.07\"/>\n",
       "<polygon fill=\"black\" stroke=\"black\" points=\"1256.56,-375.66 1258.76,-365.3 1250.57,-372.03 1256.56,-375.66\"/>\n",
       "</g>\n",
       "<!-- 27 -->\n",
       "<g id=\"node35\" class=\"node\">\n",
       "<title>27</title>\n",
       "<path fill=\"#fae9dd\" stroke=\"black\" d=\"M1258,-253.5C1258,-253.5 1176,-253.5 1176,-253.5 1170,-253.5 1164,-247.5 1164,-241.5 1164,-241.5 1164,-212.5 1164,-212.5 1164,-206.5 1170,-200.5 1176,-200.5 1176,-200.5 1258,-200.5 1258,-200.5 1264,-200.5 1270,-206.5 1270,-212.5 1270,-212.5 1270,-241.5 1270,-241.5 1270,-247.5 1264,-253.5 1258,-253.5\"/>\n",
       "<text text-anchor=\"middle\" x=\"1217\" y=\"-238.3\" font-family=\"Helvetica,sans-Serif\" font-size=\"14.00\">mse = 0.429</text>\n",
       "<text text-anchor=\"middle\" x=\"1217\" y=\"-223.3\" font-family=\"Helvetica,sans-Serif\" font-size=\"14.00\">samples = 3</text>\n",
       "<text text-anchor=\"middle\" x=\"1217\" y=\"-208.3\" font-family=\"Helvetica,sans-Serif\" font-size=\"14.00\">value = 17.133</text>\n",
       "</g>\n",
       "<!-- 22&#45;&gt;27 -->\n",
       "<g id=\"edge34\" class=\"edge\">\n",
       "<title>22&#45;&gt;27</title>\n",
       "<path fill=\"none\" stroke=\"black\" d=\"M1258.87,-296.88C1252.12,-285.78 1244.58,-273.37 1237.78,-262.18\"/>\n",
       "<polygon fill=\"black\" stroke=\"black\" points=\"1240.7,-260.25 1232.51,-253.52 1234.72,-263.88 1240.7,-260.25\"/>\n",
       "</g>\n",
       "<!-- 28 -->\n",
       "<g id=\"node36\" class=\"node\">\n",
       "<title>28</title>\n",
       "<path fill=\"#ffffff\" stroke=\"black\" d=\"M1382,-253.5C1382,-253.5 1300,-253.5 1300,-253.5 1294,-253.5 1288,-247.5 1288,-241.5 1288,-241.5 1288,-212.5 1288,-212.5 1288,-206.5 1294,-200.5 1300,-200.5 1300,-200.5 1382,-200.5 1382,-200.5 1388,-200.5 1394,-206.5 1394,-212.5 1394,-212.5 1394,-241.5 1394,-241.5 1394,-247.5 1388,-253.5 1382,-253.5\"/>\n",
       "<text text-anchor=\"middle\" x=\"1341\" y=\"-238.3\" font-family=\"Helvetica,sans-Serif\" font-size=\"14.00\">mse = 6.032</text>\n",
       "<text text-anchor=\"middle\" x=\"1341\" y=\"-223.3\" font-family=\"Helvetica,sans-Serif\" font-size=\"14.00\">samples = 34</text>\n",
       "<text text-anchor=\"middle\" x=\"1341\" y=\"-208.3\" font-family=\"Helvetica,sans-Serif\" font-size=\"14.00\">value = 10.238</text>\n",
       "</g>\n",
       "<!-- 22&#45;&gt;28 -->\n",
       "<g id=\"edge35\" class=\"edge\">\n",
       "<title>22&#45;&gt;28</title>\n",
       "<path fill=\"none\" stroke=\"black\" d=\"M1299.13,-296.88C1305.88,-285.78 1313.42,-273.37 1320.22,-262.18\"/>\n",
       "<polygon fill=\"black\" stroke=\"black\" points=\"1323.28,-263.88 1325.49,-253.52 1317.3,-260.25 1323.28,-263.88\"/>\n",
       "</g>\n",
       "<!-- 23 -->\n",
       "<g id=\"node38\" class=\"node\">\n",
       "<title>23</title>\n",
       "<path fill=\"#f9e4d4\" stroke=\"black\" d=\"M1444,-357.5C1444,-357.5 1362,-357.5 1362,-357.5 1356,-357.5 1350,-351.5 1350,-345.5 1350,-345.5 1350,-316.5 1350,-316.5 1350,-310.5 1356,-304.5 1362,-304.5 1362,-304.5 1444,-304.5 1444,-304.5 1450,-304.5 1456,-310.5 1456,-316.5 1456,-316.5 1456,-345.5 1456,-345.5 1456,-351.5 1450,-357.5 1444,-357.5\"/>\n",
       "<text text-anchor=\"middle\" x=\"1403\" y=\"-342.3\" font-family=\"Helvetica,sans-Serif\" font-size=\"14.00\">mse = 6.193</text>\n",
       "<text text-anchor=\"middle\" x=\"1403\" y=\"-327.3\" font-family=\"Helvetica,sans-Serif\" font-size=\"14.00\">samples = 16</text>\n",
       "<text text-anchor=\"middle\" x=\"1403\" y=\"-312.3\" font-family=\"Helvetica,sans-Serif\" font-size=\"14.00\">value = 18.831</text>\n",
       "</g>\n",
       "<!-- 14&#45;&gt;23 -->\n",
       "<g id=\"edge37\" class=\"edge\">\n",
       "<title>14&#45;&gt;23</title>\n",
       "<path fill=\"none\" stroke=\"black\" d=\"M1403,-400.88C1403,-390.33 1403,-378.6 1403,-367.85\"/>\n",
       "<polygon fill=\"black\" stroke=\"black\" points=\"1406.5,-367.52 1403,-357.52 1399.5,-367.52 1406.5,-367.52\"/>\n",
       "</g>\n",
       "<!-- 24 -->\n",
       "<g id=\"node39\" class=\"node\">\n",
       "<title>24</title>\n",
       "<path fill=\"#fcefe6\" stroke=\"black\" d=\"M1568,-357.5C1568,-357.5 1486,-357.5 1486,-357.5 1480,-357.5 1474,-351.5 1474,-345.5 1474,-345.5 1474,-316.5 1474,-316.5 1474,-310.5 1480,-304.5 1486,-304.5 1486,-304.5 1568,-304.5 1568,-304.5 1574,-304.5 1580,-310.5 1580,-316.5 1580,-316.5 1580,-345.5 1580,-345.5 1580,-351.5 1574,-357.5 1568,-357.5\"/>\n",
       "<text text-anchor=\"middle\" x=\"1527\" y=\"-342.3\" font-family=\"Helvetica,sans-Serif\" font-size=\"14.00\">mse = 4.861</text>\n",
       "<text text-anchor=\"middle\" x=\"1527\" y=\"-327.3\" font-family=\"Helvetica,sans-Serif\" font-size=\"14.00\">samples = 31</text>\n",
       "<text text-anchor=\"middle\" x=\"1527\" y=\"-312.3\" font-family=\"Helvetica,sans-Serif\" font-size=\"14.00\">value = 15.174</text>\n",
       "</g>\n",
       "<!-- 14&#45;&gt;24 -->\n",
       "<g id=\"edge38\" class=\"edge\">\n",
       "<title>14&#45;&gt;24</title>\n",
       "<path fill=\"none\" stroke=\"black\" d=\"M1443.26,-400.88C1457.7,-389.01 1473.94,-375.65 1488.25,-363.88\"/>\n",
       "<polygon fill=\"black\" stroke=\"black\" points=\"1490.48,-366.58 1495.98,-357.52 1486.03,-361.17 1490.48,-366.58\"/>\n",
       "</g>\n",
       "</g>\n",
       "</svg>\n"
      ],
      "text/plain": [
       "<graphviz.files.Source at 0x7f17c46ba690>"
      ]
     },
     "execution_count": 18,
     "metadata": {},
     "output_type": "execute_result"
    },
    {
     "data": {
      "text/plain": [
       "<Figure size 1440x1440 with 0 Axes>"
      ]
     },
     "metadata": {},
     "output_type": "display_data"
    }
   ],
   "source": [
    "plt.figure(figsize = (20,20))\n",
    "dot_data = tree.export_graphviz(model, out_file=None, \n",
    "                                feature_names=names,  \n",
    "                                class_names=boston_dataset.target,\n",
    "                                filled=True, rounded= True)\n",
    "\n",
    "# Draw graph\n",
    "graph = graphviz.Source(dot_data, format=\"png\") \n",
    "graph"
   ]
  },
  {
   "cell_type": "markdown",
   "metadata": {
    "papermill": {
     "duration": 0.123843,
     "end_time": "2021-03-25T14:49:49.476917",
     "exception": false,
     "start_time": "2021-03-25T14:49:49.353074",
     "status": "completed"
    },
    "tags": []
   },
   "source": [
    "We'll learn how to custom paint your graph from the default settings (coming soon)"
   ]
  },
  {
   "cell_type": "code",
   "execution_count": null,
   "metadata": {
    "papermill": {
     "duration": 0.126376,
     "end_time": "2021-03-25T14:49:49.728507",
     "exception": false,
     "start_time": "2021-03-25T14:49:49.602131",
     "status": "completed"
    },
    "tags": []
   },
   "outputs": [],
   "source": []
  },
  {
   "cell_type": "code",
   "execution_count": 19,
   "metadata": {
    "execution": {
     "iopub.execute_input": "2021-03-25T14:49:49.994611Z",
     "iopub.status.busy": "2021-03-25T14:49:49.993647Z",
     "iopub.status.idle": "2021-03-25T14:49:49.999736Z",
     "shell.execute_reply": "2021-03-25T14:49:49.999033Z"
    },
    "papermill": {
     "duration": 0.141625,
     "end_time": "2021-03-25T14:49:49.999951",
     "exception": false,
     "start_time": "2021-03-25T14:49:49.858326",
     "status": "completed"
    },
    "tags": []
   },
   "outputs": [
    {
     "data": {
      "text/plain": [
       "\"import pydotplus\\ngraph = pydotplus.graph_from_dot_data(dot_data)\\nnodes = graph.get_node_list()\\n\\nfor node in nodes:\\n    if node.get_label():\\n        print(node.get_label())\\n        node.set_fillcolor('yellow')\\n        \\n\\ngraph.write_png('colored_tree.png')\\n\""
      ]
     },
     "execution_count": 19,
     "metadata": {},
     "output_type": "execute_result"
    }
   ],
   "source": [
    "\"\"\"import pydotplus\n",
    "graph = pydotplus.graph_from_dot_data(dot_data)\n",
    "nodes = graph.get_node_list()\n",
    "\n",
    "for node in nodes:\n",
    "    if node.get_label():\n",
    "        print(node.get_label())\n",
    "        node.set_fillcolor('yellow')\n",
    "        \n",
    "\n",
    "graph.write_png('colored_tree.png')\n",
    "\"\"\""
   ]
  },
  {
   "cell_type": "code",
   "execution_count": null,
   "metadata": {
    "papermill": {
     "duration": 0.153491,
     "end_time": "2021-03-25T14:49:50.282208",
     "exception": false,
     "start_time": "2021-03-25T14:49:50.128717",
     "status": "completed"
    },
    "tags": []
   },
   "outputs": [],
   "source": []
  },
  {
   "cell_type": "markdown",
   "metadata": {
    "papermill": {
     "duration": 0.127446,
     "end_time": "2021-03-25T14:49:50.547926",
     "exception": false,
     "start_time": "2021-03-25T14:49:50.420480",
     "status": "completed"
    },
    "tags": []
   },
   "source": [
    "### 2. Regressions"
   ]
  },
  {
   "cell_type": "markdown",
   "metadata": {
    "papermill": {
     "duration": 0.128826,
     "end_time": "2021-03-25T14:49:50.801274",
     "exception": false,
     "start_time": "2021-03-25T14:49:50.672448",
     "status": "completed"
    },
    "tags": []
   },
   "source": [
    "Useful Resources -> <br>\n",
    "\n",
    "* https://www.maths.usyd.edu.au/u/UG/SM/STAT3022/r/current/Lecture/lecture03_2020JC.html#1\n",
    "* https://towardsdatascience.com/maximum-likelihood-estimation-explained-normal-distribution-6207b322e47f#:~:text=%E2%80%9CA%20method%20of%20estimating%20the,observed%20data%20is%20most%20probable.%E2%80%9D&text=By%20assuming%20normality%2C%20we%20simply,the%20popular%20Gaussian%20bell%20curve.\n",
    "* https://online.stat.psu.edu/stat462/node/207/\n",
    "* https://psychscenehub.com/psychpedia/odds-ratio-2/\n",
    "* http://statkat.com/stat-tests/logistic-regression.php#:~:text=Logistic%20regression%20analysis%20tests%20the,%3D%CE%B2K%3D0"
   ]
  },
  {
   "cell_type": "markdown",
   "metadata": {
    "papermill": {
     "duration": 0.129085,
     "end_time": "2021-03-25T14:49:51.059776",
     "exception": false,
     "start_time": "2021-03-25T14:49:50.930691",
     "status": "completed"
    },
    "tags": []
   },
   "source": [
    "1. Linear Regression Analysis"
   ]
  },
  {
   "cell_type": "code",
   "execution_count": null,
   "metadata": {
    "papermill": {
     "duration": 0.124892,
     "end_time": "2021-03-25T14:49:51.310078",
     "exception": false,
     "start_time": "2021-03-25T14:49:51.185186",
     "status": "completed"
    },
    "tags": []
   },
   "outputs": [],
   "source": []
  },
  {
   "cell_type": "markdown",
   "metadata": {
    "papermill": {
     "duration": 0.130425,
     "end_time": "2021-03-25T14:49:51.565923",
     "exception": false,
     "start_time": "2021-03-25T14:49:51.435498",
     "status": "completed"
    },
    "tags": []
   },
   "source": [
    "2. Multiple Regression Analysis"
   ]
  },
  {
   "cell_type": "code",
   "execution_count": null,
   "metadata": {
    "papermill": {
     "duration": 0.126574,
     "end_time": "2021-03-25T14:49:51.821750",
     "exception": false,
     "start_time": "2021-03-25T14:49:51.695176",
     "status": "completed"
    },
    "tags": []
   },
   "outputs": [],
   "source": []
  },
  {
   "cell_type": "markdown",
   "metadata": {
    "papermill": {
     "duration": 0.13649,
     "end_time": "2021-03-25T14:49:52.088680",
     "exception": false,
     "start_time": "2021-03-25T14:49:51.952190",
     "status": "completed"
    },
    "tags": []
   },
   "source": [
    "### 3. Chi Square Test"
   ]
  },
  {
   "cell_type": "markdown",
   "metadata": {
    "papermill": {
     "duration": 0.126273,
     "end_time": "2021-03-25T14:49:52.346061",
     "exception": false,
     "start_time": "2021-03-25T14:49:52.219788",
     "status": "completed"
    },
    "tags": []
   },
   "source": [
    "background -> "
   ]
  },
  {
   "cell_type": "markdown",
   "metadata": {
    "papermill": {
     "duration": 0.124694,
     "end_time": "2021-03-25T14:49:52.595349",
     "exception": false,
     "start_time": "2021-03-25T14:49:52.470655",
     "status": "completed"
    },
    "tags": []
   },
   "source": [
    "degrees of freedom for the chi-squared distribution -> (rows -1) * (cols -1)"
   ]
  },
  {
   "cell_type": "markdown",
   "metadata": {
    "papermill": {
     "duration": 0.132542,
     "end_time": "2021-03-25T14:49:52.855836",
     "exception": false,
     "start_time": "2021-03-25T14:49:52.723294",
     "status": "completed"
    },
    "tags": []
   },
   "source": [
    "a. Understanding Contigency Tables (also known as crosstab)"
   ]
  },
  {
   "cell_type": "markdown",
   "metadata": {
    "papermill": {
     "duration": 0.128638,
     "end_time": "2021-03-25T14:49:53.113257",
     "exception": false,
     "start_time": "2021-03-25T14:49:52.984619",
     "status": "completed"
    },
    "tags": []
   },
   "source": [
    "Contigency tables are the pivot tables obtained by utilizing the categorical variable. The contigency here is whether a variable affects the values of the caegorical variable. <br>\n"
   ]
  },
  {
   "cell_type": "code",
   "execution_count": null,
   "metadata": {
    "papermill": {
     "duration": 0.130674,
     "end_time": "2021-03-25T14:49:53.380491",
     "exception": false,
     "start_time": "2021-03-25T14:49:53.249817",
     "status": "completed"
    },
    "tags": []
   },
   "outputs": [],
   "source": []
  },
  {
   "cell_type": "markdown",
   "metadata": {
    "papermill": {
     "duration": 0.125892,
     "end_time": "2021-03-25T14:49:53.633761",
     "exception": false,
     "start_time": "2021-03-25T14:49:53.507869",
     "status": "completed"
    },
    "tags": []
   },
   "source": [
    "b. Performing Chi-Square Tests"
   ]
  },
  {
   "cell_type": "code",
   "execution_count": null,
   "metadata": {
    "papermill": {
     "duration": 0.127877,
     "end_time": "2021-03-25T14:49:53.889054",
     "exception": false,
     "start_time": "2021-03-25T14:49:53.761177",
     "status": "completed"
    },
    "tags": []
   },
   "outputs": [],
   "source": []
  },
  {
   "cell_type": "markdown",
   "metadata": {
    "papermill": {
     "duration": 0.126769,
     "end_time": "2021-03-25T14:49:54.144709",
     "exception": false,
     "start_time": "2021-03-25T14:49:54.017940",
     "status": "completed"
    },
    "tags": []
   },
   "source": [
    "c. Chi-Square Tests for Feature Selection"
   ]
  },
  {
   "cell_type": "markdown",
   "metadata": {
    "papermill": {
     "duration": 0.125722,
     "end_time": "2021-03-25T14:49:54.397106",
     "exception": false,
     "start_time": "2021-03-25T14:49:54.271384",
     "status": "completed"
    },
    "tags": []
   },
   "source": [
    "![](https://media.geeksforgeeks.org/wp-content/uploads/Capture-214.png)"
   ]
  },
  {
   "cell_type": "markdown",
   "metadata": {
    "papermill": {
     "duration": 0.12594,
     "end_time": "2021-03-25T14:49:54.648355",
     "exception": false,
     "start_time": "2021-03-25T14:49:54.522415",
     "status": "completed"
    },
    "tags": []
   },
   "source": [
    "#### Note:- Used only for Categorical Features."
   ]
  },
  {
   "cell_type": "markdown",
   "metadata": {
    "papermill": {
     "duration": 0.127215,
     "end_time": "2021-03-25T14:49:54.901403",
     "exception": false,
     "start_time": "2021-03-25T14:49:54.774188",
     "status": "completed"
    },
    "tags": []
   },
   "source": [
    "Dataset used -> https://www.kaggle.com/c/cat-in-the-dat"
   ]
  },
  {
   "cell_type": "code",
   "execution_count": 20,
   "metadata": {
    "execution": {
     "iopub.execute_input": "2021-03-25T14:49:55.162856Z",
     "iopub.status.busy": "2021-03-25T14:49:55.161864Z",
     "iopub.status.idle": "2021-03-25T14:49:57.543740Z",
     "shell.execute_reply": "2021-03-25T14:49:57.542825Z"
    },
    "papermill": {
     "duration": 2.515862,
     "end_time": "2021-03-25T14:49:57.543995",
     "exception": false,
     "start_time": "2021-03-25T14:49:55.028133",
     "status": "completed"
    },
    "tags": []
   },
   "outputs": [],
   "source": [
    "from sklearn.feature_selection import SelectKBest \n",
    "from sklearn.feature_selection import chi2 \n",
    "\n",
    "\n",
    "data = pd.read_csv('../input/cat-in-the-dat/train.csv')"
   ]
  },
  {
   "cell_type": "code",
   "execution_count": 21,
   "metadata": {
    "execution": {
     "iopub.execute_input": "2021-03-25T14:49:57.814281Z",
     "iopub.status.busy": "2021-03-25T14:49:57.806890Z",
     "iopub.status.idle": "2021-03-25T14:49:57.835335Z",
     "shell.execute_reply": "2021-03-25T14:49:57.834745Z"
    },
    "papermill": {
     "duration": 0.16604,
     "end_time": "2021-03-25T14:49:57.835517",
     "exception": false,
     "start_time": "2021-03-25T14:49:57.669477",
     "status": "completed"
    },
    "tags": []
   },
   "outputs": [
    {
     "data": {
      "text/html": [
       "<div>\n",
       "<style scoped>\n",
       "    .dataframe tbody tr th:only-of-type {\n",
       "        vertical-align: middle;\n",
       "    }\n",
       "\n",
       "    .dataframe tbody tr th {\n",
       "        vertical-align: top;\n",
       "    }\n",
       "\n",
       "    .dataframe thead th {\n",
       "        text-align: right;\n",
       "    }\n",
       "</style>\n",
       "<table border=\"1\" class=\"dataframe\">\n",
       "  <thead>\n",
       "    <tr style=\"text-align: right;\">\n",
       "      <th></th>\n",
       "      <th>id</th>\n",
       "      <th>bin_0</th>\n",
       "      <th>bin_1</th>\n",
       "      <th>bin_2</th>\n",
       "      <th>bin_3</th>\n",
       "      <th>bin_4</th>\n",
       "      <th>nom_0</th>\n",
       "      <th>nom_1</th>\n",
       "      <th>nom_2</th>\n",
       "      <th>nom_3</th>\n",
       "      <th>...</th>\n",
       "      <th>nom_9</th>\n",
       "      <th>ord_0</th>\n",
       "      <th>ord_1</th>\n",
       "      <th>ord_2</th>\n",
       "      <th>ord_3</th>\n",
       "      <th>ord_4</th>\n",
       "      <th>ord_5</th>\n",
       "      <th>day</th>\n",
       "      <th>month</th>\n",
       "      <th>target</th>\n",
       "    </tr>\n",
       "  </thead>\n",
       "  <tbody>\n",
       "    <tr>\n",
       "      <th>0</th>\n",
       "      <td>0</td>\n",
       "      <td>0</td>\n",
       "      <td>0</td>\n",
       "      <td>0</td>\n",
       "      <td>T</td>\n",
       "      <td>Y</td>\n",
       "      <td>Green</td>\n",
       "      <td>Triangle</td>\n",
       "      <td>Snake</td>\n",
       "      <td>Finland</td>\n",
       "      <td>...</td>\n",
       "      <td>2f4cb3d51</td>\n",
       "      <td>2</td>\n",
       "      <td>Grandmaster</td>\n",
       "      <td>Cold</td>\n",
       "      <td>h</td>\n",
       "      <td>D</td>\n",
       "      <td>kr</td>\n",
       "      <td>2</td>\n",
       "      <td>2</td>\n",
       "      <td>0</td>\n",
       "    </tr>\n",
       "    <tr>\n",
       "      <th>1</th>\n",
       "      <td>1</td>\n",
       "      <td>0</td>\n",
       "      <td>1</td>\n",
       "      <td>0</td>\n",
       "      <td>T</td>\n",
       "      <td>Y</td>\n",
       "      <td>Green</td>\n",
       "      <td>Trapezoid</td>\n",
       "      <td>Hamster</td>\n",
       "      <td>Russia</td>\n",
       "      <td>...</td>\n",
       "      <td>f83c56c21</td>\n",
       "      <td>1</td>\n",
       "      <td>Grandmaster</td>\n",
       "      <td>Hot</td>\n",
       "      <td>a</td>\n",
       "      <td>A</td>\n",
       "      <td>bF</td>\n",
       "      <td>7</td>\n",
       "      <td>8</td>\n",
       "      <td>0</td>\n",
       "    </tr>\n",
       "    <tr>\n",
       "      <th>2</th>\n",
       "      <td>2</td>\n",
       "      <td>0</td>\n",
       "      <td>0</td>\n",
       "      <td>0</td>\n",
       "      <td>F</td>\n",
       "      <td>Y</td>\n",
       "      <td>Blue</td>\n",
       "      <td>Trapezoid</td>\n",
       "      <td>Lion</td>\n",
       "      <td>Russia</td>\n",
       "      <td>...</td>\n",
       "      <td>ae6800dd0</td>\n",
       "      <td>1</td>\n",
       "      <td>Expert</td>\n",
       "      <td>Lava Hot</td>\n",
       "      <td>h</td>\n",
       "      <td>R</td>\n",
       "      <td>Jc</td>\n",
       "      <td>7</td>\n",
       "      <td>2</td>\n",
       "      <td>0</td>\n",
       "    </tr>\n",
       "    <tr>\n",
       "      <th>3</th>\n",
       "      <td>3</td>\n",
       "      <td>0</td>\n",
       "      <td>1</td>\n",
       "      <td>0</td>\n",
       "      <td>F</td>\n",
       "      <td>Y</td>\n",
       "      <td>Red</td>\n",
       "      <td>Trapezoid</td>\n",
       "      <td>Snake</td>\n",
       "      <td>Canada</td>\n",
       "      <td>...</td>\n",
       "      <td>8270f0d71</td>\n",
       "      <td>1</td>\n",
       "      <td>Grandmaster</td>\n",
       "      <td>Boiling Hot</td>\n",
       "      <td>i</td>\n",
       "      <td>D</td>\n",
       "      <td>kW</td>\n",
       "      <td>2</td>\n",
       "      <td>1</td>\n",
       "      <td>1</td>\n",
       "    </tr>\n",
       "    <tr>\n",
       "      <th>4</th>\n",
       "      <td>4</td>\n",
       "      <td>0</td>\n",
       "      <td>0</td>\n",
       "      <td>0</td>\n",
       "      <td>F</td>\n",
       "      <td>N</td>\n",
       "      <td>Red</td>\n",
       "      <td>Trapezoid</td>\n",
       "      <td>Lion</td>\n",
       "      <td>Canada</td>\n",
       "      <td>...</td>\n",
       "      <td>b164b72a7</td>\n",
       "      <td>1</td>\n",
       "      <td>Grandmaster</td>\n",
       "      <td>Freezing</td>\n",
       "      <td>a</td>\n",
       "      <td>R</td>\n",
       "      <td>qP</td>\n",
       "      <td>7</td>\n",
       "      <td>8</td>\n",
       "      <td>0</td>\n",
       "    </tr>\n",
       "  </tbody>\n",
       "</table>\n",
       "<p>5 rows × 25 columns</p>\n",
       "</div>"
      ],
      "text/plain": [
       "   id  bin_0  bin_1  bin_2 bin_3 bin_4  nom_0      nom_1    nom_2    nom_3  \\\n",
       "0   0      0      0      0     T     Y  Green   Triangle    Snake  Finland   \n",
       "1   1      0      1      0     T     Y  Green  Trapezoid  Hamster   Russia   \n",
       "2   2      0      0      0     F     Y   Blue  Trapezoid     Lion   Russia   \n",
       "3   3      0      1      0     F     Y    Red  Trapezoid    Snake   Canada   \n",
       "4   4      0      0      0     F     N    Red  Trapezoid     Lion   Canada   \n",
       "\n",
       "   ...      nom_9 ord_0        ord_1        ord_2 ord_3 ord_4  ord_5 day  \\\n",
       "0  ...  2f4cb3d51     2  Grandmaster         Cold     h     D     kr   2   \n",
       "1  ...  f83c56c21     1  Grandmaster          Hot     a     A     bF   7   \n",
       "2  ...  ae6800dd0     1       Expert     Lava Hot     h     R     Jc   7   \n",
       "3  ...  8270f0d71     1  Grandmaster  Boiling Hot     i     D     kW   2   \n",
       "4  ...  b164b72a7     1  Grandmaster     Freezing     a     R     qP   7   \n",
       "\n",
       "  month target  \n",
       "0     2      0  \n",
       "1     8      0  \n",
       "2     2      0  \n",
       "3     1      1  \n",
       "4     8      0  \n",
       "\n",
       "[5 rows x 25 columns]"
      ]
     },
     "execution_count": 21,
     "metadata": {},
     "output_type": "execute_result"
    }
   ],
   "source": [
    "data.head()"
   ]
  },
  {
   "cell_type": "code",
   "execution_count": 22,
   "metadata": {
    "execution": {
     "iopub.execute_input": "2021-03-25T14:49:58.160677Z",
     "iopub.status.busy": "2021-03-25T14:49:58.111800Z",
     "iopub.status.idle": "2021-03-25T14:49:58.164508Z",
     "shell.execute_reply": "2021-03-25T14:49:58.163897Z"
    },
    "papermill": {
     "duration": 0.201549,
     "end_time": "2021-03-25T14:49:58.164705",
     "exception": false,
     "start_time": "2021-03-25T14:49:57.963156",
     "status": "completed"
    },
    "tags": []
   },
   "outputs": [],
   "source": [
    "data.drop(['id'], axis = 1, inplace = True)"
   ]
  },
  {
   "cell_type": "code",
   "execution_count": 23,
   "metadata": {
    "execution": {
     "iopub.execute_input": "2021-03-25T14:49:58.430470Z",
     "iopub.status.busy": "2021-03-25T14:49:58.429514Z",
     "iopub.status.idle": "2021-03-25T14:49:58.435265Z",
     "shell.execute_reply": "2021-03-25T14:49:58.434466Z"
    },
    "papermill": {
     "duration": 0.144321,
     "end_time": "2021-03-25T14:49:58.435441",
     "exception": false,
     "start_time": "2021-03-25T14:49:58.291120",
     "status": "completed"
    },
    "tags": []
   },
   "outputs": [
    {
     "data": {
      "text/plain": [
       "bin_0      int64\n",
       "bin_1      int64\n",
       "bin_2      int64\n",
       "bin_3     object\n",
       "bin_4     object\n",
       "nom_0     object\n",
       "nom_1     object\n",
       "nom_2     object\n",
       "nom_3     object\n",
       "nom_4     object\n",
       "nom_5     object\n",
       "nom_6     object\n",
       "nom_7     object\n",
       "nom_8     object\n",
       "nom_9     object\n",
       "ord_0      int64\n",
       "ord_1     object\n",
       "ord_2     object\n",
       "ord_3     object\n",
       "ord_4     object\n",
       "ord_5     object\n",
       "day        int64\n",
       "month      int64\n",
       "target     int64\n",
       "dtype: object"
      ]
     },
     "execution_count": 23,
     "metadata": {},
     "output_type": "execute_result"
    }
   ],
   "source": [
    "data.dtypes"
   ]
  },
  {
   "cell_type": "code",
   "execution_count": 24,
   "metadata": {
    "execution": {
     "iopub.execute_input": "2021-03-25T14:49:58.697310Z",
     "iopub.status.busy": "2021-03-25T14:49:58.696031Z",
     "iopub.status.idle": "2021-03-25T14:49:59.772016Z",
     "shell.execute_reply": "2021-03-25T14:49:59.771385Z"
    },
    "papermill": {
     "duration": 1.210199,
     "end_time": "2021-03-25T14:49:59.772193",
     "exception": false,
     "start_time": "2021-03-25T14:49:58.561994",
     "status": "completed"
    },
    "tags": []
   },
   "outputs": [
    {
     "name": "stdout",
     "output_type": "stream",
     "text": [
      "bin_0 2\n",
      "bin_1 2\n",
      "bin_2 2\n",
      "bin_3 2\n",
      "bin_4 2\n",
      "nom_0 3\n",
      "nom_1 6\n",
      "nom_2 6\n",
      "nom_3 6\n",
      "nom_4 4\n",
      "nom_5 222\n",
      "nom_6 522\n",
      "nom_7 1220\n",
      "nom_8 2215\n",
      "nom_9 11981\n",
      "ord_0 3\n",
      "ord_1 5\n",
      "ord_2 6\n",
      "ord_3 15\n",
      "ord_4 26\n",
      "ord_5 192\n",
      "day 7\n",
      "month 12\n",
      "target 2\n"
     ]
    }
   ],
   "source": [
    "for col in data.columns:\n",
    "    print(col, data[col].nunique())"
   ]
  },
  {
   "cell_type": "code",
   "execution_count": 25,
   "metadata": {
    "execution": {
     "iopub.execute_input": "2021-03-25T14:50:00.045145Z",
     "iopub.status.busy": "2021-03-25T14:50:00.043858Z",
     "iopub.status.idle": "2021-03-25T14:50:01.429899Z",
     "shell.execute_reply": "2021-03-25T14:50:01.429148Z"
    },
    "papermill": {
     "duration": 1.527259,
     "end_time": "2021-03-25T14:50:01.430075",
     "exception": false,
     "start_time": "2021-03-25T14:49:59.902816",
     "status": "completed"
    },
    "tags": []
   },
   "outputs": [
    {
     "name": "stdout",
     "output_type": "stream",
     "text": [
      "bin_0 \n",
      "\n",
      " 0    261749\n",
      "1     38251\n",
      "Name: bin_0, dtype: int64\n",
      "----------\n",
      "bin_1 \n",
      "\n",
      " 0    223018\n",
      "1     76982\n",
      "Name: bin_1, dtype: int64\n",
      "----------\n",
      "bin_2 \n",
      "\n",
      " 0    185033\n",
      "1    114967\n",
      "Name: bin_2, dtype: int64\n",
      "----------\n",
      "bin_3 \n",
      "\n",
      " T    153535\n",
      "F    146465\n",
      "Name: bin_3, dtype: int64\n",
      "----------\n",
      "bin_4 \n",
      "\n",
      " Y    191633\n",
      "N    108367\n",
      "Name: bin_4, dtype: int64\n",
      "----------\n",
      "nom_0 \n",
      "\n",
      " Green    127341\n",
      "Blue      96166\n",
      "Red       76493\n",
      "Name: nom_0, dtype: int64\n",
      "----------\n",
      "nom_1 \n",
      "\n",
      " Trapezoid    101181\n",
      "Square        49597\n",
      "Star          45904\n",
      "Circle        37320\n",
      "Polygon       36143\n",
      "Triangle      29855\n",
      "Name: nom_1, dtype: int64\n",
      "----------\n",
      "nom_2 \n",
      "\n",
      " Lion       101295\n",
      "Cat         49659\n",
      "Snake       45979\n",
      "Dog         37444\n",
      "Axolotl     36136\n",
      "Hamster     29487\n",
      "Name: nom_2, dtype: int64\n",
      "----------\n",
      "nom_3 \n",
      "\n",
      " Russia        101123\n",
      "Canada         49951\n",
      "China          46044\n",
      "Finland        36942\n",
      "Costa Rica     35988\n",
      "India          29952\n",
      "Name: nom_3, dtype: int64\n",
      "----------\n",
      "nom_4 \n",
      "\n",
      " Oboe        92293\n",
      "Piano       84517\n",
      "Bassoon     68448\n",
      "Theremin    54742\n",
      "Name: nom_4, dtype: int64\n",
      "----------\n",
      "nom_5 \n",
      "\n",
      " f7821e391    2801\n",
      "06eeaf0aa    2750\n",
      "472efea17    2729\n",
      "20b10a832    2725\n",
      "b97f51ac4    2717\n",
      "             ... \n",
      "91c80026f      64\n",
      "88f104c00      59\n",
      "f802a9849      46\n",
      "1fd0233cd      41\n",
      "f710fca39      26\n",
      "Name: nom_5, Length: 222, dtype: int64\n",
      "----------\n",
      "nom_6 \n",
      "\n",
      " d173ac7ca    1218\n",
      "2ed5a94b0    1210\n",
      "c9eedfbc2    1193\n",
      "50d7ad46a    1175\n",
      "0922e3cb8    1169\n",
      "             ... \n",
      "26bf5ddd9      16\n",
      "28630a5c8      12\n",
      "8367b78fc      11\n",
      "e97824431       8\n",
      "4dcab4fc8       5\n",
      "Name: nom_6, Length: 522, dtype: int64\n",
      "----------\n",
      "nom_7 \n",
      "\n",
      " 3a114adea    534\n",
      "6f3940b72    518\n",
      "3b679e531    518\n",
      "fcf2b8dce    517\n",
      "fe27cc23d    515\n",
      "            ... \n",
      "446df0c98      3\n",
      "f718e6e9c      3\n",
      "bc05442e1      3\n",
      "74a1b69b1      2\n",
      "3460d7c4b      1\n",
      "Name: nom_7, Length: 1220, dtype: int64\n",
      "----------\n",
      "nom_8 \n",
      "\n",
      " c720f85ca    299\n",
      "9ff6898e5    294\n",
      "3cec7c3f5    292\n",
      "d69adef8b    288\n",
      "17ba84114    287\n",
      "            ... \n",
      "44f729e5a      2\n",
      "5361d3b53      2\n",
      "83a266f13      1\n",
      "4b30750de      1\n",
      "40b8df5b6      1\n",
      "Name: nom_8, Length: 2215, dtype: int64\n",
      "----------\n",
      "nom_9 \n",
      "\n",
      " 163cc60fa    72\n",
      "21578b358    70\n",
      "412859a59    67\n",
      "e8be2364b    67\n",
      "f12f038cc    66\n",
      "             ..\n",
      "7fe01ec1c     1\n",
      "278c99c4b     1\n",
      "3ee76fdcd     1\n",
      "11fa2494e     1\n",
      "ba38e53a6     1\n",
      "Name: nom_9, Length: 11981, dtype: int64\n",
      "----------\n",
      "ord_0 \n",
      "\n",
      " 1    194846\n",
      "2     66438\n",
      "3     38716\n",
      "Name: ord_0, dtype: int64\n",
      "----------\n",
      "ord_1 \n",
      "\n",
      " Novice         126583\n",
      "Grandmaster     77428\n",
      "Contributor     42871\n",
      "Master          28053\n",
      "Expert          25065\n",
      "Name: ord_1, dtype: int64\n",
      "----------\n",
      "ord_2 \n",
      "\n",
      " Freezing       99816\n",
      "Lava Hot       63908\n",
      "Boiling Hot    60627\n",
      "Cold           33768\n",
      "Hot            22227\n",
      "Warm           19654\n",
      "Name: ord_2, dtype: int64\n",
      "----------\n",
      "ord_3 \n",
      "\n",
      " g    36405\n",
      "l    36124\n",
      "a    35276\n",
      "k    28619\n",
      "i    28048\n",
      "h    24740\n",
      "j    24647\n",
      "f    22384\n",
      "e    21331\n",
      "b    11916\n",
      "o    11320\n",
      "d     7904\n",
      "c     6944\n",
      "n     4014\n",
      "m      328\n",
      "Name: ord_3, dtype: int64\n",
      "----------\n",
      "ord_4 \n",
      "\n",
      " L    19066\n",
      "G    18899\n",
      "S    18875\n",
      "A    18258\n",
      "R    16927\n",
      "Q    15925\n",
      "K    14698\n",
      "I    14644\n",
      "Z    14232\n",
      "T    14220\n",
      "V    14143\n",
      "J    12878\n",
      "P    12839\n",
      "U    12775\n",
      "H    12743\n",
      "F    11717\n",
      "E    11303\n",
      "W     9197\n",
      "Y     8490\n",
      "X     6292\n",
      "B     6169\n",
      "O     5836\n",
      "D     3974\n",
      "C     3575\n",
      "N     2166\n",
      "M      159\n",
      "Name: ord_4, dtype: int64\n",
      "----------\n",
      "ord_5 \n",
      "\n",
      " od    5019\n",
      "fO    3435\n",
      "Zq    2926\n",
      "sD    2880\n",
      "qP    2854\n",
      "      ... \n",
      "eg      47\n",
      "tv      40\n",
      "kU      37\n",
      "vq      35\n",
      "Cl      28\n",
      "Name: ord_5, Length: 192, dtype: int64\n",
      "----------\n",
      "day \n",
      "\n",
      " 2    74315\n",
      "1    67144\n",
      "3    66357\n",
      "4    40434\n",
      "7    33051\n",
      "5    17787\n",
      "6      912\n",
      "Name: day, dtype: int64\n",
      "----------\n",
      "month \n",
      "\n",
      " 2     45305\n",
      "3     40867\n",
      "1     40848\n",
      "11    25732\n",
      "12    25204\n",
      "4     24920\n",
      "9     24857\n",
      "10    22112\n",
      "7     19867\n",
      "8     18730\n",
      "5     10995\n",
      "6       563\n",
      "Name: month, dtype: int64\n",
      "----------\n",
      "target \n",
      "\n",
      " 0    208236\n",
      "1     91764\n",
      "Name: target, dtype: int64\n",
      "----------\n"
     ]
    }
   ],
   "source": [
    "for col in data.columns:\n",
    "    print(col, '\\n\\n',data[col].value_counts())\n",
    "    print('-'*10)"
   ]
  },
  {
   "cell_type": "markdown",
   "metadata": {
    "papermill": {
     "duration": 0.131437,
     "end_time": "2021-03-25T14:50:01.694149",
     "exception": false,
     "start_time": "2021-03-25T14:50:01.562712",
     "status": "completed"
    },
    "tags": []
   },
   "source": [
    "bin_3, bin_4 has T/F values. <br>\n",
    "nom_0, nom_1, nom_2, nom_3, nom_4 have 3-6 unique values. <br>\n",
    "nom_5, nom_6, nom_7, nom_8, nom_9 have many unique values <br>\n",
    "THen comes the ordinal variables"
   ]
  },
  {
   "cell_type": "code",
   "execution_count": null,
   "metadata": {
    "papermill": {
     "duration": 0.130864,
     "end_time": "2021-03-25T14:50:01.957124",
     "exception": false,
     "start_time": "2021-03-25T14:50:01.826260",
     "status": "completed"
    },
    "tags": []
   },
   "outputs": [],
   "source": []
  },
  {
   "cell_type": "code",
   "execution_count": 26,
   "metadata": {
    "execution": {
     "iopub.execute_input": "2021-03-25T14:50:02.269787Z",
     "iopub.status.busy": "2021-03-25T14:50:02.246870Z",
     "iopub.status.idle": "2021-03-25T14:50:02.463543Z",
     "shell.execute_reply": "2021-03-25T14:50:02.462738Z"
    },
    "papermill": {
     "duration": 0.364058,
     "end_time": "2021-03-25T14:50:02.463715",
     "exception": false,
     "start_time": "2021-03-25T14:50:02.099657",
     "status": "completed"
    },
    "tags": []
   },
   "outputs": [],
   "source": [
    "data['bin_3'] = data['bin_3'].map({\"T\" : 1, \"F\" : 0})\n",
    "data['bin_4'] = data['bin_4'].map({\"Y\" : 1, \"N\" : 0})"
   ]
  },
  {
   "cell_type": "code",
   "execution_count": 27,
   "metadata": {
    "execution": {
     "iopub.execute_input": "2021-03-25T14:50:02.770517Z",
     "iopub.status.busy": "2021-03-25T14:50:02.769407Z",
     "iopub.status.idle": "2021-03-25T14:50:02.775697Z",
     "shell.execute_reply": "2021-03-25T14:50:02.774913Z"
    },
    "papermill": {
     "duration": 0.17292,
     "end_time": "2021-03-25T14:50:02.775870",
     "exception": false,
     "start_time": "2021-03-25T14:50:02.602950",
     "status": "completed"
    },
    "tags": []
   },
   "outputs": [
    {
     "data": {
      "text/html": [
       "<div>\n",
       "<style scoped>\n",
       "    .dataframe tbody tr th:only-of-type {\n",
       "        vertical-align: middle;\n",
       "    }\n",
       "\n",
       "    .dataframe tbody tr th {\n",
       "        vertical-align: top;\n",
       "    }\n",
       "\n",
       "    .dataframe thead th {\n",
       "        text-align: right;\n",
       "    }\n",
       "</style>\n",
       "<table border=\"1\" class=\"dataframe\">\n",
       "  <thead>\n",
       "    <tr style=\"text-align: right;\">\n",
       "      <th></th>\n",
       "      <th>bin_0</th>\n",
       "      <th>bin_1</th>\n",
       "      <th>bin_2</th>\n",
       "      <th>bin_3</th>\n",
       "      <th>bin_4</th>\n",
       "      <th>nom_0</th>\n",
       "      <th>nom_1</th>\n",
       "      <th>nom_2</th>\n",
       "      <th>nom_3</th>\n",
       "      <th>nom_4</th>\n",
       "      <th>...</th>\n",
       "      <th>nom_9</th>\n",
       "      <th>ord_0</th>\n",
       "      <th>ord_1</th>\n",
       "      <th>ord_2</th>\n",
       "      <th>ord_3</th>\n",
       "      <th>ord_4</th>\n",
       "      <th>ord_5</th>\n",
       "      <th>day</th>\n",
       "      <th>month</th>\n",
       "      <th>target</th>\n",
       "    </tr>\n",
       "  </thead>\n",
       "  <tbody>\n",
       "    <tr>\n",
       "      <th>0</th>\n",
       "      <td>0</td>\n",
       "      <td>0</td>\n",
       "      <td>0</td>\n",
       "      <td>1</td>\n",
       "      <td>1</td>\n",
       "      <td>Green</td>\n",
       "      <td>Triangle</td>\n",
       "      <td>Snake</td>\n",
       "      <td>Finland</td>\n",
       "      <td>Bassoon</td>\n",
       "      <td>...</td>\n",
       "      <td>2f4cb3d51</td>\n",
       "      <td>2</td>\n",
       "      <td>Grandmaster</td>\n",
       "      <td>Cold</td>\n",
       "      <td>h</td>\n",
       "      <td>D</td>\n",
       "      <td>kr</td>\n",
       "      <td>2</td>\n",
       "      <td>2</td>\n",
       "      <td>0</td>\n",
       "    </tr>\n",
       "    <tr>\n",
       "      <th>1</th>\n",
       "      <td>0</td>\n",
       "      <td>1</td>\n",
       "      <td>0</td>\n",
       "      <td>1</td>\n",
       "      <td>1</td>\n",
       "      <td>Green</td>\n",
       "      <td>Trapezoid</td>\n",
       "      <td>Hamster</td>\n",
       "      <td>Russia</td>\n",
       "      <td>Piano</td>\n",
       "      <td>...</td>\n",
       "      <td>f83c56c21</td>\n",
       "      <td>1</td>\n",
       "      <td>Grandmaster</td>\n",
       "      <td>Hot</td>\n",
       "      <td>a</td>\n",
       "      <td>A</td>\n",
       "      <td>bF</td>\n",
       "      <td>7</td>\n",
       "      <td>8</td>\n",
       "      <td>0</td>\n",
       "    </tr>\n",
       "    <tr>\n",
       "      <th>2</th>\n",
       "      <td>0</td>\n",
       "      <td>0</td>\n",
       "      <td>0</td>\n",
       "      <td>0</td>\n",
       "      <td>1</td>\n",
       "      <td>Blue</td>\n",
       "      <td>Trapezoid</td>\n",
       "      <td>Lion</td>\n",
       "      <td>Russia</td>\n",
       "      <td>Theremin</td>\n",
       "      <td>...</td>\n",
       "      <td>ae6800dd0</td>\n",
       "      <td>1</td>\n",
       "      <td>Expert</td>\n",
       "      <td>Lava Hot</td>\n",
       "      <td>h</td>\n",
       "      <td>R</td>\n",
       "      <td>Jc</td>\n",
       "      <td>7</td>\n",
       "      <td>2</td>\n",
       "      <td>0</td>\n",
       "    </tr>\n",
       "    <tr>\n",
       "      <th>3</th>\n",
       "      <td>0</td>\n",
       "      <td>1</td>\n",
       "      <td>0</td>\n",
       "      <td>0</td>\n",
       "      <td>1</td>\n",
       "      <td>Red</td>\n",
       "      <td>Trapezoid</td>\n",
       "      <td>Snake</td>\n",
       "      <td>Canada</td>\n",
       "      <td>Oboe</td>\n",
       "      <td>...</td>\n",
       "      <td>8270f0d71</td>\n",
       "      <td>1</td>\n",
       "      <td>Grandmaster</td>\n",
       "      <td>Boiling Hot</td>\n",
       "      <td>i</td>\n",
       "      <td>D</td>\n",
       "      <td>kW</td>\n",
       "      <td>2</td>\n",
       "      <td>1</td>\n",
       "      <td>1</td>\n",
       "    </tr>\n",
       "    <tr>\n",
       "      <th>4</th>\n",
       "      <td>0</td>\n",
       "      <td>0</td>\n",
       "      <td>0</td>\n",
       "      <td>0</td>\n",
       "      <td>0</td>\n",
       "      <td>Red</td>\n",
       "      <td>Trapezoid</td>\n",
       "      <td>Lion</td>\n",
       "      <td>Canada</td>\n",
       "      <td>Oboe</td>\n",
       "      <td>...</td>\n",
       "      <td>b164b72a7</td>\n",
       "      <td>1</td>\n",
       "      <td>Grandmaster</td>\n",
       "      <td>Freezing</td>\n",
       "      <td>a</td>\n",
       "      <td>R</td>\n",
       "      <td>qP</td>\n",
       "      <td>7</td>\n",
       "      <td>8</td>\n",
       "      <td>0</td>\n",
       "    </tr>\n",
       "  </tbody>\n",
       "</table>\n",
       "<p>5 rows × 24 columns</p>\n",
       "</div>"
      ],
      "text/plain": [
       "   bin_0  bin_1  bin_2  bin_3  bin_4  nom_0      nom_1    nom_2    nom_3  \\\n",
       "0      0      0      0      1      1  Green   Triangle    Snake  Finland   \n",
       "1      0      1      0      1      1  Green  Trapezoid  Hamster   Russia   \n",
       "2      0      0      0      0      1   Blue  Trapezoid     Lion   Russia   \n",
       "3      0      1      0      0      1    Red  Trapezoid    Snake   Canada   \n",
       "4      0      0      0      0      0    Red  Trapezoid     Lion   Canada   \n",
       "\n",
       "      nom_4  ...      nom_9 ord_0        ord_1        ord_2 ord_3  ord_4  \\\n",
       "0   Bassoon  ...  2f4cb3d51     2  Grandmaster         Cold     h      D   \n",
       "1     Piano  ...  f83c56c21     1  Grandmaster          Hot     a      A   \n",
       "2  Theremin  ...  ae6800dd0     1       Expert     Lava Hot     h      R   \n",
       "3      Oboe  ...  8270f0d71     1  Grandmaster  Boiling Hot     i      D   \n",
       "4      Oboe  ...  b164b72a7     1  Grandmaster     Freezing     a      R   \n",
       "\n",
       "  ord_5 day month target  \n",
       "0    kr   2     2      0  \n",
       "1    bF   7     8      0  \n",
       "2    Jc   7     2      0  \n",
       "3    kW   2     1      1  \n",
       "4    qP   7     8      0  \n",
       "\n",
       "[5 rows x 24 columns]"
      ]
     },
     "execution_count": 27,
     "metadata": {},
     "output_type": "execute_result"
    }
   ],
   "source": [
    "data.head()"
   ]
  },
  {
   "cell_type": "markdown",
   "metadata": {
    "papermill": {
     "duration": 0.135858,
     "end_time": "2021-03-25T14:50:03.046201",
     "exception": false,
     "start_time": "2021-03-25T14:50:02.910343",
     "status": "completed"
    },
    "tags": []
   },
   "source": [
    "We're done with dealing of binary variables. <br>\n",
    "Now we're left to deal with the nominals & ordinals."
   ]
  },
  {
   "cell_type": "code",
   "execution_count": null,
   "metadata": {
    "papermill": {
     "duration": 0.133141,
     "end_time": "2021-03-25T14:50:03.313175",
     "exception": false,
     "start_time": "2021-03-25T14:50:03.180034",
     "status": "completed"
    },
    "tags": []
   },
   "outputs": [],
   "source": []
  },
  {
   "cell_type": "markdown",
   "metadata": {
    "papermill": {
     "duration": 0.132527,
     "end_time": "2021-03-25T14:50:03.581581",
     "exception": false,
     "start_time": "2021-03-25T14:50:03.449054",
     "status": "completed"
    },
    "tags": []
   },
   "source": [
    "We have 5 ordinal variables of which 4 have few unique values and can be dealt in a similar manner. <br>\n",
    "ord_5 has multiple unique values and needs to be handled separately. "
   ]
  },
  {
   "cell_type": "code",
   "execution_count": 28,
   "metadata": {
    "execution": {
     "iopub.execute_input": "2021-03-25T14:50:03.854881Z",
     "iopub.status.busy": "2021-03-25T14:50:03.853866Z",
     "iopub.status.idle": "2021-03-25T14:50:05.507943Z",
     "shell.execute_reply": "2021-03-25T14:50:05.507063Z"
    },
    "papermill": {
     "duration": 1.794114,
     "end_time": "2021-03-25T14:50:05.508159",
     "exception": false,
     "start_time": "2021-03-25T14:50:03.714045",
     "status": "completed"
    },
    "tags": []
   },
   "outputs": [
    {
     "name": "stdout",
     "output_type": "stream",
     "text": [
      "ord_1 ['Contributor', 'Expert', 'Grandmaster', 'Master', 'Novice']\n",
      "ord_2 ['Boiling Hot', 'Cold', 'Freezing', 'Hot', 'Lava Hot', 'Warm']\n",
      "ord_3 ['a', 'b', 'c', 'd', 'e', 'f', 'g', 'h', 'i', 'j', 'k', 'l', 'm', 'n', 'o']\n",
      "ord_4 ['A', 'B', 'C', 'D', 'E', 'F', 'G', 'H', 'I', 'J', 'K', 'L', 'M', 'N', 'O', 'P', 'Q', 'R', 'S', 'T', 'U', 'V', 'W', 'X', 'Y', 'Z']\n"
     ]
    }
   ],
   "source": [
    "for col in ['ord_1', 'ord_2', 'ord_3', 'ord_4']:\n",
    "    print(col, list(np.unique(data[col])))"
   ]
  },
  {
   "cell_type": "code",
   "execution_count": 29,
   "metadata": {
    "execution": {
     "iopub.execute_input": "2021-03-25T14:50:05.833365Z",
     "iopub.status.busy": "2021-03-25T14:50:05.799049Z",
     "iopub.status.idle": "2021-03-25T14:50:05.900595Z",
     "shell.execute_reply": "2021-03-25T14:50:05.899786Z"
    },
    "papermill": {
     "duration": 0.254726,
     "end_time": "2021-03-25T14:50:05.900783",
     "exception": false,
     "start_time": "2021-03-25T14:50:05.646057",
     "status": "completed"
    },
    "tags": []
   },
   "outputs": [],
   "source": [
    "m1_ord1 = {'Novice' : 0, 'Contributor' : 1, 'Expert' : 2, 'Master' : 3, 'Grandmaster' : 4}\n",
    "\n",
    "data['ord_1'] = data['ord_1'].map(m1_ord1)"
   ]
  },
  {
   "cell_type": "code",
   "execution_count": 30,
   "metadata": {
    "execution": {
     "iopub.execute_input": "2021-03-25T14:50:06.213466Z",
     "iopub.status.busy": "2021-03-25T14:50:06.212305Z",
     "iopub.status.idle": "2021-03-25T14:50:06.219153Z",
     "shell.execute_reply": "2021-03-25T14:50:06.218405Z"
    },
    "papermill": {
     "duration": 0.176128,
     "end_time": "2021-03-25T14:50:06.219320",
     "exception": false,
     "start_time": "2021-03-25T14:50:06.043192",
     "status": "completed"
    },
    "tags": []
   },
   "outputs": [
    {
     "data": {
      "text/html": [
       "<div>\n",
       "<style scoped>\n",
       "    .dataframe tbody tr th:only-of-type {\n",
       "        vertical-align: middle;\n",
       "    }\n",
       "\n",
       "    .dataframe tbody tr th {\n",
       "        vertical-align: top;\n",
       "    }\n",
       "\n",
       "    .dataframe thead th {\n",
       "        text-align: right;\n",
       "    }\n",
       "</style>\n",
       "<table border=\"1\" class=\"dataframe\">\n",
       "  <thead>\n",
       "    <tr style=\"text-align: right;\">\n",
       "      <th></th>\n",
       "      <th>bin_0</th>\n",
       "      <th>bin_1</th>\n",
       "      <th>bin_2</th>\n",
       "      <th>bin_3</th>\n",
       "      <th>bin_4</th>\n",
       "      <th>nom_0</th>\n",
       "      <th>nom_1</th>\n",
       "      <th>nom_2</th>\n",
       "      <th>nom_3</th>\n",
       "      <th>nom_4</th>\n",
       "      <th>...</th>\n",
       "      <th>nom_9</th>\n",
       "      <th>ord_0</th>\n",
       "      <th>ord_1</th>\n",
       "      <th>ord_2</th>\n",
       "      <th>ord_3</th>\n",
       "      <th>ord_4</th>\n",
       "      <th>ord_5</th>\n",
       "      <th>day</th>\n",
       "      <th>month</th>\n",
       "      <th>target</th>\n",
       "    </tr>\n",
       "  </thead>\n",
       "  <tbody>\n",
       "    <tr>\n",
       "      <th>0</th>\n",
       "      <td>0</td>\n",
       "      <td>0</td>\n",
       "      <td>0</td>\n",
       "      <td>1</td>\n",
       "      <td>1</td>\n",
       "      <td>Green</td>\n",
       "      <td>Triangle</td>\n",
       "      <td>Snake</td>\n",
       "      <td>Finland</td>\n",
       "      <td>Bassoon</td>\n",
       "      <td>...</td>\n",
       "      <td>2f4cb3d51</td>\n",
       "      <td>2</td>\n",
       "      <td>4</td>\n",
       "      <td>Cold</td>\n",
       "      <td>h</td>\n",
       "      <td>D</td>\n",
       "      <td>kr</td>\n",
       "      <td>2</td>\n",
       "      <td>2</td>\n",
       "      <td>0</td>\n",
       "    </tr>\n",
       "    <tr>\n",
       "      <th>1</th>\n",
       "      <td>0</td>\n",
       "      <td>1</td>\n",
       "      <td>0</td>\n",
       "      <td>1</td>\n",
       "      <td>1</td>\n",
       "      <td>Green</td>\n",
       "      <td>Trapezoid</td>\n",
       "      <td>Hamster</td>\n",
       "      <td>Russia</td>\n",
       "      <td>Piano</td>\n",
       "      <td>...</td>\n",
       "      <td>f83c56c21</td>\n",
       "      <td>1</td>\n",
       "      <td>4</td>\n",
       "      <td>Hot</td>\n",
       "      <td>a</td>\n",
       "      <td>A</td>\n",
       "      <td>bF</td>\n",
       "      <td>7</td>\n",
       "      <td>8</td>\n",
       "      <td>0</td>\n",
       "    </tr>\n",
       "    <tr>\n",
       "      <th>2</th>\n",
       "      <td>0</td>\n",
       "      <td>0</td>\n",
       "      <td>0</td>\n",
       "      <td>0</td>\n",
       "      <td>1</td>\n",
       "      <td>Blue</td>\n",
       "      <td>Trapezoid</td>\n",
       "      <td>Lion</td>\n",
       "      <td>Russia</td>\n",
       "      <td>Theremin</td>\n",
       "      <td>...</td>\n",
       "      <td>ae6800dd0</td>\n",
       "      <td>1</td>\n",
       "      <td>2</td>\n",
       "      <td>Lava Hot</td>\n",
       "      <td>h</td>\n",
       "      <td>R</td>\n",
       "      <td>Jc</td>\n",
       "      <td>7</td>\n",
       "      <td>2</td>\n",
       "      <td>0</td>\n",
       "    </tr>\n",
       "    <tr>\n",
       "      <th>3</th>\n",
       "      <td>0</td>\n",
       "      <td>1</td>\n",
       "      <td>0</td>\n",
       "      <td>0</td>\n",
       "      <td>1</td>\n",
       "      <td>Red</td>\n",
       "      <td>Trapezoid</td>\n",
       "      <td>Snake</td>\n",
       "      <td>Canada</td>\n",
       "      <td>Oboe</td>\n",
       "      <td>...</td>\n",
       "      <td>8270f0d71</td>\n",
       "      <td>1</td>\n",
       "      <td>4</td>\n",
       "      <td>Boiling Hot</td>\n",
       "      <td>i</td>\n",
       "      <td>D</td>\n",
       "      <td>kW</td>\n",
       "      <td>2</td>\n",
       "      <td>1</td>\n",
       "      <td>1</td>\n",
       "    </tr>\n",
       "    <tr>\n",
       "      <th>4</th>\n",
       "      <td>0</td>\n",
       "      <td>0</td>\n",
       "      <td>0</td>\n",
       "      <td>0</td>\n",
       "      <td>0</td>\n",
       "      <td>Red</td>\n",
       "      <td>Trapezoid</td>\n",
       "      <td>Lion</td>\n",
       "      <td>Canada</td>\n",
       "      <td>Oboe</td>\n",
       "      <td>...</td>\n",
       "      <td>b164b72a7</td>\n",
       "      <td>1</td>\n",
       "      <td>4</td>\n",
       "      <td>Freezing</td>\n",
       "      <td>a</td>\n",
       "      <td>R</td>\n",
       "      <td>qP</td>\n",
       "      <td>7</td>\n",
       "      <td>8</td>\n",
       "      <td>0</td>\n",
       "    </tr>\n",
       "  </tbody>\n",
       "</table>\n",
       "<p>5 rows × 24 columns</p>\n",
       "</div>"
      ],
      "text/plain": [
       "   bin_0  bin_1  bin_2  bin_3  bin_4  nom_0      nom_1    nom_2    nom_3  \\\n",
       "0      0      0      0      1      1  Green   Triangle    Snake  Finland   \n",
       "1      0      1      0      1      1  Green  Trapezoid  Hamster   Russia   \n",
       "2      0      0      0      0      1   Blue  Trapezoid     Lion   Russia   \n",
       "3      0      1      0      0      1    Red  Trapezoid    Snake   Canada   \n",
       "4      0      0      0      0      0    Red  Trapezoid     Lion   Canada   \n",
       "\n",
       "      nom_4  ...      nom_9 ord_0 ord_1        ord_2 ord_3  ord_4  ord_5 day  \\\n",
       "0   Bassoon  ...  2f4cb3d51     2     4         Cold     h      D     kr   2   \n",
       "1     Piano  ...  f83c56c21     1     4          Hot     a      A     bF   7   \n",
       "2  Theremin  ...  ae6800dd0     1     2     Lava Hot     h      R     Jc   7   \n",
       "3      Oboe  ...  8270f0d71     1     4  Boiling Hot     i      D     kW   2   \n",
       "4      Oboe  ...  b164b72a7     1     4     Freezing     a      R     qP   7   \n",
       "\n",
       "  month target  \n",
       "0     2      0  \n",
       "1     8      0  \n",
       "2     2      0  \n",
       "3     1      1  \n",
       "4     8      0  \n",
       "\n",
       "[5 rows x 24 columns]"
      ]
     },
     "execution_count": 30,
     "metadata": {},
     "output_type": "execute_result"
    }
   ],
   "source": [
    "data.head()"
   ]
  },
  {
   "cell_type": "code",
   "execution_count": 31,
   "metadata": {
    "execution": {
     "iopub.execute_input": "2021-03-25T14:50:06.505392Z",
     "iopub.status.busy": "2021-03-25T14:50:06.504492Z",
     "iopub.status.idle": "2021-03-25T14:50:06.597239Z",
     "shell.execute_reply": "2021-03-25T14:50:06.596489Z"
    },
    "papermill": {
     "duration": 0.241618,
     "end_time": "2021-03-25T14:50:06.597422",
     "exception": false,
     "start_time": "2021-03-25T14:50:06.355804",
     "status": "completed"
    },
    "tags": []
   },
   "outputs": [],
   "source": [
    "m2_ord2 = {'Boiling Hot' : 0, 'Cold' : 1, 'Freezing' : 2, 'Hot' : 3, 'Lava Hot' : 4, 'Warm' : 5}\n",
    "\n",
    "data['ord_2'] = data['ord_2'].map(m2_ord2)"
   ]
  },
  {
   "cell_type": "code",
   "execution_count": 32,
   "metadata": {
    "execution": {
     "iopub.execute_input": "2021-03-25T14:50:06.891490Z",
     "iopub.status.busy": "2021-03-25T14:50:06.890583Z",
     "iopub.status.idle": "2021-03-25T14:50:06.916321Z",
     "shell.execute_reply": "2021-03-25T14:50:06.916923Z"
    },
    "papermill": {
     "duration": 0.172314,
     "end_time": "2021-03-25T14:50:06.917167",
     "exception": false,
     "start_time": "2021-03-25T14:50:06.744853",
     "status": "completed"
    },
    "tags": []
   },
   "outputs": [
    {
     "data": {
      "text/html": [
       "<div>\n",
       "<style scoped>\n",
       "    .dataframe tbody tr th:only-of-type {\n",
       "        vertical-align: middle;\n",
       "    }\n",
       "\n",
       "    .dataframe tbody tr th {\n",
       "        vertical-align: top;\n",
       "    }\n",
       "\n",
       "    .dataframe thead th {\n",
       "        text-align: right;\n",
       "    }\n",
       "</style>\n",
       "<table border=\"1\" class=\"dataframe\">\n",
       "  <thead>\n",
       "    <tr style=\"text-align: right;\">\n",
       "      <th></th>\n",
       "      <th>bin_0</th>\n",
       "      <th>bin_1</th>\n",
       "      <th>bin_2</th>\n",
       "      <th>bin_3</th>\n",
       "      <th>bin_4</th>\n",
       "      <th>nom_0</th>\n",
       "      <th>nom_1</th>\n",
       "      <th>nom_2</th>\n",
       "      <th>nom_3</th>\n",
       "      <th>nom_4</th>\n",
       "      <th>...</th>\n",
       "      <th>nom_9</th>\n",
       "      <th>ord_0</th>\n",
       "      <th>ord_1</th>\n",
       "      <th>ord_2</th>\n",
       "      <th>ord_3</th>\n",
       "      <th>ord_4</th>\n",
       "      <th>ord_5</th>\n",
       "      <th>day</th>\n",
       "      <th>month</th>\n",
       "      <th>target</th>\n",
       "    </tr>\n",
       "  </thead>\n",
       "  <tbody>\n",
       "    <tr>\n",
       "      <th>0</th>\n",
       "      <td>0</td>\n",
       "      <td>0</td>\n",
       "      <td>0</td>\n",
       "      <td>1</td>\n",
       "      <td>1</td>\n",
       "      <td>Green</td>\n",
       "      <td>Triangle</td>\n",
       "      <td>Snake</td>\n",
       "      <td>Finland</td>\n",
       "      <td>Bassoon</td>\n",
       "      <td>...</td>\n",
       "      <td>2f4cb3d51</td>\n",
       "      <td>2</td>\n",
       "      <td>4</td>\n",
       "      <td>1</td>\n",
       "      <td>h</td>\n",
       "      <td>D</td>\n",
       "      <td>kr</td>\n",
       "      <td>2</td>\n",
       "      <td>2</td>\n",
       "      <td>0</td>\n",
       "    </tr>\n",
       "    <tr>\n",
       "      <th>1</th>\n",
       "      <td>0</td>\n",
       "      <td>1</td>\n",
       "      <td>0</td>\n",
       "      <td>1</td>\n",
       "      <td>1</td>\n",
       "      <td>Green</td>\n",
       "      <td>Trapezoid</td>\n",
       "      <td>Hamster</td>\n",
       "      <td>Russia</td>\n",
       "      <td>Piano</td>\n",
       "      <td>...</td>\n",
       "      <td>f83c56c21</td>\n",
       "      <td>1</td>\n",
       "      <td>4</td>\n",
       "      <td>3</td>\n",
       "      <td>a</td>\n",
       "      <td>A</td>\n",
       "      <td>bF</td>\n",
       "      <td>7</td>\n",
       "      <td>8</td>\n",
       "      <td>0</td>\n",
       "    </tr>\n",
       "    <tr>\n",
       "      <th>2</th>\n",
       "      <td>0</td>\n",
       "      <td>0</td>\n",
       "      <td>0</td>\n",
       "      <td>0</td>\n",
       "      <td>1</td>\n",
       "      <td>Blue</td>\n",
       "      <td>Trapezoid</td>\n",
       "      <td>Lion</td>\n",
       "      <td>Russia</td>\n",
       "      <td>Theremin</td>\n",
       "      <td>...</td>\n",
       "      <td>ae6800dd0</td>\n",
       "      <td>1</td>\n",
       "      <td>2</td>\n",
       "      <td>4</td>\n",
       "      <td>h</td>\n",
       "      <td>R</td>\n",
       "      <td>Jc</td>\n",
       "      <td>7</td>\n",
       "      <td>2</td>\n",
       "      <td>0</td>\n",
       "    </tr>\n",
       "    <tr>\n",
       "      <th>3</th>\n",
       "      <td>0</td>\n",
       "      <td>1</td>\n",
       "      <td>0</td>\n",
       "      <td>0</td>\n",
       "      <td>1</td>\n",
       "      <td>Red</td>\n",
       "      <td>Trapezoid</td>\n",
       "      <td>Snake</td>\n",
       "      <td>Canada</td>\n",
       "      <td>Oboe</td>\n",
       "      <td>...</td>\n",
       "      <td>8270f0d71</td>\n",
       "      <td>1</td>\n",
       "      <td>4</td>\n",
       "      <td>0</td>\n",
       "      <td>i</td>\n",
       "      <td>D</td>\n",
       "      <td>kW</td>\n",
       "      <td>2</td>\n",
       "      <td>1</td>\n",
       "      <td>1</td>\n",
       "    </tr>\n",
       "    <tr>\n",
       "      <th>4</th>\n",
       "      <td>0</td>\n",
       "      <td>0</td>\n",
       "      <td>0</td>\n",
       "      <td>0</td>\n",
       "      <td>0</td>\n",
       "      <td>Red</td>\n",
       "      <td>Trapezoid</td>\n",
       "      <td>Lion</td>\n",
       "      <td>Canada</td>\n",
       "      <td>Oboe</td>\n",
       "      <td>...</td>\n",
       "      <td>b164b72a7</td>\n",
       "      <td>1</td>\n",
       "      <td>4</td>\n",
       "      <td>2</td>\n",
       "      <td>a</td>\n",
       "      <td>R</td>\n",
       "      <td>qP</td>\n",
       "      <td>7</td>\n",
       "      <td>8</td>\n",
       "      <td>0</td>\n",
       "    </tr>\n",
       "  </tbody>\n",
       "</table>\n",
       "<p>5 rows × 24 columns</p>\n",
       "</div>"
      ],
      "text/plain": [
       "   bin_0  bin_1  bin_2  bin_3  bin_4  nom_0      nom_1    nom_2    nom_3  \\\n",
       "0      0      0      0      1      1  Green   Triangle    Snake  Finland   \n",
       "1      0      1      0      1      1  Green  Trapezoid  Hamster   Russia   \n",
       "2      0      0      0      0      1   Blue  Trapezoid     Lion   Russia   \n",
       "3      0      1      0      0      1    Red  Trapezoid    Snake   Canada   \n",
       "4      0      0      0      0      0    Red  Trapezoid     Lion   Canada   \n",
       "\n",
       "      nom_4  ...      nom_9 ord_0 ord_1 ord_2 ord_3  ord_4  ord_5  day month  \\\n",
       "0   Bassoon  ...  2f4cb3d51     2     4     1     h      D     kr    2     2   \n",
       "1     Piano  ...  f83c56c21     1     4     3     a      A     bF    7     8   \n",
       "2  Theremin  ...  ae6800dd0     1     2     4     h      R     Jc    7     2   \n",
       "3      Oboe  ...  8270f0d71     1     4     0     i      D     kW    2     1   \n",
       "4      Oboe  ...  b164b72a7     1     4     2     a      R     qP    7     8   \n",
       "\n",
       "  target  \n",
       "0      0  \n",
       "1      0  \n",
       "2      0  \n",
       "3      1  \n",
       "4      0  \n",
       "\n",
       "[5 rows x 24 columns]"
      ]
     },
     "execution_count": 32,
     "metadata": {},
     "output_type": "execute_result"
    }
   ],
   "source": [
    "data.head()"
   ]
  },
  {
   "cell_type": "code",
   "execution_count": null,
   "metadata": {
    "papermill": {
     "duration": 0.143811,
     "end_time": "2021-03-25T14:50:07.218397",
     "exception": false,
     "start_time": "2021-03-25T14:50:07.074586",
     "status": "completed"
    },
    "tags": []
   },
   "outputs": [],
   "source": []
  },
  {
   "cell_type": "code",
   "execution_count": 33,
   "metadata": {
    "execution": {
     "iopub.execute_input": "2021-03-25T14:50:07.495160Z",
     "iopub.status.busy": "2021-03-25T14:50:07.494338Z",
     "iopub.status.idle": "2021-03-25T14:50:08.082616Z",
     "shell.execute_reply": "2021-03-25T14:50:08.081737Z"
    },
    "papermill": {
     "duration": 0.729978,
     "end_time": "2021-03-25T14:50:08.082811",
     "exception": false,
     "start_time": "2021-03-25T14:50:07.352833",
     "status": "completed"
    },
    "tags": []
   },
   "outputs": [],
   "source": [
    "data['ord_3'] = data['ord_3'].apply(lambda x : ord(x) - ord('a'))\n",
    "data['ord_4'] = data['ord_4'].apply(lambda x : ord(x) - ord('A'))"
   ]
  },
  {
   "cell_type": "code",
   "execution_count": 34,
   "metadata": {
    "execution": {
     "iopub.execute_input": "2021-03-25T14:50:08.368830Z",
     "iopub.status.busy": "2021-03-25T14:50:08.365921Z",
     "iopub.status.idle": "2021-03-25T14:50:08.391548Z",
     "shell.execute_reply": "2021-03-25T14:50:08.392058Z"
    },
    "papermill": {
     "duration": 0.170352,
     "end_time": "2021-03-25T14:50:08.392283",
     "exception": false,
     "start_time": "2021-03-25T14:50:08.221931",
     "status": "completed"
    },
    "tags": []
   },
   "outputs": [
    {
     "data": {
      "text/html": [
       "<div>\n",
       "<style scoped>\n",
       "    .dataframe tbody tr th:only-of-type {\n",
       "        vertical-align: middle;\n",
       "    }\n",
       "\n",
       "    .dataframe tbody tr th {\n",
       "        vertical-align: top;\n",
       "    }\n",
       "\n",
       "    .dataframe thead th {\n",
       "        text-align: right;\n",
       "    }\n",
       "</style>\n",
       "<table border=\"1\" class=\"dataframe\">\n",
       "  <thead>\n",
       "    <tr style=\"text-align: right;\">\n",
       "      <th></th>\n",
       "      <th>bin_0</th>\n",
       "      <th>bin_1</th>\n",
       "      <th>bin_2</th>\n",
       "      <th>bin_3</th>\n",
       "      <th>bin_4</th>\n",
       "      <th>nom_0</th>\n",
       "      <th>nom_1</th>\n",
       "      <th>nom_2</th>\n",
       "      <th>nom_3</th>\n",
       "      <th>nom_4</th>\n",
       "      <th>...</th>\n",
       "      <th>nom_9</th>\n",
       "      <th>ord_0</th>\n",
       "      <th>ord_1</th>\n",
       "      <th>ord_2</th>\n",
       "      <th>ord_3</th>\n",
       "      <th>ord_4</th>\n",
       "      <th>ord_5</th>\n",
       "      <th>day</th>\n",
       "      <th>month</th>\n",
       "      <th>target</th>\n",
       "    </tr>\n",
       "  </thead>\n",
       "  <tbody>\n",
       "    <tr>\n",
       "      <th>0</th>\n",
       "      <td>0</td>\n",
       "      <td>0</td>\n",
       "      <td>0</td>\n",
       "      <td>1</td>\n",
       "      <td>1</td>\n",
       "      <td>Green</td>\n",
       "      <td>Triangle</td>\n",
       "      <td>Snake</td>\n",
       "      <td>Finland</td>\n",
       "      <td>Bassoon</td>\n",
       "      <td>...</td>\n",
       "      <td>2f4cb3d51</td>\n",
       "      <td>2</td>\n",
       "      <td>4</td>\n",
       "      <td>1</td>\n",
       "      <td>7</td>\n",
       "      <td>3</td>\n",
       "      <td>kr</td>\n",
       "      <td>2</td>\n",
       "      <td>2</td>\n",
       "      <td>0</td>\n",
       "    </tr>\n",
       "    <tr>\n",
       "      <th>1</th>\n",
       "      <td>0</td>\n",
       "      <td>1</td>\n",
       "      <td>0</td>\n",
       "      <td>1</td>\n",
       "      <td>1</td>\n",
       "      <td>Green</td>\n",
       "      <td>Trapezoid</td>\n",
       "      <td>Hamster</td>\n",
       "      <td>Russia</td>\n",
       "      <td>Piano</td>\n",
       "      <td>...</td>\n",
       "      <td>f83c56c21</td>\n",
       "      <td>1</td>\n",
       "      <td>4</td>\n",
       "      <td>3</td>\n",
       "      <td>0</td>\n",
       "      <td>0</td>\n",
       "      <td>bF</td>\n",
       "      <td>7</td>\n",
       "      <td>8</td>\n",
       "      <td>0</td>\n",
       "    </tr>\n",
       "    <tr>\n",
       "      <th>2</th>\n",
       "      <td>0</td>\n",
       "      <td>0</td>\n",
       "      <td>0</td>\n",
       "      <td>0</td>\n",
       "      <td>1</td>\n",
       "      <td>Blue</td>\n",
       "      <td>Trapezoid</td>\n",
       "      <td>Lion</td>\n",
       "      <td>Russia</td>\n",
       "      <td>Theremin</td>\n",
       "      <td>...</td>\n",
       "      <td>ae6800dd0</td>\n",
       "      <td>1</td>\n",
       "      <td>2</td>\n",
       "      <td>4</td>\n",
       "      <td>7</td>\n",
       "      <td>17</td>\n",
       "      <td>Jc</td>\n",
       "      <td>7</td>\n",
       "      <td>2</td>\n",
       "      <td>0</td>\n",
       "    </tr>\n",
       "    <tr>\n",
       "      <th>3</th>\n",
       "      <td>0</td>\n",
       "      <td>1</td>\n",
       "      <td>0</td>\n",
       "      <td>0</td>\n",
       "      <td>1</td>\n",
       "      <td>Red</td>\n",
       "      <td>Trapezoid</td>\n",
       "      <td>Snake</td>\n",
       "      <td>Canada</td>\n",
       "      <td>Oboe</td>\n",
       "      <td>...</td>\n",
       "      <td>8270f0d71</td>\n",
       "      <td>1</td>\n",
       "      <td>4</td>\n",
       "      <td>0</td>\n",
       "      <td>8</td>\n",
       "      <td>3</td>\n",
       "      <td>kW</td>\n",
       "      <td>2</td>\n",
       "      <td>1</td>\n",
       "      <td>1</td>\n",
       "    </tr>\n",
       "    <tr>\n",
       "      <th>4</th>\n",
       "      <td>0</td>\n",
       "      <td>0</td>\n",
       "      <td>0</td>\n",
       "      <td>0</td>\n",
       "      <td>0</td>\n",
       "      <td>Red</td>\n",
       "      <td>Trapezoid</td>\n",
       "      <td>Lion</td>\n",
       "      <td>Canada</td>\n",
       "      <td>Oboe</td>\n",
       "      <td>...</td>\n",
       "      <td>b164b72a7</td>\n",
       "      <td>1</td>\n",
       "      <td>4</td>\n",
       "      <td>2</td>\n",
       "      <td>0</td>\n",
       "      <td>17</td>\n",
       "      <td>qP</td>\n",
       "      <td>7</td>\n",
       "      <td>8</td>\n",
       "      <td>0</td>\n",
       "    </tr>\n",
       "  </tbody>\n",
       "</table>\n",
       "<p>5 rows × 24 columns</p>\n",
       "</div>"
      ],
      "text/plain": [
       "   bin_0  bin_1  bin_2  bin_3  bin_4  nom_0      nom_1    nom_2    nom_3  \\\n",
       "0      0      0      0      1      1  Green   Triangle    Snake  Finland   \n",
       "1      0      1      0      1      1  Green  Trapezoid  Hamster   Russia   \n",
       "2      0      0      0      0      1   Blue  Trapezoid     Lion   Russia   \n",
       "3      0      1      0      0      1    Red  Trapezoid    Snake   Canada   \n",
       "4      0      0      0      0      0    Red  Trapezoid     Lion   Canada   \n",
       "\n",
       "      nom_4  ...      nom_9 ord_0 ord_1 ord_2 ord_3  ord_4  ord_5  day  month  \\\n",
       "0   Bassoon  ...  2f4cb3d51     2     4     1     7      3     kr    2      2   \n",
       "1     Piano  ...  f83c56c21     1     4     3     0      0     bF    7      8   \n",
       "2  Theremin  ...  ae6800dd0     1     2     4     7     17     Jc    7      2   \n",
       "3      Oboe  ...  8270f0d71     1     4     0     8      3     kW    2      1   \n",
       "4      Oboe  ...  b164b72a7     1     4     2     0     17     qP    7      8   \n",
       "\n",
       "   target  \n",
       "0       0  \n",
       "1       0  \n",
       "2       0  \n",
       "3       1  \n",
       "4       0  \n",
       "\n",
       "[5 rows x 24 columns]"
      ]
     },
     "execution_count": 34,
     "metadata": {},
     "output_type": "execute_result"
    }
   ],
   "source": [
    "data.head()"
   ]
  },
  {
   "cell_type": "code",
   "execution_count": 35,
   "metadata": {
    "execution": {
     "iopub.execute_input": "2021-03-25T14:50:08.673565Z",
     "iopub.status.busy": "2021-03-25T14:50:08.672767Z",
     "iopub.status.idle": "2021-03-25T14:50:09.976758Z",
     "shell.execute_reply": "2021-03-25T14:50:09.977351Z"
    },
    "papermill": {
     "duration": 1.447318,
     "end_time": "2021-03-25T14:50:09.977622",
     "exception": false,
     "start_time": "2021-03-25T14:50:08.530304",
     "status": "completed"
    },
    "tags": []
   },
   "outputs": [],
   "source": [
    "data['ord_5a'] = data['ord_5'].str[0]\n",
    "data['ord_5b'] = data['ord_5'].str[1]\n",
    "\n",
    "data['ord_5a'] = data['ord_5a'].map({val : idx for idx, val in enumerate(np.unique(data['ord_5a']))})\n",
    "data['ord_5b'] = data['ord_5b'].map({val : idx for idx, val in enumerate(np.unique(data['ord_5b']))})"
   ]
  },
  {
   "cell_type": "code",
   "execution_count": 36,
   "metadata": {
    "execution": {
     "iopub.execute_input": "2021-03-25T14:50:10.260395Z",
     "iopub.status.busy": "2021-03-25T14:50:10.259663Z",
     "iopub.status.idle": "2021-03-25T14:50:10.285146Z",
     "shell.execute_reply": "2021-03-25T14:50:10.285775Z"
    },
    "papermill": {
     "duration": 0.169551,
     "end_time": "2021-03-25T14:50:10.285989",
     "exception": false,
     "start_time": "2021-03-25T14:50:10.116438",
     "status": "completed"
    },
    "tags": []
   },
   "outputs": [
    {
     "data": {
      "text/html": [
       "<div>\n",
       "<style scoped>\n",
       "    .dataframe tbody tr th:only-of-type {\n",
       "        vertical-align: middle;\n",
       "    }\n",
       "\n",
       "    .dataframe tbody tr th {\n",
       "        vertical-align: top;\n",
       "    }\n",
       "\n",
       "    .dataframe thead th {\n",
       "        text-align: right;\n",
       "    }\n",
       "</style>\n",
       "<table border=\"1\" class=\"dataframe\">\n",
       "  <thead>\n",
       "    <tr style=\"text-align: right;\">\n",
       "      <th></th>\n",
       "      <th>bin_0</th>\n",
       "      <th>bin_1</th>\n",
       "      <th>bin_2</th>\n",
       "      <th>bin_3</th>\n",
       "      <th>bin_4</th>\n",
       "      <th>nom_0</th>\n",
       "      <th>nom_1</th>\n",
       "      <th>nom_2</th>\n",
       "      <th>nom_3</th>\n",
       "      <th>nom_4</th>\n",
       "      <th>...</th>\n",
       "      <th>ord_1</th>\n",
       "      <th>ord_2</th>\n",
       "      <th>ord_3</th>\n",
       "      <th>ord_4</th>\n",
       "      <th>ord_5</th>\n",
       "      <th>day</th>\n",
       "      <th>month</th>\n",
       "      <th>target</th>\n",
       "      <th>ord_5a</th>\n",
       "      <th>ord_5b</th>\n",
       "    </tr>\n",
       "  </thead>\n",
       "  <tbody>\n",
       "    <tr>\n",
       "      <th>0</th>\n",
       "      <td>0</td>\n",
       "      <td>0</td>\n",
       "      <td>0</td>\n",
       "      <td>1</td>\n",
       "      <td>1</td>\n",
       "      <td>Green</td>\n",
       "      <td>Triangle</td>\n",
       "      <td>Snake</td>\n",
       "      <td>Finland</td>\n",
       "      <td>Bassoon</td>\n",
       "      <td>...</td>\n",
       "      <td>4</td>\n",
       "      <td>1</td>\n",
       "      <td>7</td>\n",
       "      <td>3</td>\n",
       "      <td>kr</td>\n",
       "      <td>2</td>\n",
       "      <td>2</td>\n",
       "      <td>0</td>\n",
       "      <td>36</td>\n",
       "      <td>43</td>\n",
       "    </tr>\n",
       "    <tr>\n",
       "      <th>1</th>\n",
       "      <td>0</td>\n",
       "      <td>1</td>\n",
       "      <td>0</td>\n",
       "      <td>1</td>\n",
       "      <td>1</td>\n",
       "      <td>Green</td>\n",
       "      <td>Trapezoid</td>\n",
       "      <td>Hamster</td>\n",
       "      <td>Russia</td>\n",
       "      <td>Piano</td>\n",
       "      <td>...</td>\n",
       "      <td>4</td>\n",
       "      <td>3</td>\n",
       "      <td>0</td>\n",
       "      <td>0</td>\n",
       "      <td>bF</td>\n",
       "      <td>7</td>\n",
       "      <td>8</td>\n",
       "      <td>0</td>\n",
       "      <td>27</td>\n",
       "      <td>5</td>\n",
       "    </tr>\n",
       "    <tr>\n",
       "      <th>2</th>\n",
       "      <td>0</td>\n",
       "      <td>0</td>\n",
       "      <td>0</td>\n",
       "      <td>0</td>\n",
       "      <td>1</td>\n",
       "      <td>Blue</td>\n",
       "      <td>Trapezoid</td>\n",
       "      <td>Lion</td>\n",
       "      <td>Russia</td>\n",
       "      <td>Theremin</td>\n",
       "      <td>...</td>\n",
       "      <td>2</td>\n",
       "      <td>4</td>\n",
       "      <td>7</td>\n",
       "      <td>17</td>\n",
       "      <td>Jc</td>\n",
       "      <td>7</td>\n",
       "      <td>2</td>\n",
       "      <td>0</td>\n",
       "      <td>9</td>\n",
       "      <td>28</td>\n",
       "    </tr>\n",
       "    <tr>\n",
       "      <th>3</th>\n",
       "      <td>0</td>\n",
       "      <td>1</td>\n",
       "      <td>0</td>\n",
       "      <td>0</td>\n",
       "      <td>1</td>\n",
       "      <td>Red</td>\n",
       "      <td>Trapezoid</td>\n",
       "      <td>Snake</td>\n",
       "      <td>Canada</td>\n",
       "      <td>Oboe</td>\n",
       "      <td>...</td>\n",
       "      <td>4</td>\n",
       "      <td>0</td>\n",
       "      <td>8</td>\n",
       "      <td>3</td>\n",
       "      <td>kW</td>\n",
       "      <td>2</td>\n",
       "      <td>1</td>\n",
       "      <td>1</td>\n",
       "      <td>36</td>\n",
       "      <td>22</td>\n",
       "    </tr>\n",
       "    <tr>\n",
       "      <th>4</th>\n",
       "      <td>0</td>\n",
       "      <td>0</td>\n",
       "      <td>0</td>\n",
       "      <td>0</td>\n",
       "      <td>0</td>\n",
       "      <td>Red</td>\n",
       "      <td>Trapezoid</td>\n",
       "      <td>Lion</td>\n",
       "      <td>Canada</td>\n",
       "      <td>Oboe</td>\n",
       "      <td>...</td>\n",
       "      <td>4</td>\n",
       "      <td>2</td>\n",
       "      <td>0</td>\n",
       "      <td>17</td>\n",
       "      <td>qP</td>\n",
       "      <td>7</td>\n",
       "      <td>8</td>\n",
       "      <td>0</td>\n",
       "      <td>42</td>\n",
       "      <td>15</td>\n",
       "    </tr>\n",
       "  </tbody>\n",
       "</table>\n",
       "<p>5 rows × 26 columns</p>\n",
       "</div>"
      ],
      "text/plain": [
       "   bin_0  bin_1  bin_2  bin_3  bin_4  nom_0      nom_1    nom_2    nom_3  \\\n",
       "0      0      0      0      1      1  Green   Triangle    Snake  Finland   \n",
       "1      0      1      0      1      1  Green  Trapezoid  Hamster   Russia   \n",
       "2      0      0      0      0      1   Blue  Trapezoid     Lion   Russia   \n",
       "3      0      1      0      0      1    Red  Trapezoid    Snake   Canada   \n",
       "4      0      0      0      0      0    Red  Trapezoid     Lion   Canada   \n",
       "\n",
       "      nom_4  ... ord_1 ord_2 ord_3 ord_4 ord_5  day  month  target  ord_5a  \\\n",
       "0   Bassoon  ...     4     1     7     3    kr    2      2       0      36   \n",
       "1     Piano  ...     4     3     0     0    bF    7      8       0      27   \n",
       "2  Theremin  ...     2     4     7    17    Jc    7      2       0       9   \n",
       "3      Oboe  ...     4     0     8     3    kW    2      1       1      36   \n",
       "4      Oboe  ...     4     2     0    17    qP    7      8       0      42   \n",
       "\n",
       "   ord_5b  \n",
       "0      43  \n",
       "1       5  \n",
       "2      28  \n",
       "3      22  \n",
       "4      15  \n",
       "\n",
       "[5 rows x 26 columns]"
      ]
     },
     "execution_count": 36,
     "metadata": {},
     "output_type": "execute_result"
    }
   ],
   "source": [
    "data.head()"
   ]
  },
  {
   "cell_type": "markdown",
   "metadata": {
    "papermill": {
     "duration": 0.138753,
     "end_time": "2021-03-25T14:50:10.561704",
     "exception": false,
     "start_time": "2021-03-25T14:50:10.422951",
     "status": "completed"
    },
    "tags": []
   },
   "source": [
    "Let's deal the nominal variables."
   ]
  },
  {
   "cell_type": "code",
   "execution_count": 37,
   "metadata": {
    "execution": {
     "iopub.execute_input": "2021-03-25T14:50:10.858911Z",
     "iopub.status.busy": "2021-03-25T14:50:10.858077Z",
     "iopub.status.idle": "2021-03-25T14:50:10.955972Z",
     "shell.execute_reply": "2021-03-25T14:50:10.956555Z"
    },
    "papermill": {
     "duration": 0.252937,
     "end_time": "2021-03-25T14:50:10.956788",
     "exception": false,
     "start_time": "2021-03-25T14:50:10.703851",
     "status": "completed"
    },
    "tags": []
   },
   "outputs": [
    {
     "data": {
      "text/html": [
       "<div>\n",
       "<style scoped>\n",
       "    .dataframe tbody tr th:only-of-type {\n",
       "        vertical-align: middle;\n",
       "    }\n",
       "\n",
       "    .dataframe tbody tr th {\n",
       "        vertical-align: top;\n",
       "    }\n",
       "\n",
       "    .dataframe thead th {\n",
       "        text-align: right;\n",
       "    }\n",
       "</style>\n",
       "<table border=\"1\" class=\"dataframe\">\n",
       "  <thead>\n",
       "    <tr style=\"text-align: right;\">\n",
       "      <th></th>\n",
       "      <th>nom_0</th>\n",
       "      <th>nom_2</th>\n",
       "      <th>nom_3</th>\n",
       "      <th>nom_4</th>\n",
       "      <th>nom_5</th>\n",
       "      <th>nom_6</th>\n",
       "      <th>nom_7</th>\n",
       "      <th>nom_8</th>\n",
       "      <th>nom_9</th>\n",
       "    </tr>\n",
       "  </thead>\n",
       "  <tbody>\n",
       "    <tr>\n",
       "      <th>0</th>\n",
       "      <td>Green</td>\n",
       "      <td>Snake</td>\n",
       "      <td>Finland</td>\n",
       "      <td>Bassoon</td>\n",
       "      <td>50f116bcf</td>\n",
       "      <td>3ac1b8814</td>\n",
       "      <td>68f6ad3e9</td>\n",
       "      <td>c389000ab</td>\n",
       "      <td>2f4cb3d51</td>\n",
       "    </tr>\n",
       "    <tr>\n",
       "      <th>1</th>\n",
       "      <td>Green</td>\n",
       "      <td>Hamster</td>\n",
       "      <td>Russia</td>\n",
       "      <td>Piano</td>\n",
       "      <td>b3b4d25d0</td>\n",
       "      <td>fbcb50fc1</td>\n",
       "      <td>3b6dd5612</td>\n",
       "      <td>4cd920251</td>\n",
       "      <td>f83c56c21</td>\n",
       "    </tr>\n",
       "    <tr>\n",
       "      <th>2</th>\n",
       "      <td>Blue</td>\n",
       "      <td>Lion</td>\n",
       "      <td>Russia</td>\n",
       "      <td>Theremin</td>\n",
       "      <td>3263bdce5</td>\n",
       "      <td>0922e3cb8</td>\n",
       "      <td>a6a36f527</td>\n",
       "      <td>de9c9f684</td>\n",
       "      <td>ae6800dd0</td>\n",
       "    </tr>\n",
       "    <tr>\n",
       "      <th>3</th>\n",
       "      <td>Red</td>\n",
       "      <td>Snake</td>\n",
       "      <td>Canada</td>\n",
       "      <td>Oboe</td>\n",
       "      <td>f12246592</td>\n",
       "      <td>50d7ad46a</td>\n",
       "      <td>ec69236eb</td>\n",
       "      <td>4ade6ab69</td>\n",
       "      <td>8270f0d71</td>\n",
       "    </tr>\n",
       "    <tr>\n",
       "      <th>4</th>\n",
       "      <td>Red</td>\n",
       "      <td>Lion</td>\n",
       "      <td>Canada</td>\n",
       "      <td>Oboe</td>\n",
       "      <td>5b0f5acd5</td>\n",
       "      <td>1fe17a1fd</td>\n",
       "      <td>04ddac2be</td>\n",
       "      <td>cb43ab175</td>\n",
       "      <td>b164b72a7</td>\n",
       "    </tr>\n",
       "    <tr>\n",
       "      <th>...</th>\n",
       "      <td>...</td>\n",
       "      <td>...</td>\n",
       "      <td>...</td>\n",
       "      <td>...</td>\n",
       "      <td>...</td>\n",
       "      <td>...</td>\n",
       "      <td>...</td>\n",
       "      <td>...</td>\n",
       "      <td>...</td>\n",
       "    </tr>\n",
       "    <tr>\n",
       "      <th>299995</th>\n",
       "      <td>Red</td>\n",
       "      <td>Snake</td>\n",
       "      <td>India</td>\n",
       "      <td>Oboe</td>\n",
       "      <td>35f65a9bf</td>\n",
       "      <td>788ba7aea</td>\n",
       "      <td>86a8e4ca0</td>\n",
       "      <td>7508f4ef1</td>\n",
       "      <td>e027decef</td>\n",
       "    </tr>\n",
       "    <tr>\n",
       "      <th>299996</th>\n",
       "      <td>Green</td>\n",
       "      <td>Lion</td>\n",
       "      <td>Russia</td>\n",
       "      <td>Piano</td>\n",
       "      <td>472efea17</td>\n",
       "      <td>3b9693870</td>\n",
       "      <td>c4455f4a8</td>\n",
       "      <td>397dd0274</td>\n",
       "      <td>80f1411c8</td>\n",
       "    </tr>\n",
       "    <tr>\n",
       "      <th>299997</th>\n",
       "      <td>Blue</td>\n",
       "      <td>Axolotl</td>\n",
       "      <td>Russia</td>\n",
       "      <td>Oboe</td>\n",
       "      <td>0dee9b39a</td>\n",
       "      <td>6046454de</td>\n",
       "      <td>ba9901303</td>\n",
       "      <td>5d7806f53</td>\n",
       "      <td>314dcc15b</td>\n",
       "    </tr>\n",
       "    <tr>\n",
       "      <th>299998</th>\n",
       "      <td>Green</td>\n",
       "      <td>Axolotl</td>\n",
       "      <td>Costa Rica</td>\n",
       "      <td>Piano</td>\n",
       "      <td>e1558b071</td>\n",
       "      <td>0000ee65f</td>\n",
       "      <td>c8ae4ea14</td>\n",
       "      <td>1f820c7ce</td>\n",
       "      <td>ab0ce192b</td>\n",
       "    </tr>\n",
       "    <tr>\n",
       "      <th>299999</th>\n",
       "      <td>Blue</td>\n",
       "      <td>Dog</td>\n",
       "      <td>Russia</td>\n",
       "      <td>Bassoon</td>\n",
       "      <td>416a8f3ab</td>\n",
       "      <td>8d1b72979</td>\n",
       "      <td>c073efb40</td>\n",
       "      <td>c13d3ebdf</td>\n",
       "      <td>ad1af2b45</td>\n",
       "    </tr>\n",
       "  </tbody>\n",
       "</table>\n",
       "<p>300000 rows × 9 columns</p>\n",
       "</div>"
      ],
      "text/plain": [
       "        nom_0    nom_2       nom_3     nom_4      nom_5      nom_6      nom_7  \\\n",
       "0       Green    Snake     Finland   Bassoon  50f116bcf  3ac1b8814  68f6ad3e9   \n",
       "1       Green  Hamster      Russia     Piano  b3b4d25d0  fbcb50fc1  3b6dd5612   \n",
       "2        Blue     Lion      Russia  Theremin  3263bdce5  0922e3cb8  a6a36f527   \n",
       "3         Red    Snake      Canada      Oboe  f12246592  50d7ad46a  ec69236eb   \n",
       "4         Red     Lion      Canada      Oboe  5b0f5acd5  1fe17a1fd  04ddac2be   \n",
       "...       ...      ...         ...       ...        ...        ...        ...   \n",
       "299995    Red    Snake       India      Oboe  35f65a9bf  788ba7aea  86a8e4ca0   \n",
       "299996  Green     Lion      Russia     Piano  472efea17  3b9693870  c4455f4a8   \n",
       "299997   Blue  Axolotl      Russia      Oboe  0dee9b39a  6046454de  ba9901303   \n",
       "299998  Green  Axolotl  Costa Rica     Piano  e1558b071  0000ee65f  c8ae4ea14   \n",
       "299999   Blue      Dog      Russia   Bassoon  416a8f3ab  8d1b72979  c073efb40   \n",
       "\n",
       "            nom_8      nom_9  \n",
       "0       c389000ab  2f4cb3d51  \n",
       "1       4cd920251  f83c56c21  \n",
       "2       de9c9f684  ae6800dd0  \n",
       "3       4ade6ab69  8270f0d71  \n",
       "4       cb43ab175  b164b72a7  \n",
       "...           ...        ...  \n",
       "299995  7508f4ef1  e027decef  \n",
       "299996  397dd0274  80f1411c8  \n",
       "299997  5d7806f53  314dcc15b  \n",
       "299998  1f820c7ce  ab0ce192b  \n",
       "299999  c13d3ebdf  ad1af2b45  \n",
       "\n",
       "[300000 rows x 9 columns]"
      ]
     },
     "execution_count": 37,
     "metadata": {},
     "output_type": "execute_result"
    }
   ],
   "source": [
    "data[['nom_0', 'nom_2', 'nom_3', 'nom_4', 'nom_5', 'nom_6', 'nom_7', 'nom_8', 'nom_9']]"
   ]
  },
  {
   "cell_type": "code",
   "execution_count": 38,
   "metadata": {
    "execution": {
     "iopub.execute_input": "2021-03-25T14:50:11.338555Z",
     "iopub.status.busy": "2021-03-25T14:50:11.335636Z",
     "iopub.status.idle": "2021-03-25T14:50:11.344303Z",
     "shell.execute_reply": "2021-03-25T14:50:11.343499Z"
    },
    "papermill": {
     "duration": 0.236142,
     "end_time": "2021-03-25T14:50:11.344476",
     "exception": false,
     "start_time": "2021-03-25T14:50:11.108334",
     "status": "completed"
    },
    "tags": []
   },
   "outputs": [
    {
     "data": {
      "text/plain": [
       "Trapezoid    101181\n",
       "Square        49597\n",
       "Star          45904\n",
       "Circle        37320\n",
       "Polygon       36143\n",
       "Triangle      29855\n",
       "Name: nom_1, dtype: int64"
      ]
     },
     "execution_count": 38,
     "metadata": {},
     "output_type": "execute_result"
    }
   ],
   "source": [
    "data['nom_1'].value_counts()"
   ]
  },
  {
   "cell_type": "code",
   "execution_count": 39,
   "metadata": {
    "execution": {
     "iopub.execute_input": "2021-03-25T14:50:11.776139Z",
     "iopub.status.busy": "2021-03-25T14:50:11.772680Z",
     "iopub.status.idle": "2021-03-25T14:50:11.782153Z",
     "shell.execute_reply": "2021-03-25T14:50:11.781380Z"
    },
    "papermill": {
     "duration": 0.233586,
     "end_time": "2021-03-25T14:50:11.782330",
     "exception": false,
     "start_time": "2021-03-25T14:50:11.548744",
     "status": "completed"
    },
    "tags": []
   },
   "outputs": [
    {
     "data": {
      "text/plain": [
       "Lion       101295\n",
       "Cat         49659\n",
       "Snake       45979\n",
       "Dog         37444\n",
       "Axolotl     36136\n",
       "Hamster     29487\n",
       "Name: nom_2, dtype: int64"
      ]
     },
     "execution_count": 39,
     "metadata": {},
     "output_type": "execute_result"
    }
   ],
   "source": [
    "data['nom_2'].value_counts()"
   ]
  },
  {
   "cell_type": "code",
   "execution_count": 40,
   "metadata": {
    "execution": {
     "iopub.execute_input": "2021-03-25T14:50:12.174740Z",
     "iopub.status.busy": "2021-03-25T14:50:12.173397Z",
     "iopub.status.idle": "2021-03-25T14:50:12.187521Z",
     "shell.execute_reply": "2021-03-25T14:50:12.186738Z"
    },
    "papermill": {
     "duration": 0.262018,
     "end_time": "2021-03-25T14:50:12.187724",
     "exception": false,
     "start_time": "2021-03-25T14:50:11.925706",
     "status": "completed"
    },
    "tags": []
   },
   "outputs": [
    {
     "data": {
      "text/plain": [
       "Russia        101123\n",
       "Canada         49951\n",
       "China          46044\n",
       "Finland        36942\n",
       "Costa Rica     35988\n",
       "India          29952\n",
       "Name: nom_3, dtype: int64"
      ]
     },
     "execution_count": 40,
     "metadata": {},
     "output_type": "execute_result"
    }
   ],
   "source": [
    "data['nom_3'].value_counts()"
   ]
  },
  {
   "cell_type": "code",
   "execution_count": 41,
   "metadata": {
    "execution": {
     "iopub.execute_input": "2021-03-25T14:50:12.575556Z",
     "iopub.status.busy": "2021-03-25T14:50:12.572031Z",
     "iopub.status.idle": "2021-03-25T14:50:12.581955Z",
     "shell.execute_reply": "2021-03-25T14:50:12.581265Z"
    },
    "papermill": {
     "duration": 0.234912,
     "end_time": "2021-03-25T14:50:12.582148",
     "exception": false,
     "start_time": "2021-03-25T14:50:12.347236",
     "status": "completed"
    },
    "tags": []
   },
   "outputs": [
    {
     "data": {
      "text/plain": [
       "Oboe        92293\n",
       "Piano       84517\n",
       "Bassoon     68448\n",
       "Theremin    54742\n",
       "Name: nom_4, dtype: int64"
      ]
     },
     "execution_count": 41,
     "metadata": {},
     "output_type": "execute_result"
    }
   ],
   "source": [
    "data['nom_4'].value_counts()"
   ]
  },
  {
   "cell_type": "code",
   "execution_count": 42,
   "metadata": {
    "execution": {
     "iopub.execute_input": "2021-03-25T14:50:12.954506Z",
     "iopub.status.busy": "2021-03-25T14:50:12.949808Z",
     "iopub.status.idle": "2021-03-25T14:50:12.961489Z",
     "shell.execute_reply": "2021-03-25T14:50:12.960560Z"
    },
    "papermill": {
     "duration": 0.239117,
     "end_time": "2021-03-25T14:50:12.961710",
     "exception": false,
     "start_time": "2021-03-25T14:50:12.722593",
     "status": "completed"
    },
    "tags": []
   },
   "outputs": [
    {
     "data": {
      "text/plain": [
       "f7821e391    2801\n",
       "06eeaf0aa    2750\n",
       "472efea17    2729\n",
       "20b10a832    2725\n",
       "b97f51ac4    2717\n",
       "             ... \n",
       "91c80026f      64\n",
       "88f104c00      59\n",
       "f802a9849      46\n",
       "1fd0233cd      41\n",
       "f710fca39      26\n",
       "Name: nom_5, Length: 222, dtype: int64"
      ]
     },
     "execution_count": 42,
     "metadata": {},
     "output_type": "execute_result"
    }
   ],
   "source": [
    "data['nom_5'].value_counts()"
   ]
  },
  {
   "cell_type": "code",
   "execution_count": 43,
   "metadata": {
    "execution": {
     "iopub.execute_input": "2021-03-25T14:50:13.338784Z",
     "iopub.status.busy": "2021-03-25T14:50:13.337973Z",
     "iopub.status.idle": "2021-03-25T14:50:13.348130Z",
     "shell.execute_reply": "2021-03-25T14:50:13.347467Z"
    },
    "papermill": {
     "duration": 0.233273,
     "end_time": "2021-03-25T14:50:13.348316",
     "exception": false,
     "start_time": "2021-03-25T14:50:13.115043",
     "status": "completed"
    },
    "tags": []
   },
   "outputs": [
    {
     "data": {
      "text/plain": [
       "d173ac7ca    1218\n",
       "2ed5a94b0    1210\n",
       "c9eedfbc2    1193\n",
       "50d7ad46a    1175\n",
       "0922e3cb8    1169\n",
       "             ... \n",
       "26bf5ddd9      16\n",
       "28630a5c8      12\n",
       "8367b78fc      11\n",
       "e97824431       8\n",
       "4dcab4fc8       5\n",
       "Name: nom_6, Length: 522, dtype: int64"
      ]
     },
     "execution_count": 43,
     "metadata": {},
     "output_type": "execute_result"
    }
   ],
   "source": [
    "data['nom_6'].value_counts()"
   ]
  },
  {
   "cell_type": "code",
   "execution_count": 44,
   "metadata": {
    "execution": {
     "iopub.execute_input": "2021-03-25T14:50:13.718185Z",
     "iopub.status.busy": "2021-03-25T14:50:13.717387Z",
     "iopub.status.idle": "2021-03-25T14:50:13.728465Z",
     "shell.execute_reply": "2021-03-25T14:50:13.727823Z"
    },
    "papermill": {
     "duration": 0.237634,
     "end_time": "2021-03-25T14:50:13.728652",
     "exception": false,
     "start_time": "2021-03-25T14:50:13.491018",
     "status": "completed"
    },
    "tags": []
   },
   "outputs": [
    {
     "data": {
      "text/plain": [
       "3a114adea    534\n",
       "6f3940b72    518\n",
       "3b679e531    518\n",
       "fcf2b8dce    517\n",
       "fe27cc23d    515\n",
       "            ... \n",
       "446df0c98      3\n",
       "f718e6e9c      3\n",
       "bc05442e1      3\n",
       "74a1b69b1      2\n",
       "3460d7c4b      1\n",
       "Name: nom_7, Length: 1220, dtype: int64"
      ]
     },
     "execution_count": 44,
     "metadata": {},
     "output_type": "execute_result"
    }
   ],
   "source": [
    "data['nom_7'].value_counts()"
   ]
  },
  {
   "cell_type": "code",
   "execution_count": 45,
   "metadata": {
    "execution": {
     "iopub.execute_input": "2021-03-25T14:50:14.063970Z",
     "iopub.status.busy": "2021-03-25T14:50:14.048748Z",
     "iopub.status.idle": "2021-03-25T14:50:14.067640Z",
     "shell.execute_reply": "2021-03-25T14:50:14.066915Z"
    },
    "papermill": {
     "duration": 0.197324,
     "end_time": "2021-03-25T14:50:14.067806",
     "exception": false,
     "start_time": "2021-03-25T14:50:13.870482",
     "status": "completed"
    },
    "tags": []
   },
   "outputs": [],
   "source": [
    "data.drop(['ord_5', 'nom_5', 'nom_6', 'nom_7', 'nom_8', 'nom_9'], axis = 1, inplace = True)"
   ]
  },
  {
   "cell_type": "code",
   "execution_count": null,
   "metadata": {
    "papermill": {
     "duration": 0.141161,
     "end_time": "2021-03-25T14:50:14.353315",
     "exception": false,
     "start_time": "2021-03-25T14:50:14.212154",
     "status": "completed"
    },
    "tags": []
   },
   "outputs": [],
   "source": []
  },
  {
   "cell_type": "code",
   "execution_count": 46,
   "metadata": {
    "execution": {
     "iopub.execute_input": "2021-03-25T14:50:14.648371Z",
     "iopub.status.busy": "2021-03-25T14:50:14.647583Z",
     "iopub.status.idle": "2021-03-25T14:50:14.653928Z",
     "shell.execute_reply": "2021-03-25T14:50:14.653163Z"
    },
    "papermill": {
     "duration": 0.155063,
     "end_time": "2021-03-25T14:50:14.654106",
     "exception": false,
     "start_time": "2021-03-25T14:50:14.499043",
     "status": "completed"
    },
    "tags": []
   },
   "outputs": [
    {
     "data": {
      "text/plain": [
       "\"data['day'] = data['day'] / 7.0\\n\\ndata['month'] = data['month'] / 12.0\""
      ]
     },
     "execution_count": 46,
     "metadata": {},
     "output_type": "execute_result"
    }
   ],
   "source": [
    "\"\"\"data['day'] = data['day'] / 7.0\n",
    "\n",
    "data['month'] = data['month'] / 12.0\"\"\""
   ]
  },
  {
   "cell_type": "code",
   "execution_count": 47,
   "metadata": {
    "execution": {
     "iopub.execute_input": "2021-03-25T14:50:14.969873Z",
     "iopub.status.busy": "2021-03-25T14:50:14.968923Z",
     "iopub.status.idle": "2021-03-25T14:50:14.974059Z",
     "shell.execute_reply": "2021-03-25T14:50:14.973454Z"
    },
    "papermill": {
     "duration": 0.172005,
     "end_time": "2021-03-25T14:50:14.974223",
     "exception": false,
     "start_time": "2021-03-25T14:50:14.802218",
     "status": "completed"
    },
    "tags": []
   },
   "outputs": [
    {
     "data": {
      "text/html": [
       "<div>\n",
       "<style scoped>\n",
       "    .dataframe tbody tr th:only-of-type {\n",
       "        vertical-align: middle;\n",
       "    }\n",
       "\n",
       "    .dataframe tbody tr th {\n",
       "        vertical-align: top;\n",
       "    }\n",
       "\n",
       "    .dataframe thead th {\n",
       "        text-align: right;\n",
       "    }\n",
       "</style>\n",
       "<table border=\"1\" class=\"dataframe\">\n",
       "  <thead>\n",
       "    <tr style=\"text-align: right;\">\n",
       "      <th></th>\n",
       "      <th>bin_0</th>\n",
       "      <th>bin_1</th>\n",
       "      <th>bin_2</th>\n",
       "      <th>bin_3</th>\n",
       "      <th>bin_4</th>\n",
       "      <th>nom_0</th>\n",
       "      <th>nom_1</th>\n",
       "      <th>nom_2</th>\n",
       "      <th>nom_3</th>\n",
       "      <th>nom_4</th>\n",
       "      <th>ord_0</th>\n",
       "      <th>ord_1</th>\n",
       "      <th>ord_2</th>\n",
       "      <th>ord_3</th>\n",
       "      <th>ord_4</th>\n",
       "      <th>day</th>\n",
       "      <th>month</th>\n",
       "      <th>target</th>\n",
       "      <th>ord_5a</th>\n",
       "      <th>ord_5b</th>\n",
       "    </tr>\n",
       "  </thead>\n",
       "  <tbody>\n",
       "    <tr>\n",
       "      <th>0</th>\n",
       "      <td>0</td>\n",
       "      <td>0</td>\n",
       "      <td>0</td>\n",
       "      <td>1</td>\n",
       "      <td>1</td>\n",
       "      <td>Green</td>\n",
       "      <td>Triangle</td>\n",
       "      <td>Snake</td>\n",
       "      <td>Finland</td>\n",
       "      <td>Bassoon</td>\n",
       "      <td>2</td>\n",
       "      <td>4</td>\n",
       "      <td>1</td>\n",
       "      <td>7</td>\n",
       "      <td>3</td>\n",
       "      <td>2</td>\n",
       "      <td>2</td>\n",
       "      <td>0</td>\n",
       "      <td>36</td>\n",
       "      <td>43</td>\n",
       "    </tr>\n",
       "    <tr>\n",
       "      <th>1</th>\n",
       "      <td>0</td>\n",
       "      <td>1</td>\n",
       "      <td>0</td>\n",
       "      <td>1</td>\n",
       "      <td>1</td>\n",
       "      <td>Green</td>\n",
       "      <td>Trapezoid</td>\n",
       "      <td>Hamster</td>\n",
       "      <td>Russia</td>\n",
       "      <td>Piano</td>\n",
       "      <td>1</td>\n",
       "      <td>4</td>\n",
       "      <td>3</td>\n",
       "      <td>0</td>\n",
       "      <td>0</td>\n",
       "      <td>7</td>\n",
       "      <td>8</td>\n",
       "      <td>0</td>\n",
       "      <td>27</td>\n",
       "      <td>5</td>\n",
       "    </tr>\n",
       "    <tr>\n",
       "      <th>2</th>\n",
       "      <td>0</td>\n",
       "      <td>0</td>\n",
       "      <td>0</td>\n",
       "      <td>0</td>\n",
       "      <td>1</td>\n",
       "      <td>Blue</td>\n",
       "      <td>Trapezoid</td>\n",
       "      <td>Lion</td>\n",
       "      <td>Russia</td>\n",
       "      <td>Theremin</td>\n",
       "      <td>1</td>\n",
       "      <td>2</td>\n",
       "      <td>4</td>\n",
       "      <td>7</td>\n",
       "      <td>17</td>\n",
       "      <td>7</td>\n",
       "      <td>2</td>\n",
       "      <td>0</td>\n",
       "      <td>9</td>\n",
       "      <td>28</td>\n",
       "    </tr>\n",
       "    <tr>\n",
       "      <th>3</th>\n",
       "      <td>0</td>\n",
       "      <td>1</td>\n",
       "      <td>0</td>\n",
       "      <td>0</td>\n",
       "      <td>1</td>\n",
       "      <td>Red</td>\n",
       "      <td>Trapezoid</td>\n",
       "      <td>Snake</td>\n",
       "      <td>Canada</td>\n",
       "      <td>Oboe</td>\n",
       "      <td>1</td>\n",
       "      <td>4</td>\n",
       "      <td>0</td>\n",
       "      <td>8</td>\n",
       "      <td>3</td>\n",
       "      <td>2</td>\n",
       "      <td>1</td>\n",
       "      <td>1</td>\n",
       "      <td>36</td>\n",
       "      <td>22</td>\n",
       "    </tr>\n",
       "    <tr>\n",
       "      <th>4</th>\n",
       "      <td>0</td>\n",
       "      <td>0</td>\n",
       "      <td>0</td>\n",
       "      <td>0</td>\n",
       "      <td>0</td>\n",
       "      <td>Red</td>\n",
       "      <td>Trapezoid</td>\n",
       "      <td>Lion</td>\n",
       "      <td>Canada</td>\n",
       "      <td>Oboe</td>\n",
       "      <td>1</td>\n",
       "      <td>4</td>\n",
       "      <td>2</td>\n",
       "      <td>0</td>\n",
       "      <td>17</td>\n",
       "      <td>7</td>\n",
       "      <td>8</td>\n",
       "      <td>0</td>\n",
       "      <td>42</td>\n",
       "      <td>15</td>\n",
       "    </tr>\n",
       "  </tbody>\n",
       "</table>\n",
       "</div>"
      ],
      "text/plain": [
       "   bin_0  bin_1  bin_2  bin_3  bin_4  nom_0      nom_1    nom_2    nom_3  \\\n",
       "0      0      0      0      1      1  Green   Triangle    Snake  Finland   \n",
       "1      0      1      0      1      1  Green  Trapezoid  Hamster   Russia   \n",
       "2      0      0      0      0      1   Blue  Trapezoid     Lion   Russia   \n",
       "3      0      1      0      0      1    Red  Trapezoid    Snake   Canada   \n",
       "4      0      0      0      0      0    Red  Trapezoid     Lion   Canada   \n",
       "\n",
       "      nom_4  ord_0  ord_1  ord_2  ord_3  ord_4  day  month  target  ord_5a  \\\n",
       "0   Bassoon      2      4      1      7      3    2      2       0      36   \n",
       "1     Piano      1      4      3      0      0    7      8       0      27   \n",
       "2  Theremin      1      2      4      7     17    7      2       0       9   \n",
       "3      Oboe      1      4      0      8      3    2      1       1      36   \n",
       "4      Oboe      1      4      2      0     17    7      8       0      42   \n",
       "\n",
       "   ord_5b  \n",
       "0      43  \n",
       "1       5  \n",
       "2      28  \n",
       "3      22  \n",
       "4      15  "
      ]
     },
     "execution_count": 47,
     "metadata": {},
     "output_type": "execute_result"
    }
   ],
   "source": [
    "data.head()"
   ]
  },
  {
   "cell_type": "markdown",
   "metadata": {
    "papermill": {
     "duration": 0.144937,
     "end_time": "2021-03-25T14:50:15.264359",
     "exception": false,
     "start_time": "2021-03-25T14:50:15.119422",
     "status": "completed"
    },
    "tags": []
   },
   "source": [
    "Let's encode the remaining of the nominal values"
   ]
  },
  {
   "cell_type": "code",
   "execution_count": 48,
   "metadata": {
    "execution": {
     "iopub.execute_input": "2021-03-25T14:50:15.633252Z",
     "iopub.status.busy": "2021-03-25T14:50:15.602680Z",
     "iopub.status.idle": "2021-03-25T14:50:15.642636Z",
     "shell.execute_reply": "2021-03-25T14:50:15.641890Z"
    },
    "papermill": {
     "duration": 0.233609,
     "end_time": "2021-03-25T14:50:15.642800",
     "exception": false,
     "start_time": "2021-03-25T14:50:15.409191",
     "status": "completed"
    },
    "tags": []
   },
   "outputs": [
    {
     "data": {
      "text/plain": [
       "Trapezoid    101181\n",
       "Square        49597\n",
       "Star          45904\n",
       "Circle        37320\n",
       "Polygon       36143\n",
       "Triangle      29855\n",
       "Name: nom_1, dtype: int64"
      ]
     },
     "execution_count": 48,
     "metadata": {},
     "output_type": "execute_result"
    }
   ],
   "source": [
    "data['nom_1'].value_counts()"
   ]
  },
  {
   "cell_type": "code",
   "execution_count": 49,
   "metadata": {
    "execution": {
     "iopub.execute_input": "2021-03-25T14:50:15.991632Z",
     "iopub.status.busy": "2021-03-25T14:50:15.990838Z",
     "iopub.status.idle": "2021-03-25T14:50:16.015357Z",
     "shell.execute_reply": "2021-03-25T14:50:16.015995Z"
    },
    "papermill": {
     "duration": 0.224219,
     "end_time": "2021-03-25T14:50:16.016223",
     "exception": false,
     "start_time": "2021-03-25T14:50:15.792004",
     "status": "completed"
    },
    "tags": []
   },
   "outputs": [],
   "source": [
    "m1_nom1 = {'Trapezoid' : 0, 'Square' : 1, 'Star' : 2, 'Circle' : 3, 'Polygon' : 4, 'Triangle' : 5}\n",
    "\n",
    "data['nom_1'] = data['nom_1'].map(m1_nom1)"
   ]
  },
  {
   "cell_type": "code",
   "execution_count": 50,
   "metadata": {
    "execution": {
     "iopub.execute_input": "2021-03-25T14:50:16.381940Z",
     "iopub.status.busy": "2021-03-25T14:50:16.351777Z",
     "iopub.status.idle": "2021-03-25T14:50:16.391965Z",
     "shell.execute_reply": "2021-03-25T14:50:16.392679Z"
    },
    "papermill": {
     "duration": 0.234149,
     "end_time": "2021-03-25T14:50:16.392891",
     "exception": false,
     "start_time": "2021-03-25T14:50:16.158742",
     "status": "completed"
    },
    "tags": []
   },
   "outputs": [
    {
     "data": {
      "text/plain": [
       "Lion       101295\n",
       "Cat         49659\n",
       "Snake       45979\n",
       "Dog         37444\n",
       "Axolotl     36136\n",
       "Hamster     29487\n",
       "Name: nom_2, dtype: int64"
      ]
     },
     "execution_count": 50,
     "metadata": {},
     "output_type": "execute_result"
    }
   ],
   "source": [
    "data['nom_2'].value_counts()"
   ]
  },
  {
   "cell_type": "code",
   "execution_count": 51,
   "metadata": {
    "execution": {
     "iopub.execute_input": "2021-03-25T14:50:16.736584Z",
     "iopub.status.busy": "2021-03-25T14:50:16.702201Z",
     "iopub.status.idle": "2021-03-25T14:50:16.759697Z",
     "shell.execute_reply": "2021-03-25T14:50:16.758928Z"
    },
    "papermill": {
     "duration": 0.217767,
     "end_time": "2021-03-25T14:50:16.759865",
     "exception": false,
     "start_time": "2021-03-25T14:50:16.542098",
     "status": "completed"
    },
    "tags": []
   },
   "outputs": [],
   "source": [
    "m2_nom2 = {'Lion' : 0, 'Cat' : 1, 'Snake' : 2, 'Dog' : 3, 'Axolotl' : 4, 'Hamster' : 5}\n",
    "data['nom_2'] = data['nom_2'].map(m2_nom2)"
   ]
  },
  {
   "cell_type": "code",
   "execution_count": 52,
   "metadata": {
    "execution": {
     "iopub.execute_input": "2021-03-25T14:50:17.147499Z",
     "iopub.status.busy": "2021-03-25T14:50:17.146360Z",
     "iopub.status.idle": "2021-03-25T14:50:17.158846Z",
     "shell.execute_reply": "2021-03-25T14:50:17.157937Z"
    },
    "papermill": {
     "duration": 0.249077,
     "end_time": "2021-03-25T14:50:17.159053",
     "exception": false,
     "start_time": "2021-03-25T14:50:16.909976",
     "status": "completed"
    },
    "tags": []
   },
   "outputs": [
    {
     "data": {
      "text/plain": [
       "Russia        101123\n",
       "Canada         49951\n",
       "China          46044\n",
       "Finland        36942\n",
       "Costa Rica     35988\n",
       "India          29952\n",
       "Name: nom_3, dtype: int64"
      ]
     },
     "execution_count": 52,
     "metadata": {},
     "output_type": "execute_result"
    }
   ],
   "source": [
    "data['nom_3'].value_counts()"
   ]
  },
  {
   "cell_type": "code",
   "execution_count": 53,
   "metadata": {
    "execution": {
     "iopub.execute_input": "2021-03-25T14:50:17.501455Z",
     "iopub.status.busy": "2021-03-25T14:50:17.499688Z",
     "iopub.status.idle": "2021-03-25T14:50:17.512577Z",
     "shell.execute_reply": "2021-03-25T14:50:17.511740Z"
    },
    "papermill": {
     "duration": 0.205612,
     "end_time": "2021-03-25T14:50:17.512765",
     "exception": false,
     "start_time": "2021-03-25T14:50:17.307153",
     "status": "completed"
    },
    "tags": []
   },
   "outputs": [],
   "source": [
    "m3_nom3 = {'Russia' : 0, 'Canada' : 1, 'China' : 2, 'Finland' : 3, 'Costa Rica' : 4, 'India' : 5}\n",
    "\n",
    "data['nom_3'] = data['nom_3'].map(m3_nom3)"
   ]
  },
  {
   "cell_type": "code",
   "execution_count": 54,
   "metadata": {
    "execution": {
     "iopub.execute_input": "2021-03-25T14:50:17.887713Z",
     "iopub.status.busy": "2021-03-25T14:50:17.886325Z",
     "iopub.status.idle": "2021-03-25T14:50:17.897178Z",
     "shell.execute_reply": "2021-03-25T14:50:17.896089Z"
    },
    "papermill": {
     "duration": 0.23588,
     "end_time": "2021-03-25T14:50:17.897379",
     "exception": false,
     "start_time": "2021-03-25T14:50:17.661499",
     "status": "completed"
    },
    "tags": []
   },
   "outputs": [
    {
     "data": {
      "text/plain": [
       "Oboe        92293\n",
       "Piano       84517\n",
       "Bassoon     68448\n",
       "Theremin    54742\n",
       "Name: nom_4, dtype: int64"
      ]
     },
     "execution_count": 54,
     "metadata": {},
     "output_type": "execute_result"
    }
   ],
   "source": [
    "data['nom_4'].value_counts()"
   ]
  },
  {
   "cell_type": "code",
   "execution_count": 55,
   "metadata": {
    "execution": {
     "iopub.execute_input": "2021-03-25T14:50:18.242367Z",
     "iopub.status.busy": "2021-03-25T14:50:18.240703Z",
     "iopub.status.idle": "2021-03-25T14:50:18.251136Z",
     "shell.execute_reply": "2021-03-25T14:50:18.250490Z"
    },
    "papermill": {
     "duration": 0.205583,
     "end_time": "2021-03-25T14:50:18.251334",
     "exception": false,
     "start_time": "2021-03-25T14:50:18.045751",
     "status": "completed"
    },
    "tags": []
   },
   "outputs": [],
   "source": [
    "m4_nom4 = {'Oboe' : 0, 'Piano' : 1, 'Bassoon' : 2, 'Theremin' : 3}\n",
    "\n",
    "data['nom_4'] = data['nom_4'].map(m4_nom4)"
   ]
  },
  {
   "cell_type": "code",
   "execution_count": 56,
   "metadata": {
    "execution": {
     "iopub.execute_input": "2021-03-25T14:50:18.561905Z",
     "iopub.status.busy": "2021-03-25T14:50:18.560365Z",
     "iopub.status.idle": "2021-03-25T14:50:18.566290Z",
     "shell.execute_reply": "2021-03-25T14:50:18.565627Z"
    },
    "papermill": {
     "duration": 0.170497,
     "end_time": "2021-03-25T14:50:18.566460",
     "exception": false,
     "start_time": "2021-03-25T14:50:18.395963",
     "status": "completed"
    },
    "tags": []
   },
   "outputs": [
    {
     "data": {
      "text/html": [
       "<div>\n",
       "<style scoped>\n",
       "    .dataframe tbody tr th:only-of-type {\n",
       "        vertical-align: middle;\n",
       "    }\n",
       "\n",
       "    .dataframe tbody tr th {\n",
       "        vertical-align: top;\n",
       "    }\n",
       "\n",
       "    .dataframe thead th {\n",
       "        text-align: right;\n",
       "    }\n",
       "</style>\n",
       "<table border=\"1\" class=\"dataframe\">\n",
       "  <thead>\n",
       "    <tr style=\"text-align: right;\">\n",
       "      <th></th>\n",
       "      <th>bin_0</th>\n",
       "      <th>bin_1</th>\n",
       "      <th>bin_2</th>\n",
       "      <th>bin_3</th>\n",
       "      <th>bin_4</th>\n",
       "      <th>nom_0</th>\n",
       "      <th>nom_1</th>\n",
       "      <th>nom_2</th>\n",
       "      <th>nom_3</th>\n",
       "      <th>nom_4</th>\n",
       "      <th>ord_0</th>\n",
       "      <th>ord_1</th>\n",
       "      <th>ord_2</th>\n",
       "      <th>ord_3</th>\n",
       "      <th>ord_4</th>\n",
       "      <th>day</th>\n",
       "      <th>month</th>\n",
       "      <th>target</th>\n",
       "      <th>ord_5a</th>\n",
       "      <th>ord_5b</th>\n",
       "    </tr>\n",
       "  </thead>\n",
       "  <tbody>\n",
       "    <tr>\n",
       "      <th>0</th>\n",
       "      <td>0</td>\n",
       "      <td>0</td>\n",
       "      <td>0</td>\n",
       "      <td>1</td>\n",
       "      <td>1</td>\n",
       "      <td>Green</td>\n",
       "      <td>5</td>\n",
       "      <td>2</td>\n",
       "      <td>3</td>\n",
       "      <td>2</td>\n",
       "      <td>2</td>\n",
       "      <td>4</td>\n",
       "      <td>1</td>\n",
       "      <td>7</td>\n",
       "      <td>3</td>\n",
       "      <td>2</td>\n",
       "      <td>2</td>\n",
       "      <td>0</td>\n",
       "      <td>36</td>\n",
       "      <td>43</td>\n",
       "    </tr>\n",
       "    <tr>\n",
       "      <th>1</th>\n",
       "      <td>0</td>\n",
       "      <td>1</td>\n",
       "      <td>0</td>\n",
       "      <td>1</td>\n",
       "      <td>1</td>\n",
       "      <td>Green</td>\n",
       "      <td>0</td>\n",
       "      <td>5</td>\n",
       "      <td>0</td>\n",
       "      <td>1</td>\n",
       "      <td>1</td>\n",
       "      <td>4</td>\n",
       "      <td>3</td>\n",
       "      <td>0</td>\n",
       "      <td>0</td>\n",
       "      <td>7</td>\n",
       "      <td>8</td>\n",
       "      <td>0</td>\n",
       "      <td>27</td>\n",
       "      <td>5</td>\n",
       "    </tr>\n",
       "    <tr>\n",
       "      <th>2</th>\n",
       "      <td>0</td>\n",
       "      <td>0</td>\n",
       "      <td>0</td>\n",
       "      <td>0</td>\n",
       "      <td>1</td>\n",
       "      <td>Blue</td>\n",
       "      <td>0</td>\n",
       "      <td>0</td>\n",
       "      <td>0</td>\n",
       "      <td>3</td>\n",
       "      <td>1</td>\n",
       "      <td>2</td>\n",
       "      <td>4</td>\n",
       "      <td>7</td>\n",
       "      <td>17</td>\n",
       "      <td>7</td>\n",
       "      <td>2</td>\n",
       "      <td>0</td>\n",
       "      <td>9</td>\n",
       "      <td>28</td>\n",
       "    </tr>\n",
       "    <tr>\n",
       "      <th>3</th>\n",
       "      <td>0</td>\n",
       "      <td>1</td>\n",
       "      <td>0</td>\n",
       "      <td>0</td>\n",
       "      <td>1</td>\n",
       "      <td>Red</td>\n",
       "      <td>0</td>\n",
       "      <td>2</td>\n",
       "      <td>1</td>\n",
       "      <td>0</td>\n",
       "      <td>1</td>\n",
       "      <td>4</td>\n",
       "      <td>0</td>\n",
       "      <td>8</td>\n",
       "      <td>3</td>\n",
       "      <td>2</td>\n",
       "      <td>1</td>\n",
       "      <td>1</td>\n",
       "      <td>36</td>\n",
       "      <td>22</td>\n",
       "    </tr>\n",
       "    <tr>\n",
       "      <th>4</th>\n",
       "      <td>0</td>\n",
       "      <td>0</td>\n",
       "      <td>0</td>\n",
       "      <td>0</td>\n",
       "      <td>0</td>\n",
       "      <td>Red</td>\n",
       "      <td>0</td>\n",
       "      <td>0</td>\n",
       "      <td>1</td>\n",
       "      <td>0</td>\n",
       "      <td>1</td>\n",
       "      <td>4</td>\n",
       "      <td>2</td>\n",
       "      <td>0</td>\n",
       "      <td>17</td>\n",
       "      <td>7</td>\n",
       "      <td>8</td>\n",
       "      <td>0</td>\n",
       "      <td>42</td>\n",
       "      <td>15</td>\n",
       "    </tr>\n",
       "  </tbody>\n",
       "</table>\n",
       "</div>"
      ],
      "text/plain": [
       "   bin_0  bin_1  bin_2  bin_3  bin_4  nom_0  nom_1  nom_2  nom_3  nom_4  \\\n",
       "0      0      0      0      1      1  Green      5      2      3      2   \n",
       "1      0      1      0      1      1  Green      0      5      0      1   \n",
       "2      0      0      0      0      1   Blue      0      0      0      3   \n",
       "3      0      1      0      0      1    Red      0      2      1      0   \n",
       "4      0      0      0      0      0    Red      0      0      1      0   \n",
       "\n",
       "   ord_0  ord_1  ord_2  ord_3  ord_4  day  month  target  ord_5a  ord_5b  \n",
       "0      2      4      1      7      3    2      2       0      36      43  \n",
       "1      1      4      3      0      0    7      8       0      27       5  \n",
       "2      1      2      4      7     17    7      2       0       9      28  \n",
       "3      1      4      0      8      3    2      1       1      36      22  \n",
       "4      1      4      2      0     17    7      8       0      42      15  "
      ]
     },
     "execution_count": 56,
     "metadata": {},
     "output_type": "execute_result"
    }
   ],
   "source": [
    "data.head()"
   ]
  },
  {
   "cell_type": "code",
   "execution_count": 57,
   "metadata": {
    "execution": {
     "iopub.execute_input": "2021-03-25T14:50:18.939959Z",
     "iopub.status.busy": "2021-03-25T14:50:18.936777Z",
     "iopub.status.idle": "2021-03-25T14:50:18.945050Z",
     "shell.execute_reply": "2021-03-25T14:50:18.944249Z"
    },
    "papermill": {
     "duration": 0.232772,
     "end_time": "2021-03-25T14:50:18.945230",
     "exception": false,
     "start_time": "2021-03-25T14:50:18.712458",
     "status": "completed"
    },
    "tags": []
   },
   "outputs": [
    {
     "data": {
      "text/plain": [
       "Green    127341\n",
       "Blue      96166\n",
       "Red       76493\n",
       "Name: nom_0, dtype: int64"
      ]
     },
     "execution_count": 57,
     "metadata": {},
     "output_type": "execute_result"
    }
   ],
   "source": [
    "data['nom_0'].value_counts()"
   ]
  },
  {
   "cell_type": "code",
   "execution_count": 58,
   "metadata": {
    "execution": {
     "iopub.execute_input": "2021-03-25T14:50:19.286937Z",
     "iopub.status.busy": "2021-03-25T14:50:19.286120Z",
     "iopub.status.idle": "2021-03-25T14:50:19.293694Z",
     "shell.execute_reply": "2021-03-25T14:50:19.292979Z"
    },
    "papermill": {
     "duration": 0.200713,
     "end_time": "2021-03-25T14:50:19.293854",
     "exception": false,
     "start_time": "2021-03-25T14:50:19.093141",
     "status": "completed"
    },
    "tags": []
   },
   "outputs": [],
   "source": [
    "m0_nom0 = {'Green' : 0, 'Blue' : 1, 'Red' : 2}\n",
    "\n",
    "data['nom_0'] = data['nom_0'].map(m0_nom0)"
   ]
  },
  {
   "cell_type": "code",
   "execution_count": null,
   "metadata": {
    "papermill": {
     "duration": 0.144929,
     "end_time": "2021-03-25T14:50:19.587002",
     "exception": false,
     "start_time": "2021-03-25T14:50:19.442073",
     "status": "completed"
    },
    "tags": []
   },
   "outputs": [],
   "source": []
  },
  {
   "cell_type": "markdown",
   "metadata": {
    "papermill": {
     "duration": 0.144947,
     "end_time": "2021-03-25T14:50:19.876804",
     "exception": false,
     "start_time": "2021-03-25T14:50:19.731857",
     "status": "completed"
    },
    "tags": []
   },
   "source": [
    "Perform One Hot Encoding of the ordinal features"
   ]
  },
  {
   "cell_type": "markdown",
   "metadata": {
    "papermill": {
     "duration": 0.148646,
     "end_time": "2021-03-25T14:50:20.176474",
     "exception": false,
     "start_time": "2021-03-25T14:50:20.027828",
     "status": "completed"
    },
    "tags": []
   },
   "source": [
    "Label Encoding multiple columns"
   ]
  },
  {
   "cell_type": "code",
   "execution_count": 59,
   "metadata": {
    "execution": {
     "iopub.execute_input": "2021-03-25T14:50:20.475483Z",
     "iopub.status.busy": "2021-03-25T14:50:20.474734Z",
     "iopub.status.idle": "2021-03-25T14:50:20.601785Z",
     "shell.execute_reply": "2021-03-25T14:50:20.601156Z"
    },
    "papermill": {
     "duration": 0.278193,
     "end_time": "2021-03-25T14:50:20.601963",
     "exception": false,
     "start_time": "2021-03-25T14:50:20.323770",
     "status": "completed"
    },
    "tags": []
   },
   "outputs": [],
   "source": [
    "df_copy = data.copy()\n",
    "df_copy.drop(['target'], axis = 1, inplace = True)"
   ]
  },
  {
   "cell_type": "code",
   "execution_count": 60,
   "metadata": {
    "execution": {
     "iopub.execute_input": "2021-03-25T14:50:20.929111Z",
     "iopub.status.busy": "2021-03-25T14:50:20.928331Z",
     "iopub.status.idle": "2021-03-25T14:50:21.384306Z",
     "shell.execute_reply": "2021-03-25T14:50:21.383656Z"
    },
    "papermill": {
     "duration": 0.63611,
     "end_time": "2021-03-25T14:50:21.384479",
     "exception": false,
     "start_time": "2021-03-25T14:50:20.748369",
     "status": "completed"
    },
    "tags": []
   },
   "outputs": [
    {
     "data": {
      "text/html": [
       "<div>\n",
       "<style scoped>\n",
       "    .dataframe tbody tr th:only-of-type {\n",
       "        vertical-align: middle;\n",
       "    }\n",
       "\n",
       "    .dataframe tbody tr th {\n",
       "        vertical-align: top;\n",
       "    }\n",
       "\n",
       "    .dataframe thead th {\n",
       "        text-align: right;\n",
       "    }\n",
       "</style>\n",
       "<table border=\"1\" class=\"dataframe\">\n",
       "  <thead>\n",
       "    <tr style=\"text-align: right;\">\n",
       "      <th></th>\n",
       "      <th>bin_0_0</th>\n",
       "      <th>bin_0_1</th>\n",
       "      <th>bin_1_0</th>\n",
       "      <th>bin_1_1</th>\n",
       "      <th>bin_2_0</th>\n",
       "      <th>bin_2_1</th>\n",
       "      <th>bin_3_0</th>\n",
       "      <th>bin_3_1</th>\n",
       "      <th>bin_4_0</th>\n",
       "      <th>bin_4_1</th>\n",
       "      <th>...</th>\n",
       "      <th>ord_5b_41</th>\n",
       "      <th>ord_5b_42</th>\n",
       "      <th>ord_5b_43</th>\n",
       "      <th>ord_5b_44</th>\n",
       "      <th>ord_5b_45</th>\n",
       "      <th>ord_5b_46</th>\n",
       "      <th>ord_5b_47</th>\n",
       "      <th>ord_5b_48</th>\n",
       "      <th>ord_5b_49</th>\n",
       "      <th>ord_5b_50</th>\n",
       "    </tr>\n",
       "  </thead>\n",
       "  <tbody>\n",
       "    <tr>\n",
       "      <th>0</th>\n",
       "      <td>1</td>\n",
       "      <td>0</td>\n",
       "      <td>1</td>\n",
       "      <td>0</td>\n",
       "      <td>1</td>\n",
       "      <td>0</td>\n",
       "      <td>0</td>\n",
       "      <td>1</td>\n",
       "      <td>0</td>\n",
       "      <td>1</td>\n",
       "      <td>...</td>\n",
       "      <td>0</td>\n",
       "      <td>0</td>\n",
       "      <td>1</td>\n",
       "      <td>0</td>\n",
       "      <td>0</td>\n",
       "      <td>0</td>\n",
       "      <td>0</td>\n",
       "      <td>0</td>\n",
       "      <td>0</td>\n",
       "      <td>0</td>\n",
       "    </tr>\n",
       "    <tr>\n",
       "      <th>1</th>\n",
       "      <td>1</td>\n",
       "      <td>0</td>\n",
       "      <td>0</td>\n",
       "      <td>1</td>\n",
       "      <td>1</td>\n",
       "      <td>0</td>\n",
       "      <td>0</td>\n",
       "      <td>1</td>\n",
       "      <td>0</td>\n",
       "      <td>1</td>\n",
       "      <td>...</td>\n",
       "      <td>0</td>\n",
       "      <td>0</td>\n",
       "      <td>0</td>\n",
       "      <td>0</td>\n",
       "      <td>0</td>\n",
       "      <td>0</td>\n",
       "      <td>0</td>\n",
       "      <td>0</td>\n",
       "      <td>0</td>\n",
       "      <td>0</td>\n",
       "    </tr>\n",
       "    <tr>\n",
       "      <th>2</th>\n",
       "      <td>1</td>\n",
       "      <td>0</td>\n",
       "      <td>1</td>\n",
       "      <td>0</td>\n",
       "      <td>1</td>\n",
       "      <td>0</td>\n",
       "      <td>1</td>\n",
       "      <td>0</td>\n",
       "      <td>0</td>\n",
       "      <td>1</td>\n",
       "      <td>...</td>\n",
       "      <td>0</td>\n",
       "      <td>0</td>\n",
       "      <td>0</td>\n",
       "      <td>0</td>\n",
       "      <td>0</td>\n",
       "      <td>0</td>\n",
       "      <td>0</td>\n",
       "      <td>0</td>\n",
       "      <td>0</td>\n",
       "      <td>0</td>\n",
       "    </tr>\n",
       "    <tr>\n",
       "      <th>3</th>\n",
       "      <td>1</td>\n",
       "      <td>0</td>\n",
       "      <td>0</td>\n",
       "      <td>1</td>\n",
       "      <td>1</td>\n",
       "      <td>0</td>\n",
       "      <td>1</td>\n",
       "      <td>0</td>\n",
       "      <td>0</td>\n",
       "      <td>1</td>\n",
       "      <td>...</td>\n",
       "      <td>0</td>\n",
       "      <td>0</td>\n",
       "      <td>0</td>\n",
       "      <td>0</td>\n",
       "      <td>0</td>\n",
       "      <td>0</td>\n",
       "      <td>0</td>\n",
       "      <td>0</td>\n",
       "      <td>0</td>\n",
       "      <td>0</td>\n",
       "    </tr>\n",
       "    <tr>\n",
       "      <th>4</th>\n",
       "      <td>1</td>\n",
       "      <td>0</td>\n",
       "      <td>1</td>\n",
       "      <td>0</td>\n",
       "      <td>1</td>\n",
       "      <td>0</td>\n",
       "      <td>1</td>\n",
       "      <td>0</td>\n",
       "      <td>1</td>\n",
       "      <td>0</td>\n",
       "      <td>...</td>\n",
       "      <td>0</td>\n",
       "      <td>0</td>\n",
       "      <td>0</td>\n",
       "      <td>0</td>\n",
       "      <td>0</td>\n",
       "      <td>0</td>\n",
       "      <td>0</td>\n",
       "      <td>0</td>\n",
       "      <td>0</td>\n",
       "      <td>0</td>\n",
       "    </tr>\n",
       "    <tr>\n",
       "      <th>...</th>\n",
       "      <td>...</td>\n",
       "      <td>...</td>\n",
       "      <td>...</td>\n",
       "      <td>...</td>\n",
       "      <td>...</td>\n",
       "      <td>...</td>\n",
       "      <td>...</td>\n",
       "      <td>...</td>\n",
       "      <td>...</td>\n",
       "      <td>...</td>\n",
       "      <td>...</td>\n",
       "      <td>...</td>\n",
       "      <td>...</td>\n",
       "      <td>...</td>\n",
       "      <td>...</td>\n",
       "      <td>...</td>\n",
       "      <td>...</td>\n",
       "      <td>...</td>\n",
       "      <td>...</td>\n",
       "      <td>...</td>\n",
       "      <td>...</td>\n",
       "    </tr>\n",
       "    <tr>\n",
       "      <th>299995</th>\n",
       "      <td>1</td>\n",
       "      <td>0</td>\n",
       "      <td>1</td>\n",
       "      <td>0</td>\n",
       "      <td>1</td>\n",
       "      <td>0</td>\n",
       "      <td>0</td>\n",
       "      <td>1</td>\n",
       "      <td>1</td>\n",
       "      <td>0</td>\n",
       "      <td>...</td>\n",
       "      <td>0</td>\n",
       "      <td>0</td>\n",
       "      <td>0</td>\n",
       "      <td>0</td>\n",
       "      <td>0</td>\n",
       "      <td>0</td>\n",
       "      <td>0</td>\n",
       "      <td>0</td>\n",
       "      <td>0</td>\n",
       "      <td>0</td>\n",
       "    </tr>\n",
       "    <tr>\n",
       "      <th>299996</th>\n",
       "      <td>1</td>\n",
       "      <td>0</td>\n",
       "      <td>1</td>\n",
       "      <td>0</td>\n",
       "      <td>1</td>\n",
       "      <td>0</td>\n",
       "      <td>1</td>\n",
       "      <td>0</td>\n",
       "      <td>0</td>\n",
       "      <td>1</td>\n",
       "      <td>...</td>\n",
       "      <td>0</td>\n",
       "      <td>0</td>\n",
       "      <td>0</td>\n",
       "      <td>0</td>\n",
       "      <td>0</td>\n",
       "      <td>0</td>\n",
       "      <td>0</td>\n",
       "      <td>0</td>\n",
       "      <td>0</td>\n",
       "      <td>0</td>\n",
       "    </tr>\n",
       "    <tr>\n",
       "      <th>299997</th>\n",
       "      <td>1</td>\n",
       "      <td>0</td>\n",
       "      <td>1</td>\n",
       "      <td>0</td>\n",
       "      <td>1</td>\n",
       "      <td>0</td>\n",
       "      <td>1</td>\n",
       "      <td>0</td>\n",
       "      <td>0</td>\n",
       "      <td>1</td>\n",
       "      <td>...</td>\n",
       "      <td>0</td>\n",
       "      <td>0</td>\n",
       "      <td>0</td>\n",
       "      <td>0</td>\n",
       "      <td>0</td>\n",
       "      <td>0</td>\n",
       "      <td>0</td>\n",
       "      <td>0</td>\n",
       "      <td>0</td>\n",
       "      <td>0</td>\n",
       "    </tr>\n",
       "    <tr>\n",
       "      <th>299998</th>\n",
       "      <td>1</td>\n",
       "      <td>0</td>\n",
       "      <td>0</td>\n",
       "      <td>1</td>\n",
       "      <td>1</td>\n",
       "      <td>0</td>\n",
       "      <td>1</td>\n",
       "      <td>0</td>\n",
       "      <td>0</td>\n",
       "      <td>1</td>\n",
       "      <td>...</td>\n",
       "      <td>0</td>\n",
       "      <td>0</td>\n",
       "      <td>0</td>\n",
       "      <td>0</td>\n",
       "      <td>0</td>\n",
       "      <td>0</td>\n",
       "      <td>0</td>\n",
       "      <td>0</td>\n",
       "      <td>0</td>\n",
       "      <td>0</td>\n",
       "    </tr>\n",
       "    <tr>\n",
       "      <th>299999</th>\n",
       "      <td>1</td>\n",
       "      <td>0</td>\n",
       "      <td>1</td>\n",
       "      <td>0</td>\n",
       "      <td>1</td>\n",
       "      <td>0</td>\n",
       "      <td>1</td>\n",
       "      <td>0</td>\n",
       "      <td>0</td>\n",
       "      <td>1</td>\n",
       "      <td>...</td>\n",
       "      <td>0</td>\n",
       "      <td>0</td>\n",
       "      <td>0</td>\n",
       "      <td>0</td>\n",
       "      <td>0</td>\n",
       "      <td>0</td>\n",
       "      <td>0</td>\n",
       "      <td>0</td>\n",
       "      <td>0</td>\n",
       "      <td>0</td>\n",
       "    </tr>\n",
       "  </tbody>\n",
       "</table>\n",
       "<p>300000 rows × 212 columns</p>\n",
       "</div>"
      ],
      "text/plain": [
       "        bin_0_0  bin_0_1  bin_1_0  bin_1_1  bin_2_0  bin_2_1  bin_3_0  \\\n",
       "0             1        0        1        0        1        0        0   \n",
       "1             1        0        0        1        1        0        0   \n",
       "2             1        0        1        0        1        0        1   \n",
       "3             1        0        0        1        1        0        1   \n",
       "4             1        0        1        0        1        0        1   \n",
       "...         ...      ...      ...      ...      ...      ...      ...   \n",
       "299995        1        0        1        0        1        0        0   \n",
       "299996        1        0        1        0        1        0        1   \n",
       "299997        1        0        1        0        1        0        1   \n",
       "299998        1        0        0        1        1        0        1   \n",
       "299999        1        0        1        0        1        0        1   \n",
       "\n",
       "        bin_3_1  bin_4_0  bin_4_1  ...  ord_5b_41  ord_5b_42  ord_5b_43  \\\n",
       "0             1        0        1  ...          0          0          1   \n",
       "1             1        0        1  ...          0          0          0   \n",
       "2             0        0        1  ...          0          0          0   \n",
       "3             0        0        1  ...          0          0          0   \n",
       "4             0        1        0  ...          0          0          0   \n",
       "...         ...      ...      ...  ...        ...        ...        ...   \n",
       "299995        1        1        0  ...          0          0          0   \n",
       "299996        0        0        1  ...          0          0          0   \n",
       "299997        0        0        1  ...          0          0          0   \n",
       "299998        0        0        1  ...          0          0          0   \n",
       "299999        0        0        1  ...          0          0          0   \n",
       "\n",
       "        ord_5b_44  ord_5b_45  ord_5b_46  ord_5b_47  ord_5b_48  ord_5b_49  \\\n",
       "0               0          0          0          0          0          0   \n",
       "1               0          0          0          0          0          0   \n",
       "2               0          0          0          0          0          0   \n",
       "3               0          0          0          0          0          0   \n",
       "4               0          0          0          0          0          0   \n",
       "...           ...        ...        ...        ...        ...        ...   \n",
       "299995          0          0          0          0          0          0   \n",
       "299996          0          0          0          0          0          0   \n",
       "299997          0          0          0          0          0          0   \n",
       "299998          0          0          0          0          0          0   \n",
       "299999          0          0          0          0          0          0   \n",
       "\n",
       "        ord_5b_50  \n",
       "0               0  \n",
       "1               0  \n",
       "2               0  \n",
       "3               0  \n",
       "4               0  \n",
       "...           ...  \n",
       "299995          0  \n",
       "299996          0  \n",
       "299997          0  \n",
       "299998          0  \n",
       "299999          0  \n",
       "\n",
       "[300000 rows x 212 columns]"
      ]
     },
     "execution_count": 60,
     "metadata": {},
     "output_type": "execute_result"
    }
   ],
   "source": [
    "df_copy = pd.get_dummies(df_copy, columns = df_copy.columns)\n",
    "df_copy"
   ]
  },
  {
   "cell_type": "code",
   "execution_count": null,
   "metadata": {
    "papermill": {
     "duration": 0.146805,
     "end_time": "2021-03-25T14:50:21.679980",
     "exception": false,
     "start_time": "2021-03-25T14:50:21.533175",
     "status": "completed"
    },
    "tags": []
   },
   "outputs": [],
   "source": []
  },
  {
   "cell_type": "code",
   "execution_count": 61,
   "metadata": {
    "execution": {
     "iopub.execute_input": "2021-03-25T14:50:21.999451Z",
     "iopub.status.busy": "2021-03-25T14:50:21.997126Z",
     "iopub.status.idle": "2021-03-25T14:50:22.005265Z",
     "shell.execute_reply": "2021-03-25T14:50:22.004640Z"
    },
    "papermill": {
     "duration": 0.177942,
     "end_time": "2021-03-25T14:50:22.005434",
     "exception": false,
     "start_time": "2021-03-25T14:50:21.827492",
     "status": "completed"
    },
    "tags": []
   },
   "outputs": [
    {
     "data": {
      "text/html": [
       "<div>\n",
       "<style scoped>\n",
       "    .dataframe tbody tr th:only-of-type {\n",
       "        vertical-align: middle;\n",
       "    }\n",
       "\n",
       "    .dataframe tbody tr th {\n",
       "        vertical-align: top;\n",
       "    }\n",
       "\n",
       "    .dataframe thead th {\n",
       "        text-align: right;\n",
       "    }\n",
       "</style>\n",
       "<table border=\"1\" class=\"dataframe\">\n",
       "  <thead>\n",
       "    <tr style=\"text-align: right;\">\n",
       "      <th></th>\n",
       "      <th>bin_0</th>\n",
       "      <th>bin_1</th>\n",
       "      <th>bin_2</th>\n",
       "      <th>bin_3</th>\n",
       "      <th>bin_4</th>\n",
       "      <th>nom_0</th>\n",
       "      <th>nom_1</th>\n",
       "      <th>nom_2</th>\n",
       "      <th>nom_3</th>\n",
       "      <th>nom_4</th>\n",
       "      <th>ord_0</th>\n",
       "      <th>ord_1</th>\n",
       "      <th>ord_2</th>\n",
       "      <th>ord_3</th>\n",
       "      <th>ord_4</th>\n",
       "      <th>day</th>\n",
       "      <th>month</th>\n",
       "      <th>target</th>\n",
       "      <th>ord_5a</th>\n",
       "      <th>ord_5b</th>\n",
       "    </tr>\n",
       "  </thead>\n",
       "  <tbody>\n",
       "    <tr>\n",
       "      <th>0</th>\n",
       "      <td>0</td>\n",
       "      <td>0</td>\n",
       "      <td>0</td>\n",
       "      <td>1</td>\n",
       "      <td>1</td>\n",
       "      <td>0</td>\n",
       "      <td>5</td>\n",
       "      <td>2</td>\n",
       "      <td>3</td>\n",
       "      <td>2</td>\n",
       "      <td>2</td>\n",
       "      <td>4</td>\n",
       "      <td>1</td>\n",
       "      <td>7</td>\n",
       "      <td>3</td>\n",
       "      <td>2</td>\n",
       "      <td>2</td>\n",
       "      <td>0</td>\n",
       "      <td>36</td>\n",
       "      <td>43</td>\n",
       "    </tr>\n",
       "    <tr>\n",
       "      <th>1</th>\n",
       "      <td>0</td>\n",
       "      <td>1</td>\n",
       "      <td>0</td>\n",
       "      <td>1</td>\n",
       "      <td>1</td>\n",
       "      <td>0</td>\n",
       "      <td>0</td>\n",
       "      <td>5</td>\n",
       "      <td>0</td>\n",
       "      <td>1</td>\n",
       "      <td>1</td>\n",
       "      <td>4</td>\n",
       "      <td>3</td>\n",
       "      <td>0</td>\n",
       "      <td>0</td>\n",
       "      <td>7</td>\n",
       "      <td>8</td>\n",
       "      <td>0</td>\n",
       "      <td>27</td>\n",
       "      <td>5</td>\n",
       "    </tr>\n",
       "    <tr>\n",
       "      <th>2</th>\n",
       "      <td>0</td>\n",
       "      <td>0</td>\n",
       "      <td>0</td>\n",
       "      <td>0</td>\n",
       "      <td>1</td>\n",
       "      <td>1</td>\n",
       "      <td>0</td>\n",
       "      <td>0</td>\n",
       "      <td>0</td>\n",
       "      <td>3</td>\n",
       "      <td>1</td>\n",
       "      <td>2</td>\n",
       "      <td>4</td>\n",
       "      <td>7</td>\n",
       "      <td>17</td>\n",
       "      <td>7</td>\n",
       "      <td>2</td>\n",
       "      <td>0</td>\n",
       "      <td>9</td>\n",
       "      <td>28</td>\n",
       "    </tr>\n",
       "    <tr>\n",
       "      <th>3</th>\n",
       "      <td>0</td>\n",
       "      <td>1</td>\n",
       "      <td>0</td>\n",
       "      <td>0</td>\n",
       "      <td>1</td>\n",
       "      <td>2</td>\n",
       "      <td>0</td>\n",
       "      <td>2</td>\n",
       "      <td>1</td>\n",
       "      <td>0</td>\n",
       "      <td>1</td>\n",
       "      <td>4</td>\n",
       "      <td>0</td>\n",
       "      <td>8</td>\n",
       "      <td>3</td>\n",
       "      <td>2</td>\n",
       "      <td>1</td>\n",
       "      <td>1</td>\n",
       "      <td>36</td>\n",
       "      <td>22</td>\n",
       "    </tr>\n",
       "    <tr>\n",
       "      <th>4</th>\n",
       "      <td>0</td>\n",
       "      <td>0</td>\n",
       "      <td>0</td>\n",
       "      <td>0</td>\n",
       "      <td>0</td>\n",
       "      <td>2</td>\n",
       "      <td>0</td>\n",
       "      <td>0</td>\n",
       "      <td>1</td>\n",
       "      <td>0</td>\n",
       "      <td>1</td>\n",
       "      <td>4</td>\n",
       "      <td>2</td>\n",
       "      <td>0</td>\n",
       "      <td>17</td>\n",
       "      <td>7</td>\n",
       "      <td>8</td>\n",
       "      <td>0</td>\n",
       "      <td>42</td>\n",
       "      <td>15</td>\n",
       "    </tr>\n",
       "  </tbody>\n",
       "</table>\n",
       "</div>"
      ],
      "text/plain": [
       "   bin_0  bin_1  bin_2  bin_3  bin_4  nom_0  nom_1  nom_2  nom_3  nom_4  \\\n",
       "0      0      0      0      1      1      0      5      2      3      2   \n",
       "1      0      1      0      1      1      0      0      5      0      1   \n",
       "2      0      0      0      0      1      1      0      0      0      3   \n",
       "3      0      1      0      0      1      2      0      2      1      0   \n",
       "4      0      0      0      0      0      2      0      0      1      0   \n",
       "\n",
       "   ord_0  ord_1  ord_2  ord_3  ord_4  day  month  target  ord_5a  ord_5b  \n",
       "0      2      4      1      7      3    2      2       0      36      43  \n",
       "1      1      4      3      0      0    7      8       0      27       5  \n",
       "2      1      2      4      7     17    7      2       0       9      28  \n",
       "3      1      4      0      8      3    2      1       1      36      22  \n",
       "4      1      4      2      0     17    7      8       0      42      15  "
      ]
     },
     "execution_count": 61,
     "metadata": {},
     "output_type": "execute_result"
    }
   ],
   "source": [
    "data.head()"
   ]
  },
  {
   "cell_type": "code",
   "execution_count": null,
   "metadata": {
    "papermill": {
     "duration": 0.15653,
     "end_time": "2021-03-25T14:50:22.331824",
     "exception": false,
     "start_time": "2021-03-25T14:50:22.175294",
     "status": "completed"
    },
    "tags": []
   },
   "outputs": [],
   "source": []
  },
  {
   "cell_type": "code",
   "execution_count": 62,
   "metadata": {
    "execution": {
     "iopub.execute_input": "2021-03-25T14:50:22.635103Z",
     "iopub.status.busy": "2021-03-25T14:50:22.634302Z",
     "iopub.status.idle": "2021-03-25T14:50:22.638117Z",
     "shell.execute_reply": "2021-03-25T14:50:22.637396Z"
    },
    "papermill": {
     "duration": 0.157883,
     "end_time": "2021-03-25T14:50:22.638294",
     "exception": false,
     "start_time": "2021-03-25T14:50:22.480411",
     "status": "completed"
    },
    "tags": []
   },
   "outputs": [],
   "source": [
    "#X = data.drop(['target'], axis = 1)\n",
    "X = df_copy\n",
    "y = data.target"
   ]
  },
  {
   "cell_type": "code",
   "execution_count": 63,
   "metadata": {
    "execution": {
     "iopub.execute_input": "2021-03-25T14:50:22.949275Z",
     "iopub.status.busy": "2021-03-25T14:50:22.948394Z",
     "iopub.status.idle": "2021-03-25T14:50:22.952577Z",
     "shell.execute_reply": "2021-03-25T14:50:22.951922Z"
    },
    "papermill": {
     "duration": 0.161834,
     "end_time": "2021-03-25T14:50:22.952777",
     "exception": false,
     "start_time": "2021-03-25T14:50:22.790943",
     "status": "completed"
    },
    "tags": []
   },
   "outputs": [],
   "source": [
    "# perform feature engineering to encode categorical variables so as to be processed by chi2_feature transform"
   ]
  },
  {
   "cell_type": "code",
   "execution_count": null,
   "metadata": {
    "papermill": {
     "duration": 0.188539,
     "end_time": "2021-03-25T14:50:23.302576",
     "exception": false,
     "start_time": "2021-03-25T14:50:23.114037",
     "status": "completed"
    },
    "tags": []
   },
   "outputs": [],
   "source": []
  },
  {
   "cell_type": "code",
   "execution_count": 64,
   "metadata": {
    "execution": {
     "iopub.execute_input": "2021-03-25T14:50:23.616734Z",
     "iopub.status.busy": "2021-03-25T14:50:23.614644Z",
     "iopub.status.idle": "2021-03-25T14:50:26.524176Z",
     "shell.execute_reply": "2021-03-25T14:50:26.523460Z"
    },
    "papermill": {
     "duration": 3.072693,
     "end_time": "2021-03-25T14:50:26.524336",
     "exception": false,
     "start_time": "2021-03-25T14:50:23.451643",
     "status": "completed"
    },
    "tags": []
   },
   "outputs": [
    {
     "name": "stdout",
     "output_type": "stream",
     "text": [
      "Original Number of Features -> (shape) 212\n",
      "K Best Features (shape)->  10\n"
     ]
    }
   ],
   "source": [
    "chi2_features = SelectKBest(chi2, k = 10)\n",
    "X_kbest_features = chi2_features.fit_transform(X,y)\n",
    "\n",
    "print(\"Original Number of Features -> (shape)\", X.shape[1])\n",
    "\n",
    "print(\"K Best Features (shape)-> \",X_kbest_features.shape[1])\n",
    "\n"
   ]
  },
  {
   "cell_type": "code",
   "execution_count": 65,
   "metadata": {
    "execution": {
     "iopub.execute_input": "2021-03-25T14:50:26.829593Z",
     "iopub.status.busy": "2021-03-25T14:50:26.828854Z",
     "iopub.status.idle": "2021-03-25T14:50:26.833949Z",
     "shell.execute_reply": "2021-03-25T14:50:26.833332Z"
    },
    "papermill": {
     "duration": 0.160522,
     "end_time": "2021-03-25T14:50:26.834138",
     "exception": false,
     "start_time": "2021-03-25T14:50:26.673616",
     "status": "completed"
    },
    "tags": []
   },
   "outputs": [
    {
     "data": {
      "text/plain": [
       "array([[0, 0, 1, ..., 0, 0, 0],\n",
       "       [1, 0, 0, ..., 0, 1, 1],\n",
       "       [0, 1, 0, ..., 1, 0, 0],\n",
       "       ...,\n",
       "       [0, 1, 0, ..., 0, 0, 1],\n",
       "       [1, 0, 0, ..., 0, 0, 0],\n",
       "       [0, 1, 1, ..., 0, 0, 0]], dtype=uint8)"
      ]
     },
     "execution_count": 65,
     "metadata": {},
     "output_type": "execute_result"
    }
   ],
   "source": [
    "X_kbest_features"
   ]
  },
  {
   "cell_type": "code",
   "execution_count": null,
   "metadata": {
    "papermill": {
     "duration": 0.149123,
     "end_time": "2021-03-25T14:50:27.137254",
     "exception": false,
     "start_time": "2021-03-25T14:50:26.988131",
     "status": "completed"
    },
    "tags": []
   },
   "outputs": [],
   "source": []
  },
  {
   "cell_type": "markdown",
   "metadata": {
    "papermill": {
     "duration": 0.149136,
     "end_time": "2021-03-25T14:50:27.447176",
     "exception": false,
     "start_time": "2021-03-25T14:50:27.298040",
     "status": "completed"
    },
    "tags": []
   },
   "source": [
    "### 4. T-Test"
   ]
  },
  {
   "cell_type": "markdown",
   "metadata": {
    "papermill": {
     "duration": 0.154854,
     "end_time": "2021-03-25T14:50:27.755019",
     "exception": false,
     "start_time": "2021-03-25T14:50:27.600165",
     "status": "completed"
    },
    "tags": []
   },
   "source": [
    "t-test also known as Student's t-test compares the two averages (means) and tells you if they are different from each other. <br>\n",
    "Can also tell you how significant the differences are. "
   ]
  },
  {
   "cell_type": "markdown",
   "metadata": {
    "papermill": {
     "duration": 0.156144,
     "end_time": "2021-03-25T14:50:28.064055",
     "exception": false,
     "start_time": "2021-03-25T14:50:27.907911",
     "status": "completed"
    },
    "tags": []
   },
   "source": [
    "**t-score**"
   ]
  },
  {
   "cell_type": "markdown",
   "metadata": {
    "papermill": {
     "duration": 0.152328,
     "end_time": "2021-03-25T14:50:28.368404",
     "exception": false,
     "start_time": "2021-03-25T14:50:28.216076",
     "status": "completed"
    },
    "tags": []
   },
   "source": [
    "**T-Values vs P-Values**"
   ]
  },
  {
   "cell_type": "code",
   "execution_count": null,
   "metadata": {
    "papermill": {
     "duration": 0.153208,
     "end_time": "2021-03-25T14:50:28.677659",
     "exception": false,
     "start_time": "2021-03-25T14:50:28.524451",
     "status": "completed"
    },
    "tags": []
   },
   "outputs": [],
   "source": []
  },
  {
   "cell_type": "markdown",
   "metadata": {
    "papermill": {
     "duration": 0.157276,
     "end_time": "2021-03-25T14:50:28.995642",
     "exception": false,
     "start_time": "2021-03-25T14:50:28.838366",
     "status": "completed"
    },
    "tags": []
   },
   "source": [
    "Types of T-Test <br>\n",
    "* Independent Samples t-test\n",
    "* Paired Sample t-test\n",
    "* One Sample t-test"
   ]
  },
  {
   "cell_type": "markdown",
   "metadata": {
    "papermill": {
     "duration": 0.158045,
     "end_time": "2021-03-25T14:50:29.311645",
     "exception": false,
     "start_time": "2021-03-25T14:50:29.153600",
     "status": "completed"
    },
    "tags": []
   },
   "source": [
    "### 5. Z-Test"
   ]
  },
  {
   "cell_type": "code",
   "execution_count": null,
   "metadata": {
    "papermill": {
     "duration": 0.151967,
     "end_time": "2021-03-25T14:50:29.617771",
     "exception": false,
     "start_time": "2021-03-25T14:50:29.465804",
     "status": "completed"
    },
    "tags": []
   },
   "outputs": [],
   "source": []
  },
  {
   "cell_type": "markdown",
   "metadata": {
    "papermill": {
     "duration": 0.154502,
     "end_time": "2021-03-25T14:50:29.927210",
     "exception": false,
     "start_time": "2021-03-25T14:50:29.772708",
     "status": "completed"
    },
    "tags": []
   },
   "source": [
    "### 6. ANOVA Test"
   ]
  },
  {
   "cell_type": "markdown",
   "metadata": {
    "papermill": {
     "duration": 0.151305,
     "end_time": "2021-03-25T14:50:30.236328",
     "exception": false,
     "start_time": "2021-03-25T14:50:30.085023",
     "status": "completed"
    },
    "tags": []
   },
   "source": [
    "ANOVA -> Analysis of Variance. <br>\n",
    "Helps to compare the means of more than 2 groups. <br>\n",
    "ANOVA F Test is also called omnibus test. <br><br><br>\n",
    "\n",
    "Main types of ANOVA Test -> \n",
    "* One-way or One-factor \n",
    "* Two-way or Two-factor"
   ]
  },
  {
   "cell_type": "markdown",
   "metadata": {
    "papermill": {
     "duration": 0.15106,
     "end_time": "2021-03-25T14:50:30.541101",
     "exception": false,
     "start_time": "2021-03-25T14:50:30.390041",
     "status": "completed"
    },
    "tags": []
   },
   "source": [
    "ANOVA Hypotheses -> <br>\n",
    "* Null Hypotheses = Group means are equal. No variation in the groups. \n",
    "* Alternative Hypothesis = At least, one group is different from other groups."
   ]
  },
  {
   "cell_type": "markdown",
   "metadata": {
    "papermill": {
     "duration": 0.15616,
     "end_time": "2021-03-25T14:50:30.850115",
     "exception": false,
     "start_time": "2021-03-25T14:50:30.693955",
     "status": "completed"
    },
    "tags": []
   },
   "source": [
    "ANOVA Assumptions -> <br><br>\n",
    "* Residuals(experimental error) are normally distributed.(Shapiro-Wilks Test)\n",
    "* Homogenity of variances (variances are equal between treatment groups) (Levene's or Bartlett's Test)\n",
    "* Observations are sampled independently from each other. "
   ]
  },
  {
   "cell_type": "markdown",
   "metadata": {
    "papermill": {
     "duration": 0.15567,
     "end_time": "2021-03-25T14:50:31.163235",
     "exception": false,
     "start_time": "2021-03-25T14:50:31.007565",
     "status": "completed"
    },
    "tags": []
   },
   "source": [
    "ANOVA Working -> <br><br>\n",
    "* Check sample sizes, i.e., Equal number of observations in each group. \n",
    "* Calculate Mean Square for each group (MS) (SS of group/degrees of freedom-1)\n",
    "* Calc Mean Sq. Error (SS Error / df of residuals)\n",
    "* Calc F value (MS of group / MSE)"
   ]
  },
  {
   "cell_type": "markdown",
   "metadata": {
    "papermill": {
     "duration": 0.151686,
     "end_time": "2021-03-25T14:50:31.467320",
     "exception": false,
     "start_time": "2021-03-25T14:50:31.315634",
     "status": "completed"
    },
    "tags": []
   },
   "source": [
    "#### 6.1 One-Way ANOVA Test"
   ]
  },
  {
   "cell_type": "code",
   "execution_count": 66,
   "metadata": {
    "execution": {
     "iopub.execute_input": "2021-03-25T14:50:31.784871Z",
     "iopub.status.busy": "2021-03-25T14:50:31.784019Z",
     "iopub.status.idle": "2021-03-25T14:50:31.787921Z",
     "shell.execute_reply": "2021-03-25T14:50:31.787281Z"
    },
    "papermill": {
     "duration": 0.165767,
     "end_time": "2021-03-25T14:50:31.788107",
     "exception": false,
     "start_time": "2021-03-25T14:50:31.622340",
     "status": "completed"
    },
    "tags": []
   },
   "outputs": [],
   "source": [
    "import random"
   ]
  },
  {
   "cell_type": "code",
   "execution_count": 67,
   "metadata": {
    "execution": {
     "iopub.execute_input": "2021-03-25T14:50:32.117406Z",
     "iopub.status.busy": "2021-03-25T14:50:32.116575Z",
     "iopub.status.idle": "2021-03-25T14:50:32.123117Z",
     "shell.execute_reply": "2021-03-25T14:50:32.122288Z"
    },
    "papermill": {
     "duration": 0.178544,
     "end_time": "2021-03-25T14:50:32.123306",
     "exception": false,
     "start_time": "2021-03-25T14:50:31.944762",
     "status": "completed"
    },
    "tags": []
   },
   "outputs": [],
   "source": [
    "random.seed(2021)"
   ]
  },
  {
   "cell_type": "code",
   "execution_count": 68,
   "metadata": {
    "execution": {
     "iopub.execute_input": "2021-03-25T14:50:32.436454Z",
     "iopub.status.busy": "2021-03-25T14:50:32.435707Z",
     "iopub.status.idle": "2021-03-25T14:50:32.444768Z",
     "shell.execute_reply": "2021-03-25T14:50:32.443923Z"
    },
    "papermill": {
     "duration": 0.164328,
     "end_time": "2021-03-25T14:50:32.444942",
     "exception": false,
     "start_time": "2021-03-25T14:50:32.280614",
     "status": "completed"
    },
    "tags": []
   },
   "outputs": [],
   "source": [
    "df = pd.DataFrame([random.sample(range(1, 1000), 4) , random.sample(range(1, 1000), 4), random.sample(range(1, 1000), 4), random.sample(range(1, 1000), 4)], columns = ['A', 'B', 'C', \"D\"])"
   ]
  },
  {
   "cell_type": "code",
   "execution_count": 69,
   "metadata": {
    "execution": {
     "iopub.execute_input": "2021-03-25T14:50:32.757045Z",
     "iopub.status.busy": "2021-03-25T14:50:32.755935Z",
     "iopub.status.idle": "2021-03-25T14:50:32.761687Z",
     "shell.execute_reply": "2021-03-25T14:50:32.760863Z"
    },
    "papermill": {
     "duration": 0.166058,
     "end_time": "2021-03-25T14:50:32.761874",
     "exception": false,
     "start_time": "2021-03-25T14:50:32.595816",
     "status": "completed"
    },
    "tags": []
   },
   "outputs": [
    {
     "data": {
      "text/html": [
       "<div>\n",
       "<style scoped>\n",
       "    .dataframe tbody tr th:only-of-type {\n",
       "        vertical-align: middle;\n",
       "    }\n",
       "\n",
       "    .dataframe tbody tr th {\n",
       "        vertical-align: top;\n",
       "    }\n",
       "\n",
       "    .dataframe thead th {\n",
       "        text-align: right;\n",
       "    }\n",
       "</style>\n",
       "<table border=\"1\" class=\"dataframe\">\n",
       "  <thead>\n",
       "    <tr style=\"text-align: right;\">\n",
       "      <th></th>\n",
       "      <th>A</th>\n",
       "      <th>B</th>\n",
       "      <th>C</th>\n",
       "      <th>D</th>\n",
       "    </tr>\n",
       "  </thead>\n",
       "  <tbody>\n",
       "    <tr>\n",
       "      <th>0</th>\n",
       "      <td>857</td>\n",
       "      <td>414</td>\n",
       "      <td>879</td>\n",
       "      <td>645</td>\n",
       "    </tr>\n",
       "    <tr>\n",
       "      <th>1</th>\n",
       "      <td>558</td>\n",
       "      <td>284</td>\n",
       "      <td>254</td>\n",
       "      <td>900</td>\n",
       "    </tr>\n",
       "    <tr>\n",
       "      <th>2</th>\n",
       "      <td>651</td>\n",
       "      <td>36</td>\n",
       "      <td>997</td>\n",
       "      <td>455</td>\n",
       "    </tr>\n",
       "    <tr>\n",
       "      <th>3</th>\n",
       "      <td>486</td>\n",
       "      <td>589</td>\n",
       "      <td>66</td>\n",
       "      <td>321</td>\n",
       "    </tr>\n",
       "  </tbody>\n",
       "</table>\n",
       "</div>"
      ],
      "text/plain": [
       "     A    B    C    D\n",
       "0  857  414  879  645\n",
       "1  558  284  254  900\n",
       "2  651   36  997  455\n",
       "3  486  589   66  321"
      ]
     },
     "execution_count": 69,
     "metadata": {},
     "output_type": "execute_result"
    }
   ],
   "source": [
    "df"
   ]
  },
  {
   "cell_type": "code",
   "execution_count": 70,
   "metadata": {
    "execution": {
     "iopub.execute_input": "2021-03-25T14:50:33.072593Z",
     "iopub.status.busy": "2021-03-25T14:50:33.071811Z",
     "iopub.status.idle": "2021-03-25T14:50:33.083710Z",
     "shell.execute_reply": "2021-03-25T14:50:33.084257Z"
    },
    "papermill": {
     "duration": 0.171775,
     "end_time": "2021-03-25T14:50:33.084484",
     "exception": false,
     "start_time": "2021-03-25T14:50:32.912709",
     "status": "completed"
    },
    "tags": []
   },
   "outputs": [],
   "source": [
    "df_melt = pd.melt(df.reset_index(), id_vars = ['index'], value_vars = ['A','B','C','D'])\n",
    "df_melt.columns = ['index', 'treatments', 'value']"
   ]
  },
  {
   "cell_type": "code",
   "execution_count": 71,
   "metadata": {
    "execution": {
     "iopub.execute_input": "2021-03-25T14:50:33.392492Z",
     "iopub.status.busy": "2021-03-25T14:50:33.391759Z",
     "iopub.status.idle": "2021-03-25T14:50:33.404853Z",
     "shell.execute_reply": "2021-03-25T14:50:33.404190Z"
    },
    "papermill": {
     "duration": 0.166957,
     "end_time": "2021-03-25T14:50:33.405018",
     "exception": false,
     "start_time": "2021-03-25T14:50:33.238061",
     "status": "completed"
    },
    "tags": []
   },
   "outputs": [
    {
     "data": {
      "text/html": [
       "<div>\n",
       "<style scoped>\n",
       "    .dataframe tbody tr th:only-of-type {\n",
       "        vertical-align: middle;\n",
       "    }\n",
       "\n",
       "    .dataframe tbody tr th {\n",
       "        vertical-align: top;\n",
       "    }\n",
       "\n",
       "    .dataframe thead th {\n",
       "        text-align: right;\n",
       "    }\n",
       "</style>\n",
       "<table border=\"1\" class=\"dataframe\">\n",
       "  <thead>\n",
       "    <tr style=\"text-align: right;\">\n",
       "      <th></th>\n",
       "      <th>index</th>\n",
       "      <th>treatments</th>\n",
       "      <th>value</th>\n",
       "    </tr>\n",
       "  </thead>\n",
       "  <tbody>\n",
       "    <tr>\n",
       "      <th>0</th>\n",
       "      <td>0</td>\n",
       "      <td>A</td>\n",
       "      <td>857</td>\n",
       "    </tr>\n",
       "    <tr>\n",
       "      <th>1</th>\n",
       "      <td>1</td>\n",
       "      <td>A</td>\n",
       "      <td>558</td>\n",
       "    </tr>\n",
       "    <tr>\n",
       "      <th>2</th>\n",
       "      <td>2</td>\n",
       "      <td>A</td>\n",
       "      <td>651</td>\n",
       "    </tr>\n",
       "    <tr>\n",
       "      <th>3</th>\n",
       "      <td>3</td>\n",
       "      <td>A</td>\n",
       "      <td>486</td>\n",
       "    </tr>\n",
       "    <tr>\n",
       "      <th>4</th>\n",
       "      <td>0</td>\n",
       "      <td>B</td>\n",
       "      <td>414</td>\n",
       "    </tr>\n",
       "    <tr>\n",
       "      <th>5</th>\n",
       "      <td>1</td>\n",
       "      <td>B</td>\n",
       "      <td>284</td>\n",
       "    </tr>\n",
       "    <tr>\n",
       "      <th>6</th>\n",
       "      <td>2</td>\n",
       "      <td>B</td>\n",
       "      <td>36</td>\n",
       "    </tr>\n",
       "    <tr>\n",
       "      <th>7</th>\n",
       "      <td>3</td>\n",
       "      <td>B</td>\n",
       "      <td>589</td>\n",
       "    </tr>\n",
       "    <tr>\n",
       "      <th>8</th>\n",
       "      <td>0</td>\n",
       "      <td>C</td>\n",
       "      <td>879</td>\n",
       "    </tr>\n",
       "    <tr>\n",
       "      <th>9</th>\n",
       "      <td>1</td>\n",
       "      <td>C</td>\n",
       "      <td>254</td>\n",
       "    </tr>\n",
       "    <tr>\n",
       "      <th>10</th>\n",
       "      <td>2</td>\n",
       "      <td>C</td>\n",
       "      <td>997</td>\n",
       "    </tr>\n",
       "    <tr>\n",
       "      <th>11</th>\n",
       "      <td>3</td>\n",
       "      <td>C</td>\n",
       "      <td>66</td>\n",
       "    </tr>\n",
       "    <tr>\n",
       "      <th>12</th>\n",
       "      <td>0</td>\n",
       "      <td>D</td>\n",
       "      <td>645</td>\n",
       "    </tr>\n",
       "    <tr>\n",
       "      <th>13</th>\n",
       "      <td>1</td>\n",
       "      <td>D</td>\n",
       "      <td>900</td>\n",
       "    </tr>\n",
       "    <tr>\n",
       "      <th>14</th>\n",
       "      <td>2</td>\n",
       "      <td>D</td>\n",
       "      <td>455</td>\n",
       "    </tr>\n",
       "    <tr>\n",
       "      <th>15</th>\n",
       "      <td>3</td>\n",
       "      <td>D</td>\n",
       "      <td>321</td>\n",
       "    </tr>\n",
       "  </tbody>\n",
       "</table>\n",
       "</div>"
      ],
      "text/plain": [
       "    index treatments  value\n",
       "0       0          A    857\n",
       "1       1          A    558\n",
       "2       2          A    651\n",
       "3       3          A    486\n",
       "4       0          B    414\n",
       "5       1          B    284\n",
       "6       2          B     36\n",
       "7       3          B    589\n",
       "8       0          C    879\n",
       "9       1          C    254\n",
       "10      2          C    997\n",
       "11      3          C     66\n",
       "12      0          D    645\n",
       "13      1          D    900\n",
       "14      2          D    455\n",
       "15      3          D    321"
      ]
     },
     "execution_count": 71,
     "metadata": {},
     "output_type": "execute_result"
    }
   ],
   "source": [
    "df_melt"
   ]
  },
  {
   "cell_type": "code",
   "execution_count": 72,
   "metadata": {
    "execution": {
     "iopub.execute_input": "2021-03-25T14:50:33.725617Z",
     "iopub.status.busy": "2021-03-25T14:50:33.724346Z",
     "iopub.status.idle": "2021-03-25T14:50:33.947133Z",
     "shell.execute_reply": "2021-03-25T14:50:33.946347Z"
    },
    "papermill": {
     "duration": 0.39042,
     "end_time": "2021-03-25T14:50:33.947303",
     "exception": false,
     "start_time": "2021-03-25T14:50:33.556883",
     "status": "completed"
    },
    "tags": []
   },
   "outputs": [
    {
     "data": {
      "image/png": "[encoded data removed]",
      "text/plain": [
       "<Figure size 432x288 with 1 Axes>"
      ]
     },
     "metadata": {
      "needs_background": "light"
     },
     "output_type": "display_data"
    }
   ],
   "source": [
    "sns.boxplot(x='treatments', y='value', data=df_melt, color='#99c2a2')\n",
    "sns.swarmplot(x=\"treatments\", y=\"value\", data=df_melt, color='#7d0013')\n",
    "plt.show()"
   ]
  },
  {
   "cell_type": "code",
   "execution_count": 73,
   "metadata": {
    "execution": {
     "iopub.execute_input": "2021-03-25T14:50:34.266983Z",
     "iopub.status.busy": "2021-03-25T14:50:34.265595Z",
     "iopub.status.idle": "2021-03-25T14:50:34.269764Z",
     "shell.execute_reply": "2021-03-25T14:50:34.270293Z"
    },
    "papermill": {
     "duration": 0.163952,
     "end_time": "2021-03-25T14:50:34.270516",
     "exception": false,
     "start_time": "2021-03-25T14:50:34.106564",
     "status": "completed"
    },
    "tags": []
   },
   "outputs": [],
   "source": [
    "from scipy import stats"
   ]
  },
  {
   "cell_type": "code",
   "execution_count": 74,
   "metadata": {
    "execution": {
     "iopub.execute_input": "2021-03-25T14:50:34.607697Z",
     "iopub.status.busy": "2021-03-25T14:50:34.606218Z",
     "iopub.status.idle": "2021-03-25T14:50:34.610483Z",
     "shell.execute_reply": "2021-03-25T14:50:34.611157Z"
    },
    "papermill": {
     "duration": 0.170511,
     "end_time": "2021-03-25T14:50:34.611442",
     "exception": false,
     "start_time": "2021-03-25T14:50:34.440931",
     "status": "completed"
    },
    "tags": []
   },
   "outputs": [
    {
     "name": "stdout",
     "output_type": "stream",
     "text": [
      "f Value ->  0.8173829088134379\n",
      "p value ->  0.5087624005681269\n"
     ]
    }
   ],
   "source": [
    "fvalue, pvalue = stats.f_oneway(df['A'], df['B'], df['C'], df['D'])\n",
    "print(\"f Value -> \", fvalue)\n",
    "print(\"p value -> \", pvalue)"
   ]
  },
  {
   "cell_type": "code",
   "execution_count": 75,
   "metadata": {
    "execution": {
     "iopub.execute_input": "2021-03-25T14:50:34.946036Z",
     "iopub.status.busy": "2021-03-25T14:50:34.945036Z",
     "iopub.status.idle": "2021-03-25T14:50:35.921214Z",
     "shell.execute_reply": "2021-03-25T14:50:35.921753Z"
    },
    "papermill": {
     "duration": 1.137213,
     "end_time": "2021-03-25T14:50:35.921965",
     "exception": false,
     "start_time": "2021-03-25T14:50:34.784752",
     "status": "completed"
    },
    "tags": []
   },
   "outputs": [
    {
     "data": {
      "text/html": [
       "<div>\n",
       "<style scoped>\n",
       "    .dataframe tbody tr th:only-of-type {\n",
       "        vertical-align: middle;\n",
       "    }\n",
       "\n",
       "    .dataframe tbody tr th {\n",
       "        vertical-align: top;\n",
       "    }\n",
       "\n",
       "    .dataframe thead th {\n",
       "        text-align: right;\n",
       "    }\n",
       "</style>\n",
       "<table border=\"1\" class=\"dataframe\">\n",
       "  <thead>\n",
       "    <tr style=\"text-align: right;\">\n",
       "      <th></th>\n",
       "      <th>sum_sq</th>\n",
       "      <th>df</th>\n",
       "      <th>F</th>\n",
       "      <th>PR(&gt;F)</th>\n",
       "    </tr>\n",
       "  </thead>\n",
       "  <tbody>\n",
       "    <tr>\n",
       "      <th>C(treatments)</th>\n",
       "      <td>216518.5</td>\n",
       "      <td>3.0</td>\n",
       "      <td>0.817383</td>\n",
       "      <td>0.508762</td>\n",
       "    </tr>\n",
       "    <tr>\n",
       "      <th>Residual</th>\n",
       "      <td>1059569.5</td>\n",
       "      <td>12.0</td>\n",
       "      <td>NaN</td>\n",
       "      <td>NaN</td>\n",
       "    </tr>\n",
       "  </tbody>\n",
       "</table>\n",
       "</div>"
      ],
      "text/plain": [
       "                  sum_sq    df         F    PR(>F)\n",
       "C(treatments)   216518.5   3.0  0.817383  0.508762\n",
       "Residual       1059569.5  12.0       NaN       NaN"
      ]
     },
     "execution_count": 75,
     "metadata": {},
     "output_type": "execute_result"
    }
   ],
   "source": [
    "import statsmodels.api as sm\n",
    "from statsmodels.formula.api import ols\n",
    "\n",
    "\n",
    "model = ols('value ~ C(treatments)', data = df_melt).fit()\n",
    "\n",
    "anova_table = sm.stats.anova_lm(model, typ = 2)\n",
    "anova_table"
   ]
  },
  {
   "cell_type": "code",
   "execution_count": null,
   "metadata": {
    "papermill": {
     "duration": 0.154402,
     "end_time": "2021-03-25T14:50:36.233447",
     "exception": false,
     "start_time": "2021-03-25T14:50:36.079045",
     "status": "completed"
    },
    "tags": []
   },
   "outputs": [],
   "source": []
  },
  {
   "cell_type": "markdown",
   "metadata": {
    "papermill": {
     "duration": 0.153479,
     "end_time": "2021-03-25T14:50:36.539622",
     "exception": false,
     "start_time": "2021-03-25T14:50:36.386143",
     "status": "completed"
    },
    "tags": []
   },
   "source": [
    "##### Interpretation"
   ]
  },
  {
   "cell_type": "markdown",
   "metadata": {
    "papermill": {
     "duration": 0.155465,
     "end_time": "2021-03-25T14:50:36.847263",
     "exception": false,
     "start_time": "2021-03-25T14:50:36.691798",
     "status": "completed"
    },
    "tags": []
   },
   "source": [
    "p-value obtained from ANOVA Analysis is not significant (p > 0.05), and therefore, we conclude that there are no significant differences amongst the groups. "
   ]
  },
  {
   "cell_type": "markdown",
   "metadata": {
    "papermill": {
     "duration": 0.159849,
     "end_time": "2021-03-25T14:50:37.163641",
     "exception": false,
     "start_time": "2021-03-25T14:50:37.003792",
     "status": "completed"
    },
    "tags": []
   },
   "source": [
    "#### 6.2 Two-Way ANOVA Test"
   ]
  },
  {
   "cell_type": "markdown",
   "metadata": {
    "papermill": {
     "duration": 0.16378,
     "end_time": "2021-03-25T14:50:37.489646",
     "exception": false,
     "start_time": "2021-03-25T14:50:37.325866",
     "status": "completed"
    },
    "tags": []
   },
   "source": [
    "In Two-Way ANOVA Test, we have 2 independent variables and their different levels"
   ]
  },
  {
   "cell_type": "code",
   "execution_count": 76,
   "metadata": {
    "execution": {
     "iopub.execute_input": "2021-03-25T14:50:37.819064Z",
     "iopub.status.busy": "2021-03-25T14:50:37.817484Z",
     "iopub.status.idle": "2021-03-25T14:50:37.827033Z",
     "shell.execute_reply": "2021-03-25T14:50:37.827606Z"
    },
    "papermill": {
     "duration": 0.171259,
     "end_time": "2021-03-25T14:50:37.827839",
     "exception": false,
     "start_time": "2021-03-25T14:50:37.656580",
     "status": "completed"
    },
    "tags": []
   },
   "outputs": [],
   "source": [
    "data = pd.DataFrame(list(zip(['A','A','A','B','B','B', 'C', 'C', 'C', 'D', 'D', 'D'], [np.random.ranf() for _ in range(12)], [np.random.ranf() for _ in range(12)], [np.random.ranf() for _ in range(12)])), columns = ['Genotype', '1_year', '2_year', '3_year'])"
   ]
  },
  {
   "cell_type": "code",
   "execution_count": 77,
   "metadata": {
    "execution": {
     "iopub.execute_input": "2021-03-25T14:50:38.174798Z",
     "iopub.status.busy": "2021-03-25T14:50:38.173593Z",
     "iopub.status.idle": "2021-03-25T14:50:38.190961Z",
     "shell.execute_reply": "2021-03-25T14:50:38.190311Z"
    },
    "papermill": {
     "duration": 0.191894,
     "end_time": "2021-03-25T14:50:38.191143",
     "exception": false,
     "start_time": "2021-03-25T14:50:37.999249",
     "status": "completed"
    },
    "tags": []
   },
   "outputs": [
    {
     "data": {
      "text/html": [
       "<div>\n",
       "<style scoped>\n",
       "    .dataframe tbody tr th:only-of-type {\n",
       "        vertical-align: middle;\n",
       "    }\n",
       "\n",
       "    .dataframe tbody tr th {\n",
       "        vertical-align: top;\n",
       "    }\n",
       "\n",
       "    .dataframe thead th {\n",
       "        text-align: right;\n",
       "    }\n",
       "</style>\n",
       "<table border=\"1\" class=\"dataframe\">\n",
       "  <thead>\n",
       "    <tr style=\"text-align: right;\">\n",
       "      <th></th>\n",
       "      <th>Genotype</th>\n",
       "      <th>1_year</th>\n",
       "      <th>2_year</th>\n",
       "      <th>3_year</th>\n",
       "    </tr>\n",
       "  </thead>\n",
       "  <tbody>\n",
       "    <tr>\n",
       "      <th>0</th>\n",
       "      <td>A</td>\n",
       "      <td>0.979329</td>\n",
       "      <td>0.445071</td>\n",
       "      <td>0.525346</td>\n",
       "    </tr>\n",
       "    <tr>\n",
       "      <th>1</th>\n",
       "      <td>A</td>\n",
       "      <td>0.814334</td>\n",
       "      <td>0.951217</td>\n",
       "      <td>0.547286</td>\n",
       "    </tr>\n",
       "    <tr>\n",
       "      <th>2</th>\n",
       "      <td>A</td>\n",
       "      <td>0.769577</td>\n",
       "      <td>0.052605</td>\n",
       "      <td>0.134649</td>\n",
       "    </tr>\n",
       "    <tr>\n",
       "      <th>3</th>\n",
       "      <td>B</td>\n",
       "      <td>0.258259</td>\n",
       "      <td>0.881318</td>\n",
       "      <td>0.983791</td>\n",
       "    </tr>\n",
       "    <tr>\n",
       "      <th>4</th>\n",
       "      <td>B</td>\n",
       "      <td>0.408696</td>\n",
       "      <td>0.902302</td>\n",
       "      <td>0.897246</td>\n",
       "    </tr>\n",
       "    <tr>\n",
       "      <th>5</th>\n",
       "      <td>B</td>\n",
       "      <td>0.031563</td>\n",
       "      <td>0.112262</td>\n",
       "      <td>0.423910</td>\n",
       "    </tr>\n",
       "    <tr>\n",
       "      <th>6</th>\n",
       "      <td>C</td>\n",
       "      <td>0.589851</td>\n",
       "      <td>0.230241</td>\n",
       "      <td>0.986720</td>\n",
       "    </tr>\n",
       "    <tr>\n",
       "      <th>7</th>\n",
       "      <td>C</td>\n",
       "      <td>0.885712</td>\n",
       "      <td>0.194125</td>\n",
       "      <td>0.474359</td>\n",
       "    </tr>\n",
       "    <tr>\n",
       "      <th>8</th>\n",
       "      <td>C</td>\n",
       "      <td>0.190395</td>\n",
       "      <td>0.448500</td>\n",
       "      <td>0.104534</td>\n",
       "    </tr>\n",
       "    <tr>\n",
       "      <th>9</th>\n",
       "      <td>D</td>\n",
       "      <td>0.188470</td>\n",
       "      <td>0.861006</td>\n",
       "      <td>0.137509</td>\n",
       "    </tr>\n",
       "    <tr>\n",
       "      <th>10</th>\n",
       "      <td>D</td>\n",
       "      <td>0.326606</td>\n",
       "      <td>0.600829</td>\n",
       "      <td>0.901337</td>\n",
       "    </tr>\n",
       "    <tr>\n",
       "      <th>11</th>\n",
       "      <td>D</td>\n",
       "      <td>0.020046</td>\n",
       "      <td>0.196092</td>\n",
       "      <td>0.153116</td>\n",
       "    </tr>\n",
       "  </tbody>\n",
       "</table>\n",
       "</div>"
      ],
      "text/plain": [
       "   Genotype    1_year    2_year    3_year\n",
       "0         A  0.979329  0.445071  0.525346\n",
       "1         A  0.814334  0.951217  0.547286\n",
       "2         A  0.769577  0.052605  0.134649\n",
       "3         B  0.258259  0.881318  0.983791\n",
       "4         B  0.408696  0.902302  0.897246\n",
       "5         B  0.031563  0.112262  0.423910\n",
       "6         C  0.589851  0.230241  0.986720\n",
       "7         C  0.885712  0.194125  0.474359\n",
       "8         C  0.190395  0.448500  0.104534\n",
       "9         D  0.188470  0.861006  0.137509\n",
       "10        D  0.326606  0.600829  0.901337\n",
       "11        D  0.020046  0.196092  0.153116"
      ]
     },
     "execution_count": 77,
     "metadata": {},
     "output_type": "execute_result"
    }
   ],
   "source": [
    "data"
   ]
  },
  {
   "cell_type": "code",
   "execution_count": 78,
   "metadata": {
    "execution": {
     "iopub.execute_input": "2021-03-25T14:50:38.519275Z",
     "iopub.status.busy": "2021-03-25T14:50:38.518485Z",
     "iopub.status.idle": "2021-03-25T14:50:38.523554Z",
     "shell.execute_reply": "2021-03-25T14:50:38.522815Z"
    },
    "papermill": {
     "duration": 0.17465,
     "end_time": "2021-03-25T14:50:38.523757",
     "exception": false,
     "start_time": "2021-03-25T14:50:38.349107",
     "status": "completed"
    },
    "tags": []
   },
   "outputs": [],
   "source": [
    "data_melt = pd.melt(data, id_vars = ['Genotype'], value_vars = ['1_year', '2_year', '3_year'])"
   ]
  },
  {
   "cell_type": "code",
   "execution_count": 79,
   "metadata": {
    "execution": {
     "iopub.execute_input": "2021-03-25T14:50:38.856285Z",
     "iopub.status.busy": "2021-03-25T14:50:38.855267Z",
     "iopub.status.idle": "2021-03-25T14:50:38.860477Z",
     "shell.execute_reply": "2021-03-25T14:50:38.859722Z"
    },
    "papermill": {
     "duration": 0.181457,
     "end_time": "2021-03-25T14:50:38.860671",
     "exception": false,
     "start_time": "2021-03-25T14:50:38.679214",
     "status": "completed"
    },
    "tags": []
   },
   "outputs": [
    {
     "data": {
      "text/html": [
       "<div>\n",
       "<style scoped>\n",
       "    .dataframe tbody tr th:only-of-type {\n",
       "        vertical-align: middle;\n",
       "    }\n",
       "\n",
       "    .dataframe tbody tr th {\n",
       "        vertical-align: top;\n",
       "    }\n",
       "\n",
       "    .dataframe thead th {\n",
       "        text-align: right;\n",
       "    }\n",
       "</style>\n",
       "<table border=\"1\" class=\"dataframe\">\n",
       "  <thead>\n",
       "    <tr style=\"text-align: right;\">\n",
       "      <th></th>\n",
       "      <th>Genotype</th>\n",
       "      <th>variable</th>\n",
       "      <th>value</th>\n",
       "    </tr>\n",
       "  </thead>\n",
       "  <tbody>\n",
       "    <tr>\n",
       "      <th>0</th>\n",
       "      <td>A</td>\n",
       "      <td>1_year</td>\n",
       "      <td>0.979329</td>\n",
       "    </tr>\n",
       "    <tr>\n",
       "      <th>1</th>\n",
       "      <td>A</td>\n",
       "      <td>1_year</td>\n",
       "      <td>0.814334</td>\n",
       "    </tr>\n",
       "    <tr>\n",
       "      <th>2</th>\n",
       "      <td>A</td>\n",
       "      <td>1_year</td>\n",
       "      <td>0.769577</td>\n",
       "    </tr>\n",
       "    <tr>\n",
       "      <th>3</th>\n",
       "      <td>B</td>\n",
       "      <td>1_year</td>\n",
       "      <td>0.258259</td>\n",
       "    </tr>\n",
       "    <tr>\n",
       "      <th>4</th>\n",
       "      <td>B</td>\n",
       "      <td>1_year</td>\n",
       "      <td>0.408696</td>\n",
       "    </tr>\n",
       "  </tbody>\n",
       "</table>\n",
       "</div>"
      ],
      "text/plain": [
       "  Genotype variable     value\n",
       "0        A   1_year  0.979329\n",
       "1        A   1_year  0.814334\n",
       "2        A   1_year  0.769577\n",
       "3        B   1_year  0.258259\n",
       "4        B   1_year  0.408696"
      ]
     },
     "execution_count": 79,
     "metadata": {},
     "output_type": "execute_result"
    }
   ],
   "source": [
    "data_melt.head()"
   ]
  },
  {
   "cell_type": "code",
   "execution_count": 80,
   "metadata": {
    "execution": {
     "iopub.execute_input": "2021-03-25T14:50:39.199070Z",
     "iopub.status.busy": "2021-03-25T14:50:39.198127Z",
     "iopub.status.idle": "2021-03-25T14:50:39.201865Z",
     "shell.execute_reply": "2021-03-25T14:50:39.201191Z"
    },
    "papermill": {
     "duration": 0.17217,
     "end_time": "2021-03-25T14:50:39.202050",
     "exception": false,
     "start_time": "2021-03-25T14:50:39.029880",
     "status": "completed"
    },
    "tags": []
   },
   "outputs": [],
   "source": [
    "data_melt.columns = ['Genotype', 'years', 'value']"
   ]
  },
  {
   "cell_type": "code",
   "execution_count": 81,
   "metadata": {
    "execution": {
     "iopub.execute_input": "2021-03-25T14:50:39.546305Z",
     "iopub.status.busy": "2021-03-25T14:50:39.545486Z",
     "iopub.status.idle": "2021-03-25T14:50:40.095832Z",
     "shell.execute_reply": "2021-03-25T14:50:40.095073Z"
    },
    "papermill": {
     "duration": 0.73694,
     "end_time": "2021-03-25T14:50:40.096016",
     "exception": false,
     "start_time": "2021-03-25T14:50:39.359076",
     "status": "completed"
    },
    "tags": []
   },
   "outputs": [
    {
     "data": {
      "text/plain": [
       "<AxesSubplot:xlabel='Genotype', ylabel='value'>"
      ]
     },
     "execution_count": 81,
     "metadata": {},
     "output_type": "execute_result"
    },
    {
     "data": {
      "image/png": "[encoded data removed]",
      "text/plain": [
       "<Figure size 432x288 with 1 Axes>"
      ]
     },
     "metadata": {
      "needs_background": "light"
     },
     "output_type": "display_data"
    }
   ],
   "source": [
    "sns.boxplot(x = 'Genotype', y = 'value', hue = 'years', data = data_melt, palette = ['r', 'k', 'w'])"
   ]
  },
  {
   "cell_type": "code",
   "execution_count": 82,
   "metadata": {
    "execution": {
     "iopub.execute_input": "2021-03-25T14:50:40.428459Z",
     "iopub.status.busy": "2021-03-25T14:50:40.427706Z",
     "iopub.status.idle": "2021-03-25T14:50:40.431182Z",
     "shell.execute_reply": "2021-03-25T14:50:40.431766Z"
    },
    "papermill": {
     "duration": 0.176754,
     "end_time": "2021-03-25T14:50:40.431992",
     "exception": false,
     "start_time": "2021-03-25T14:50:40.255238",
     "status": "completed"
    },
    "tags": []
   },
   "outputs": [],
   "source": [
    "model = ols('value ~ C(Genotype) + C(years) + C(Genotype) : C(years)', data = data_melt).fit()"
   ]
  },
  {
   "cell_type": "code",
   "execution_count": 83,
   "metadata": {
    "execution": {
     "iopub.execute_input": "2021-03-25T14:50:40.759061Z",
     "iopub.status.busy": "2021-03-25T14:50:40.758025Z",
     "iopub.status.idle": "2021-03-25T14:50:40.804282Z",
     "shell.execute_reply": "2021-03-25T14:50:40.804877Z"
    },
    "papermill": {
     "duration": 0.213422,
     "end_time": "2021-03-25T14:50:40.805096",
     "exception": false,
     "start_time": "2021-03-25T14:50:40.591674",
     "status": "completed"
    },
    "tags": []
   },
   "outputs": [
    {
     "data": {
      "text/html": [
       "<div>\n",
       "<style scoped>\n",
       "    .dataframe tbody tr th:only-of-type {\n",
       "        vertical-align: middle;\n",
       "    }\n",
       "\n",
       "    .dataframe tbody tr th {\n",
       "        vertical-align: top;\n",
       "    }\n",
       "\n",
       "    .dataframe thead th {\n",
       "        text-align: right;\n",
       "    }\n",
       "</style>\n",
       "<table border=\"1\" class=\"dataframe\">\n",
       "  <thead>\n",
       "    <tr style=\"text-align: right;\">\n",
       "      <th></th>\n",
       "      <th>sum_sq</th>\n",
       "      <th>df</th>\n",
       "      <th>F</th>\n",
       "      <th>PR(&gt;F)</th>\n",
       "    </tr>\n",
       "  </thead>\n",
       "  <tbody>\n",
       "    <tr>\n",
       "      <th>C(Genotype)</th>\n",
       "      <td>0.226481</td>\n",
       "      <td>3.0</td>\n",
       "      <td>0.717854</td>\n",
       "      <td>0.551046</td>\n",
       "    </tr>\n",
       "    <tr>\n",
       "      <th>C(years)</th>\n",
       "      <td>0.027138</td>\n",
       "      <td>2.0</td>\n",
       "      <td>0.129024</td>\n",
       "      <td>0.879558</td>\n",
       "    </tr>\n",
       "    <tr>\n",
       "      <th>C(Genotype):C(years)</th>\n",
       "      <td>1.122708</td>\n",
       "      <td>6.0</td>\n",
       "      <td>1.779267</td>\n",
       "      <td>0.146079</td>\n",
       "    </tr>\n",
       "    <tr>\n",
       "      <th>Residual</th>\n",
       "      <td>2.523980</td>\n",
       "      <td>24.0</td>\n",
       "      <td>NaN</td>\n",
       "      <td>NaN</td>\n",
       "    </tr>\n",
       "  </tbody>\n",
       "</table>\n",
       "</div>"
      ],
      "text/plain": [
       "                        sum_sq    df         F    PR(>F)\n",
       "C(Genotype)           0.226481   3.0  0.717854  0.551046\n",
       "C(years)              0.027138   2.0  0.129024  0.879558\n",
       "C(Genotype):C(years)  1.122708   6.0  1.779267  0.146079\n",
       "Residual              2.523980  24.0       NaN       NaN"
      ]
     },
     "execution_count": 83,
     "metadata": {},
     "output_type": "execute_result"
    }
   ],
   "source": [
    "anova_table = sm.stats.anova_lm(model, typ = 2)\n",
    "\n",
    "anova_table"
   ]
  },
  {
   "cell_type": "code",
   "execution_count": null,
   "metadata": {
    "papermill": {
     "duration": 0.176307,
     "end_time": "2021-03-25T14:50:41.142282",
     "exception": false,
     "start_time": "2021-03-25T14:50:40.965975",
     "status": "completed"
    },
    "tags": []
   },
   "outputs": [],
   "source": []
  },
  {
   "cell_type": "code",
   "execution_count": null,
   "metadata": {
    "papermill": {
     "duration": 0.160091,
     "end_time": "2021-03-25T14:50:41.474000",
     "exception": false,
     "start_time": "2021-03-25T14:50:41.313909",
     "status": "completed"
    },
    "tags": []
   },
   "outputs": [],
   "source": []
  },
  {
   "cell_type": "code",
   "execution_count": null,
   "metadata": {
    "papermill": {
     "duration": 0.157853,
     "end_time": "2021-03-25T14:50:41.790489",
     "exception": false,
     "start_time": "2021-03-25T14:50:41.632636",
     "status": "completed"
    },
    "tags": []
   },
   "outputs": [],
   "source": []
  },
  {
   "cell_type": "markdown",
   "metadata": {
    "papermill": {
     "duration": 0.17378,
     "end_time": "2021-03-25T14:50:42.128287",
     "exception": false,
     "start_time": "2021-03-25T14:50:41.954507",
     "status": "completed"
    },
    "tags": []
   },
   "source": [
    "##### Post-Hoc Analysis (Tukey's Test)"
   ]
  },
  {
   "cell_type": "code",
   "execution_count": 84,
   "metadata": {
    "execution": {
     "iopub.execute_input": "2021-03-25T14:50:42.451725Z",
     "iopub.status.busy": "2021-03-25T14:50:42.450892Z",
     "iopub.status.idle": "2021-03-25T14:50:56.670226Z",
     "shell.execute_reply": "2021-03-25T14:50:56.668863Z"
    },
    "papermill": {
     "duration": 14.380589,
     "end_time": "2021-03-25T14:50:56.670437",
     "exception": false,
     "start_time": "2021-03-25T14:50:42.289848",
     "status": "completed"
    },
    "tags": []
   },
   "outputs": [
    {
     "name": "stdout",
     "output_type": "stream",
     "text": [
      "Collecting bioinfokit\r\n",
      "  Downloading bioinfokit-2.0.2.tar.gz (82 kB)\r\n",
      "\u001b[K     |████████████████████████████████| 82 kB 341 kB/s \r\n",
      "\u001b[?25hRequirement already satisfied: pandas in /opt/conda/lib/python3.7/site-packages (from bioinfokit) (1.2.0)\r\n",
      "Requirement already satisfied: numpy in /opt/conda/lib/python3.7/site-packages (from bioinfokit) (1.19.5)\r\n",
      "Requirement already satisfied: matplotlib in /opt/conda/lib/python3.7/site-packages (from bioinfokit) (3.3.3)\r\n",
      "Requirement already satisfied: scipy in /opt/conda/lib/python3.7/site-packages (from bioinfokit) (1.5.4)\r\n",
      "Requirement already satisfied: scikit-learn in /opt/conda/lib/python3.7/site-packages (from bioinfokit) (0.24.1)\r\n",
      "Requirement already satisfied: seaborn in /opt/conda/lib/python3.7/site-packages (from bioinfokit) (0.11.1)\r\n",
      "Requirement already satisfied: matplotlib-venn in /opt/conda/lib/python3.7/site-packages (from bioinfokit) (0.11.6)\r\n",
      "Requirement already satisfied: tabulate in /opt/conda/lib/python3.7/site-packages (from bioinfokit) (0.8.8)\r\n",
      "Requirement already satisfied: statsmodels in /opt/conda/lib/python3.7/site-packages (from bioinfokit) (0.12.1)\r\n",
      "Requirement already satisfied: textwrap3 in /opt/conda/lib/python3.7/site-packages (from bioinfokit) (0.9.2)\r\n",
      "Collecting adjustText\r\n",
      "  Downloading adjustText-0.7.3.tar.gz (7.5 kB)\r\n",
      "Requirement already satisfied: kiwisolver>=1.0.1 in /opt/conda/lib/python3.7/site-packages (from matplotlib->bioinfokit) (1.3.1)\r\n",
      "Requirement already satisfied: pyparsing!=2.0.4,!=2.1.2,!=2.1.6,>=2.0.3 in /opt/conda/lib/python3.7/site-packages (from matplotlib->bioinfokit) (2.4.7)\r\n",
      "Requirement already satisfied: python-dateutil>=2.1 in /opt/conda/lib/python3.7/site-packages (from matplotlib->bioinfokit) (2.8.1)\r\n",
      "Requirement already satisfied: cycler>=0.10 in /opt/conda/lib/python3.7/site-packages (from matplotlib->bioinfokit) (0.10.0)\r\n",
      "Requirement already satisfied: pillow>=6.2.0 in /opt/conda/lib/python3.7/site-packages (from matplotlib->bioinfokit) (7.2.0)\r\n",
      "Requirement already satisfied: six in /opt/conda/lib/python3.7/site-packages (from cycler>=0.10->matplotlib->bioinfokit) (1.15.0)\r\n",
      "Requirement already satisfied: pytz>=2017.3 in /opt/conda/lib/python3.7/site-packages (from pandas->bioinfokit) (2020.5)\r\n",
      "Requirement already satisfied: joblib>=0.11 in /opt/conda/lib/python3.7/site-packages (from scikit-learn->bioinfokit) (1.0.0)\r\n",
      "Requirement already satisfied: threadpoolctl>=2.0.0 in /opt/conda/lib/python3.7/site-packages (from scikit-learn->bioinfokit) (2.1.0)\r\n",
      "Requirement already satisfied: patsy>=0.5 in /opt/conda/lib/python3.7/site-packages (from statsmodels->bioinfokit) (0.5.1)\r\n",
      "Building wheels for collected packages: bioinfokit, adjustText\r\n",
      "  Building wheel for bioinfokit (setup.py) ... \u001b[?25l-\b \b\\\b \b|\b \bdone\r\n",
      "\u001b[?25h  Created wheel for bioinfokit: filename=bioinfokit-2.0.2-py3-none-any.whl size=56174 sha256=902d7d91b186a5bbc81514235154cf38de1e2fdebdd52bcbf76b5e683d1c2539\r\n",
      "  Stored in directory: /root/.cache/pip/wheels/82/cd/07/7008b4c468d2d0cc24cc944e98495f3837c6001b49deea2fda\r\n",
      "  Building wheel for adjustText (setup.py) ... \u001b[?25l-\b \b\\\b \bdone\r\n",
      "\u001b[?25h  Created wheel for adjustText: filename=adjustText-0.7.3-py3-none-any.whl size=7098 sha256=d8d1cffa218ad4daa477cc789e4f9d6d8829736eb7d6b23b3eae2c11338831b0\r\n",
      "  Stored in directory: /root/.cache/pip/wheels/2f/98/32/afbf902d8f040fadfdf0a44357e4ab750afe165d873bf5893d\r\n",
      "Successfully built bioinfokit adjustText\r\n",
      "Installing collected packages: adjustText, bioinfokit\r\n",
      "Successfully installed adjustText-0.7.3 bioinfokit-2.0.2\r\n"
     ]
    }
   ],
   "source": [
    "!pip install bioinfokit\n",
    "from bioinfokit.analys import stat"
   ]
  },
  {
   "cell_type": "code",
   "execution_count": 85,
   "metadata": {
    "execution": {
     "iopub.execute_input": "2021-03-25T14:50:57.038838Z",
     "iopub.status.busy": "2021-03-25T14:50:57.037477Z",
     "iopub.status.idle": "2021-03-25T14:50:57.177730Z",
     "shell.execute_reply": "2021-03-25T14:50:57.177035Z"
    },
    "papermill": {
     "duration": 0.338274,
     "end_time": "2021-03-25T14:50:57.177898",
     "exception": false,
     "start_time": "2021-03-25T14:50:56.839624",
     "status": "completed"
    },
    "tags": []
   },
   "outputs": [],
   "source": [
    "res = stat()\n",
    "res.tukey_hsd(df = df_melt, res_var = 'value', xfac_var = 'treatments', anova_model = 'value ~ C(treatments)')\n",
    "output = res.tukey_summary"
   ]
  },
  {
   "cell_type": "code",
   "execution_count": 86,
   "metadata": {
    "execution": {
     "iopub.execute_input": "2021-03-25T14:50:57.523242Z",
     "iopub.status.busy": "2021-03-25T14:50:57.522093Z",
     "iopub.status.idle": "2021-03-25T14:50:57.525957Z",
     "shell.execute_reply": "2021-03-25T14:50:57.526457Z"
    },
    "papermill": {
     "duration": 0.182483,
     "end_time": "2021-03-25T14:50:57.526676",
     "exception": false,
     "start_time": "2021-03-25T14:50:57.344193",
     "status": "completed"
    },
    "tags": []
   },
   "outputs": [
    {
     "data": {
      "text/html": [
       "<div>\n",
       "<style scoped>\n",
       "    .dataframe tbody tr th:only-of-type {\n",
       "        vertical-align: middle;\n",
       "    }\n",
       "\n",
       "    .dataframe tbody tr th {\n",
       "        vertical-align: top;\n",
       "    }\n",
       "\n",
       "    .dataframe thead th {\n",
       "        text-align: right;\n",
       "    }\n",
       "</style>\n",
       "<table border=\"1\" class=\"dataframe\">\n",
       "  <thead>\n",
       "    <tr style=\"text-align: right;\">\n",
       "      <th></th>\n",
       "      <th>group1</th>\n",
       "      <th>group2</th>\n",
       "      <th>Diff</th>\n",
       "      <th>Lower</th>\n",
       "      <th>Upper</th>\n",
       "      <th>q-value</th>\n",
       "      <th>p-value</th>\n",
       "    </tr>\n",
       "  </thead>\n",
       "  <tbody>\n",
       "    <tr>\n",
       "      <th>0</th>\n",
       "      <td>A</td>\n",
       "      <td>B</td>\n",
       "      <td>307.25</td>\n",
       "      <td>-316.636933</td>\n",
       "      <td>931.136933</td>\n",
       "      <td>2.067987</td>\n",
       "      <td>0.488263</td>\n",
       "    </tr>\n",
       "    <tr>\n",
       "      <th>1</th>\n",
       "      <td>A</td>\n",
       "      <td>C</td>\n",
       "      <td>89.00</td>\n",
       "      <td>-534.886933</td>\n",
       "      <td>712.886933</td>\n",
       "      <td>0.599026</td>\n",
       "      <td>0.900000</td>\n",
       "    </tr>\n",
       "    <tr>\n",
       "      <th>2</th>\n",
       "      <td>A</td>\n",
       "      <td>D</td>\n",
       "      <td>57.75</td>\n",
       "      <td>-566.136933</td>\n",
       "      <td>681.636933</td>\n",
       "      <td>0.388694</td>\n",
       "      <td>0.900000</td>\n",
       "    </tr>\n",
       "    <tr>\n",
       "      <th>3</th>\n",
       "      <td>B</td>\n",
       "      <td>C</td>\n",
       "      <td>218.25</td>\n",
       "      <td>-405.636933</td>\n",
       "      <td>842.136933</td>\n",
       "      <td>1.468961</td>\n",
       "      <td>0.714050</td>\n",
       "    </tr>\n",
       "    <tr>\n",
       "      <th>4</th>\n",
       "      <td>B</td>\n",
       "      <td>D</td>\n",
       "      <td>249.50</td>\n",
       "      <td>-374.386933</td>\n",
       "      <td>873.386933</td>\n",
       "      <td>1.679293</td>\n",
       "      <td>0.634770</td>\n",
       "    </tr>\n",
       "    <tr>\n",
       "      <th>5</th>\n",
       "      <td>C</td>\n",
       "      <td>D</td>\n",
       "      <td>31.25</td>\n",
       "      <td>-592.636933</td>\n",
       "      <td>655.136933</td>\n",
       "      <td>0.210332</td>\n",
       "      <td>0.900000</td>\n",
       "    </tr>\n",
       "  </tbody>\n",
       "</table>\n",
       "</div>"
      ],
      "text/plain": [
       "  group1 group2    Diff       Lower       Upper   q-value   p-value\n",
       "0      A      B  307.25 -316.636933  931.136933  2.067987  0.488263\n",
       "1      A      C   89.00 -534.886933  712.886933  0.599026  0.900000\n",
       "2      A      D   57.75 -566.136933  681.636933  0.388694  0.900000\n",
       "3      B      C  218.25 -405.636933  842.136933  1.468961  0.714050\n",
       "4      B      D  249.50 -374.386933  873.386933  1.679293  0.634770\n",
       "5      C      D   31.25 -592.636933  655.136933  0.210332  0.900000"
      ]
     },
     "execution_count": 86,
     "metadata": {},
     "output_type": "execute_result"
    }
   ],
   "source": [
    "output"
   ]
  },
  {
   "cell_type": "markdown",
   "metadata": {
    "papermill": {
     "duration": 0.164781,
     "end_time": "2021-03-25T14:50:57.857293",
     "exception": false,
     "start_time": "2021-03-25T14:50:57.692512",
     "status": "completed"
    },
    "tags": []
   },
   "source": [
    "All the values are in accordance to the condition p > 0.05 <br>\n",
    "Hence, aren't statistically significant."
   ]
  },
  {
   "cell_type": "code",
   "execution_count": null,
   "metadata": {
    "papermill": {
     "duration": 0.170801,
     "end_time": "2021-03-25T14:50:58.193305",
     "exception": false,
     "start_time": "2021-03-25T14:50:58.022504",
     "status": "completed"
    },
    "tags": []
   },
   "outputs": [],
   "source": []
  },
  {
   "cell_type": "markdown",
   "metadata": {
    "papermill": {
     "duration": 0.163681,
     "end_time": "2021-03-25T14:50:58.522490",
     "exception": false,
     "start_time": "2021-03-25T14:50:58.358809",
     "status": "completed"
    },
    "tags": []
   },
   "source": [
    "### 7. F Stats Test"
   ]
  },
  {
   "cell_type": "code",
   "execution_count": null,
   "metadata": {
    "papermill": {
     "duration": 0.16538,
     "end_time": "2021-03-25T14:50:58.853227",
     "exception": false,
     "start_time": "2021-03-25T14:50:58.687847",
     "status": "completed"
    },
    "tags": []
   },
   "outputs": [],
   "source": []
  },
  {
   "cell_type": "markdown",
   "metadata": {
    "papermill": {
     "duration": 0.166432,
     "end_time": "2021-03-25T14:50:59.184039",
     "exception": false,
     "start_time": "2021-03-25T14:50:59.017607",
     "status": "completed"
    },
    "tags": []
   },
   "source": [
    "### 8. Binomial Distribution"
   ]
  },
  {
   "cell_type": "code",
   "execution_count": 87,
   "metadata": {
    "execution": {
     "iopub.execute_input": "2021-03-25T14:50:59.523600Z",
     "iopub.status.busy": "2021-03-25T14:50:59.522834Z",
     "iopub.status.idle": "2021-03-25T14:50:59.537100Z",
     "shell.execute_reply": "2021-03-25T14:50:59.536398Z"
    },
    "papermill": {
     "duration": 0.188458,
     "end_time": "2021-03-25T14:50:59.537263",
     "exception": false,
     "start_time": "2021-03-25T14:50:59.348805",
     "status": "completed"
    },
    "tags": []
   },
   "outputs": [
    {
     "data": {
      "text/html": [
       "<div>\n",
       "<style scoped>\n",
       "    .dataframe tbody tr th:only-of-type {\n",
       "        vertical-align: middle;\n",
       "    }\n",
       "\n",
       "    .dataframe tbody tr th {\n",
       "        vertical-align: top;\n",
       "    }\n",
       "\n",
       "    .dataframe thead th {\n",
       "        text-align: right;\n",
       "    }\n",
       "</style>\n",
       "<table border=\"1\" class=\"dataframe\">\n",
       "  <thead>\n",
       "    <tr style=\"text-align: right;\">\n",
       "      <th></th>\n",
       "      <th>r</th>\n",
       "      <th>p(r)</th>\n",
       "    </tr>\n",
       "  </thead>\n",
       "  <tbody>\n",
       "    <tr>\n",
       "      <th>0</th>\n",
       "      <td>0</td>\n",
       "      <td>0.004096</td>\n",
       "    </tr>\n",
       "    <tr>\n",
       "      <th>1</th>\n",
       "      <td>1</td>\n",
       "      <td>0.036864</td>\n",
       "    </tr>\n",
       "    <tr>\n",
       "      <th>2</th>\n",
       "      <td>2</td>\n",
       "      <td>0.138240</td>\n",
       "    </tr>\n",
       "    <tr>\n",
       "      <th>3</th>\n",
       "      <td>3</td>\n",
       "      <td>0.276480</td>\n",
       "    </tr>\n",
       "    <tr>\n",
       "      <th>4</th>\n",
       "      <td>4</td>\n",
       "      <td>0.311040</td>\n",
       "    </tr>\n",
       "    <tr>\n",
       "      <th>5</th>\n",
       "      <td>5</td>\n",
       "      <td>0.186624</td>\n",
       "    </tr>\n",
       "    <tr>\n",
       "      <th>6</th>\n",
       "      <td>6</td>\n",
       "      <td>0.046656</td>\n",
       "    </tr>\n",
       "  </tbody>\n",
       "</table>\n",
       "</div>"
      ],
      "text/plain": [
       "   r      p(r)\n",
       "0  0  0.004096\n",
       "1  1  0.036864\n",
       "2  2  0.138240\n",
       "3  3  0.276480\n",
       "4  4  0.311040\n",
       "5  5  0.186624\n",
       "6  6  0.046656"
      ]
     },
     "execution_count": 87,
     "metadata": {},
     "output_type": "execute_result"
    }
   ],
   "source": [
    "from scipy.stats import binom\n",
    "\n",
    "n = 6\n",
    "p = 0.6\n",
    "\n",
    "r_values = list(range(n + 1))\n",
    "\n",
    "mean, var = binom.stats(n, p)\n",
    "\n",
    "\n",
    "dist = [binom.pmf(r, n, p) for r in r_values]\n",
    "\n",
    "df = pd.DataFrame(list(zip(r_values, dist)), columns = ['r', 'p(r)'], index = None)\n",
    "\n",
    "df"
   ]
  },
  {
   "cell_type": "code",
   "execution_count": 88,
   "metadata": {
    "execution": {
     "iopub.execute_input": "2021-03-25T14:50:59.876711Z",
     "iopub.status.busy": "2021-03-25T14:50:59.875919Z",
     "iopub.status.idle": "2021-03-25T14:51:00.066015Z",
     "shell.execute_reply": "2021-03-25T14:51:00.065217Z"
    },
    "papermill": {
     "duration": 0.361882,
     "end_time": "2021-03-25T14:51:00.066197",
     "exception": false,
     "start_time": "2021-03-25T14:50:59.704315",
     "status": "completed"
    },
    "tags": []
   },
   "outputs": [
    {
     "data": {
      "text/plain": [
       "<AxesSubplot:>"
      ]
     },
     "execution_count": 88,
     "metadata": {},
     "output_type": "execute_result"
    },
    {
     "data": {
      "image/png": "[encoded data removed]",
      "text/plain": [
       "<Figure size 432x288 with 1 Axes>"
      ]
     },
     "metadata": {
      "needs_background": "light"
     },
     "output_type": "display_data"
    }
   ],
   "source": [
    "df['p(r)'].plot.bar()"
   ]
  },
  {
   "cell_type": "markdown",
   "metadata": {
    "papermill": {
     "duration": 0.166276,
     "end_time": "2021-03-25T14:51:00.401316",
     "exception": false,
     "start_time": "2021-03-25T14:51:00.235040",
     "status": "completed"
    },
    "tags": []
   },
   "source": [
    "### 9. Normal Distribution"
   ]
  },
  {
   "cell_type": "markdown",
   "metadata": {
    "papermill": {
     "duration": 0.166821,
     "end_time": "2021-03-25T14:51:00.735234",
     "exception": false,
     "start_time": "2021-03-25T14:51:00.568413",
     "status": "completed"
    },
    "tags": []
   },
   "source": [
    "also known as \n",
    "* Gaussian Distribution\n",
    "* Bell Curve\n",
    "\n",
    "\n",
    "<br><br> Below is the probability distribution function (pdf) for Normal Distribution -> "
   ]
  },
  {
   "cell_type": "markdown",
   "metadata": {
    "papermill": {
     "duration": 0.170293,
     "end_time": "2021-03-25T14:51:01.074260",
     "exception": false,
     "start_time": "2021-03-25T14:51:00.903967",
     "status": "completed"
    },
    "tags": []
   },
   "source": [
    "![](https://cdn.askpython.com/wp-content/uploads/2020/10/Probability-density-function-of-Normal-Distribution.jpg.webp)"
   ]
  },
  {
   "cell_type": "markdown",
   "metadata": {
    "papermill": {
     "duration": 0.232286,
     "end_time": "2021-03-25T14:51:01.472268",
     "exception": false,
     "start_time": "2021-03-25T14:51:01.239982",
     "status": "completed"
    },
    "tags": []
   },
   "source": [
    "* x -> input value\n",
    "* mu -> mean\n",
    "* sigma -> std deviation"
   ]
  },
  {
   "cell_type": "markdown",
   "metadata": {
    "papermill": {
     "duration": 0.167195,
     "end_time": "2021-03-25T14:51:01.805753",
     "exception": false,
     "start_time": "2021-03-25T14:51:01.638558",
     "status": "completed"
    },
    "tags": []
   },
   "source": [
    "![](https://cdn.askpython.com/wp-content/uploads/2020/10/Standard-deviation-around-mean.jpg.webp)"
   ]
  },
  {
   "cell_type": "code",
   "execution_count": 89,
   "metadata": {
    "execution": {
     "iopub.execute_input": "2021-03-25T14:51:02.161822Z",
     "iopub.status.busy": "2021-03-25T14:51:02.160963Z",
     "iopub.status.idle": "2021-03-25T14:51:02.163368Z",
     "shell.execute_reply": "2021-03-25T14:51:02.163849Z"
    },
    "papermill": {
     "duration": 0.191789,
     "end_time": "2021-03-25T14:51:02.164296",
     "exception": false,
     "start_time": "2021-03-25T14:51:01.972507",
     "status": "completed"
    },
    "tags": []
   },
   "outputs": [],
   "source": [
    "mu, sigma = 0.5, 1"
   ]
  },
  {
   "cell_type": "code",
   "execution_count": 90,
   "metadata": {
    "execution": {
     "iopub.execute_input": "2021-03-25T14:51:02.503116Z",
     "iopub.status.busy": "2021-03-25T14:51:02.502295Z",
     "iopub.status.idle": "2021-03-25T14:51:02.509139Z",
     "shell.execute_reply": "2021-03-25T14:51:02.508469Z"
    },
    "papermill": {
     "duration": 0.177506,
     "end_time": "2021-03-25T14:51:02.509312",
     "exception": false,
     "start_time": "2021-03-25T14:51:02.331806",
     "status": "completed"
    },
    "tags": []
   },
   "outputs": [],
   "source": [
    "data = np.random.normal(mu, sigma, 10000)"
   ]
  },
  {
   "cell_type": "code",
   "execution_count": 91,
   "metadata": {
    "execution": {
     "iopub.execute_input": "2021-03-25T14:51:02.864060Z",
     "iopub.status.busy": "2021-03-25T14:51:02.863247Z",
     "iopub.status.idle": "2021-03-25T14:51:03.053186Z",
     "shell.execute_reply": "2021-03-25T14:51:03.052359Z"
    },
    "papermill": {
     "duration": 0.376779,
     "end_time": "2021-03-25T14:51:03.053364",
     "exception": false,
     "start_time": "2021-03-25T14:51:02.676585",
     "status": "completed"
    },
    "tags": []
   },
   "outputs": [
    {
     "data": {
      "image/png": "[encoded data removed]",
      "text/plain": [
       "<Figure size 432x288 with 1 Axes>"
      ]
     },
     "metadata": {
      "needs_background": "light"
     },
     "output_type": "display_data"
    }
   ],
   "source": [
    "count, bins, ignored = plt.hist(data, 20)\n",
    "\n"
   ]
  },
  {
   "cell_type": "markdown",
   "metadata": {
    "papermill": {
     "duration": 0.16682,
     "end_time": "2021-03-25T14:51:03.393027",
     "exception": false,
     "start_time": "2021-03-25T14:51:03.226207",
     "status": "completed"
    },
    "tags": []
   },
   "source": []
  },
  {
   "cell_type": "code",
   "execution_count": null,
   "metadata": {
    "papermill": {
     "duration": 0.166641,
     "end_time": "2021-03-25T14:51:03.726004",
     "exception": false,
     "start_time": "2021-03-25T14:51:03.559363",
     "status": "completed"
    },
    "tags": []
   },
   "outputs": [],
   "source": []
  },
  {
   "cell_type": "code",
   "execution_count": null,
   "metadata": {
    "papermill": {
     "duration": 0.170747,
     "end_time": "2021-03-25T14:51:04.063293",
     "exception": false,
     "start_time": "2021-03-25T14:51:03.892546",
     "status": "completed"
    },
    "tags": []
   },
   "outputs": [],
   "source": []
  },
  {
   "cell_type": "markdown",
   "metadata": {
    "papermill": {
     "duration": 0.165925,
     "end_time": "2021-03-25T14:51:04.398763",
     "exception": false,
     "start_time": "2021-03-25T14:51:04.232838",
     "status": "completed"
    },
    "tags": []
   },
   "source": [
    "### 10. Poisson Distribution"
   ]
  },
  {
   "cell_type": "code",
   "execution_count": null,
   "metadata": {
    "papermill": {
     "duration": 0.168575,
     "end_time": "2021-03-25T14:51:04.735669",
     "exception": false,
     "start_time": "2021-03-25T14:51:04.567094",
     "status": "completed"
    },
    "tags": []
   },
   "outputs": [],
   "source": []
  },
  {
   "cell_type": "markdown",
   "metadata": {
    "papermill": {
     "duration": 0.170305,
     "end_time": "2021-03-25T14:51:05.077673",
     "exception": false,
     "start_time": "2021-03-25T14:51:04.907368",
     "status": "completed"
    },
    "tags": []
   },
   "source": [
    "### 11. Bernoulli Distribution"
   ]
  },
  {
   "cell_type": "code",
   "execution_count": null,
   "metadata": {
    "papermill": {
     "duration": 0.166282,
     "end_time": "2021-03-25T14:51:05.413098",
     "exception": false,
     "start_time": "2021-03-25T14:51:05.246816",
     "status": "completed"
    },
    "tags": []
   },
   "outputs": [],
   "source": []
  },
  {
   "cell_type": "code",
   "execution_count": null,
   "metadata": {
    "papermill": {
     "duration": 0.165876,
     "end_time": "2021-03-25T14:51:05.746814",
     "exception": false,
     "start_time": "2021-03-25T14:51:05.580938",
     "status": "completed"
    },
    "tags": []
   },
   "outputs": [],
   "source": []
  },
  {
   "cell_type": "markdown",
   "metadata": {
    "papermill": {
     "duration": 0.175089,
     "end_time": "2021-03-25T14:51:06.087910",
     "exception": false,
     "start_time": "2021-03-25T14:51:05.912821",
     "status": "completed"
    },
    "tags": []
   },
   "source": [
    "### 12. Central Limit Theorem"
   ]
  },
  {
   "cell_type": "markdown",
   "metadata": {
    "papermill": {
     "duration": 0.165772,
     "end_time": "2021-03-25T14:51:06.425001",
     "exception": false,
     "start_time": "2021-03-25T14:51:06.259229",
     "status": "completed"
    },
    "tags": []
   },
   "source": [
    "**What it states?** <br><br>\n",
    "Even when a sample is not normally distributed, if you draw multiple samples and take each of their averages, the averages will represent a normal distribution.<br><br>\n",
    "Which means repeated sampling from a not normally distributed sample and taking the means of those repeated samples will end up being a normally distributed sample. <br><br>\n",
    "\n",
    "100 samples in total which are not normally distributed. Take random 10 samples say 50 times and take the mean of these samples. It will come out to be a normally distributed sample."
   ]
  },
  {
   "cell_type": "code",
   "execution_count": null,
   "metadata": {
    "papermill": {
     "duration": 0.166602,
     "end_time": "2021-03-25T14:51:06.758161",
     "exception": false,
     "start_time": "2021-03-25T14:51:06.591559",
     "status": "completed"
    },
    "tags": []
   },
   "outputs": [],
   "source": []
  },
  {
   "cell_type": "markdown",
   "metadata": {
    "papermill": {
     "duration": 0.172863,
     "end_time": "2021-03-25T14:51:07.099002",
     "exception": false,
     "start_time": "2021-03-25T14:51:06.926139",
     "status": "completed"
    },
    "tags": []
   },
   "source": [
    "The following is an experiment of dice roll for 1000 times. <br>\n",
    "for 1000 times, we make samples of samples size 100 where possible outcomes are 1,2,3,4,5,6 <br><br>\n",
    "By plotting the histogram of the sample means, we obtain a normally distributed plot. <br>\n",
    "This is Central Limit Theorem"
   ]
  },
  {
   "cell_type": "code",
   "execution_count": 92,
   "metadata": {
    "execution": {
     "iopub.execute_input": "2021-03-25T14:51:07.484971Z",
     "iopub.status.busy": "2021-03-25T14:51:07.483423Z",
     "iopub.status.idle": "2021-03-25T14:51:07.680307Z",
     "shell.execute_reply": "2021-03-25T14:51:07.680975Z"
    },
    "papermill": {
     "duration": 0.394474,
     "end_time": "2021-03-25T14:51:07.681227",
     "exception": false,
     "start_time": "2021-03-25T14:51:07.286753",
     "status": "completed"
    },
    "tags": []
   },
   "outputs": [
    {
     "data": {
      "image/png": "[encoded data removed]",
      "text/plain": [
       "<Figure size 432x288 with 1 Axes>"
      ]
     },
     "metadata": {
      "needs_background": "light"
     },
     "output_type": "display_data"
    }
   ],
   "source": [
    "\n",
    "means = [np.mean(np.random.randint(1, 7, 100)) for _ in range(1000)]\n",
    "\n",
    "plt.hist(means)\n",
    "plt.show()"
   ]
  },
  {
   "cell_type": "markdown",
   "metadata": {
    "papermill": {
     "duration": 0.174503,
     "end_time": "2021-03-25T14:51:08.026007",
     "exception": false,
     "start_time": "2021-03-25T14:51:07.851504",
     "status": "completed"
    },
    "tags": []
   },
   "source": [
    "##### Key Takeaways :- <br><br>\n",
    "\n",
    "![](https://miro.medium.com/max/366/1*RdIQG331j0tayi50asTOIw.png)\n",
    "\n",
    "![](https://miro.medium.com/max/418/1*dCxzo7E6lmKxHLEg2xZSoQ.png)"
   ]
  },
  {
   "cell_type": "markdown",
   "metadata": {
    "papermill": {
     "duration": 0.17407,
     "end_time": "2021-03-25T14:51:08.381106",
     "exception": false,
     "start_time": "2021-03-25T14:51:08.207036",
     "status": "completed"
    },
    "tags": []
   },
   "source": [
    "You can never experiment with all your customers (population). However, to draw a conclusion for an experiment which is a good representaion of your customers, you need to perform repeated experiments on different set of customers (different samples of the not normally distributed population/sample as per the context) and confirm your hypotheses. "
   ]
  },
  {
   "cell_type": "code",
   "execution_count": null,
   "metadata": {
    "papermill": {
     "duration": 0.170499,
     "end_time": "2021-03-25T14:51:08.720380",
     "exception": false,
     "start_time": "2021-03-25T14:51:08.549881",
     "status": "completed"
    },
    "tags": []
   },
   "outputs": [],
   "source": []
  },
  {
   "cell_type": "code",
   "execution_count": null,
   "metadata": {
    "papermill": {
     "duration": 0.181764,
     "end_time": "2021-03-25T14:51:09.076684",
     "exception": false,
     "start_time": "2021-03-25T14:51:08.894920",
     "status": "completed"
    },
    "tags": []
   },
   "outputs": [],
   "source": []
  },
  {
   "cell_type": "markdown",
   "metadata": {
    "papermill": {
     "duration": 0.168611,
     "end_time": "2021-03-25T14:51:09.421553",
     "exception": false,
     "start_time": "2021-03-25T14:51:09.252942",
     "status": "completed"
    },
    "tags": []
   },
   "source": [
    "### 13. Calculating p-Value"
   ]
  },
  {
   "cell_type": "code",
   "execution_count": null,
   "metadata": {
    "papermill": {
     "duration": 0.181859,
     "end_time": "2021-03-25T14:51:09.774003",
     "exception": false,
     "start_time": "2021-03-25T14:51:09.592144",
     "status": "completed"
    },
    "tags": []
   },
   "outputs": [],
   "source": []
  },
  {
   "cell_type": "code",
   "execution_count": null,
   "metadata": {
    "papermill": {
     "duration": 0.193465,
     "end_time": "2021-03-25T14:51:10.164609",
     "exception": false,
     "start_time": "2021-03-25T14:51:09.971144",
     "status": "completed"
    },
    "tags": []
   },
   "outputs": [],
   "source": []
  },
  {
   "cell_type": "markdown",
   "metadata": {
    "papermill": {
     "duration": 0.169116,
     "end_time": "2021-03-25T14:51:10.506380",
     "exception": false,
     "start_time": "2021-03-25T14:51:10.337264",
     "status": "completed"
    },
    "tags": []
   },
   "source": [
    "### 14. Measuring Correlation"
   ]
  },
  {
   "cell_type": "code",
   "execution_count": null,
   "metadata": {
    "papermill": {
     "duration": 0.180977,
     "end_time": "2021-03-25T14:51:10.861997",
     "exception": false,
     "start_time": "2021-03-25T14:51:10.681020",
     "status": "completed"
    },
    "tags": []
   },
   "outputs": [],
   "source": []
  },
  {
   "cell_type": "code",
   "execution_count": null,
   "metadata": {
    "papermill": {
     "duration": 0.196327,
     "end_time": "2021-03-25T14:51:11.242797",
     "exception": false,
     "start_time": "2021-03-25T14:51:11.046470",
     "status": "completed"
    },
    "tags": []
   },
   "outputs": [],
   "source": []
  },
  {
   "cell_type": "markdown",
   "metadata": {
    "papermill": {
     "duration": 0.180991,
     "end_time": "2021-03-25T14:51:11.603871",
     "exception": false,
     "start_time": "2021-03-25T14:51:11.422880",
     "status": "completed"
    },
    "tags": []
   },
   "source": [
    "### 15. Measuring Variance"
   ]
  },
  {
   "cell_type": "code",
   "execution_count": null,
   "metadata": {
    "papermill": {
     "duration": 0.182534,
     "end_time": "2021-03-25T14:51:11.961612",
     "exception": false,
     "start_time": "2021-03-25T14:51:11.779078",
     "status": "completed"
    },
    "tags": []
   },
   "outputs": [],
   "source": []
  },
  {
   "cell_type": "code",
   "execution_count": null,
   "metadata": {
    "papermill": {
     "duration": 0.187434,
     "end_time": "2021-03-25T14:51:12.352582",
     "exception": false,
     "start_time": "2021-03-25T14:51:12.165148",
     "status": "completed"
    },
    "tags": []
   },
   "outputs": [],
   "source": []
  },
  {
   "cell_type": "code",
   "execution_count": null,
   "metadata": {
    "papermill": {
     "duration": 0.175788,
     "end_time": "2021-03-25T14:51:12.709285",
     "exception": false,
     "start_time": "2021-03-25T14:51:12.533497",
     "status": "completed"
    },
    "tags": []
   },
   "outputs": [],
   "source": []
  },
  {
   "cell_type": "markdown",
   "metadata": {
    "papermill": {
     "duration": 0.17964,
     "end_time": "2021-03-25T14:51:13.059023",
     "exception": false,
     "start_time": "2021-03-25T14:51:12.879383",
     "status": "completed"
    },
    "tags": []
   },
   "source": [
    "### 16. Sample Statistics"
   ]
  },
  {
   "cell_type": "code",
   "execution_count": null,
   "metadata": {
    "papermill": {
     "duration": 0.178305,
     "end_time": "2021-03-25T14:51:13.437853",
     "exception": false,
     "start_time": "2021-03-25T14:51:13.259548",
     "status": "completed"
    },
    "tags": []
   },
   "outputs": [],
   "source": []
  },
  {
   "cell_type": "code",
   "execution_count": null,
   "metadata": {
    "papermill": {
     "duration": 0.169735,
     "end_time": "2021-03-25T14:51:13.783099",
     "exception": false,
     "start_time": "2021-03-25T14:51:13.613364",
     "status": "completed"
    },
    "tags": []
   },
   "outputs": [],
   "source": []
  },
  {
   "cell_type": "code",
   "execution_count": null,
   "metadata": {
    "papermill": {
     "duration": 0.182085,
     "end_time": "2021-03-25T14:51:14.137815",
     "exception": false,
     "start_time": "2021-03-25T14:51:13.955730",
     "status": "completed"
    },
    "tags": []
   },
   "outputs": [],
   "source": []
  },
  {
   "cell_type": "markdown",
   "metadata": {
    "papermill": {
     "duration": 0.16952,
     "end_time": "2021-03-25T14:51:14.496194",
     "exception": false,
     "start_time": "2021-03-25T14:51:14.326674",
     "status": "completed"
    },
    "tags": []
   },
   "source": [
    "### 17. Population Statistics"
   ]
  },
  {
   "cell_type": "code",
   "execution_count": null,
   "metadata": {
    "papermill": {
     "duration": 0.171278,
     "end_time": "2021-03-25T14:51:14.836753",
     "exception": false,
     "start_time": "2021-03-25T14:51:14.665475",
     "status": "completed"
    },
    "tags": []
   },
   "outputs": [],
   "source": []
  },
  {
   "cell_type": "code",
   "execution_count": null,
   "metadata": {
    "papermill": {
     "duration": 0.173728,
     "end_time": "2021-03-25T14:51:15.185828",
     "exception": false,
     "start_time": "2021-03-25T14:51:15.012100",
     "status": "completed"
    },
    "tags": []
   },
   "outputs": [],
   "source": []
  },
  {
   "cell_type": "markdown",
   "metadata": {
    "papermill": {
     "duration": 0.169682,
     "end_time": "2021-03-25T14:51:15.595066",
     "exception": false,
     "start_time": "2021-03-25T14:51:15.425384",
     "status": "completed"
    },
    "tags": []
   },
   "source": [
    "### 18. Maximum Likehood Estimation"
   ]
  },
  {
   "cell_type": "code",
   "execution_count": null,
   "metadata": {
    "papermill": {
     "duration": 0.169775,
     "end_time": "2021-03-25T14:51:15.941859",
     "exception": false,
     "start_time": "2021-03-25T14:51:15.772084",
     "status": "completed"
    },
    "tags": []
   },
   "outputs": [],
   "source": []
  },
  {
   "cell_type": "code",
   "execution_count": null,
   "metadata": {
    "papermill": {
     "duration": 0.171196,
     "end_time": "2021-03-25T14:51:16.283745",
     "exception": false,
     "start_time": "2021-03-25T14:51:16.112549",
     "status": "completed"
    },
    "tags": []
   },
   "outputs": [],
   "source": []
  },
  {
   "cell_type": "markdown",
   "metadata": {
    "papermill": {
     "duration": 0.185889,
     "end_time": "2021-03-25T14:51:16.640814",
     "exception": false,
     "start_time": "2021-03-25T14:51:16.454925",
     "status": "completed"
    },
    "tags": []
   },
   "source": [
    "### 19. Cluster Analysis"
   ]
  },
  {
   "cell_type": "code",
   "execution_count": null,
   "metadata": {
    "papermill": {
     "duration": 0.170575,
     "end_time": "2021-03-25T14:51:16.994860",
     "exception": false,
     "start_time": "2021-03-25T14:51:16.824285",
     "status": "completed"
    },
    "tags": []
   },
   "outputs": [],
   "source": []
  },
  {
   "cell_type": "code",
   "execution_count": null,
   "metadata": {
    "papermill": {
     "duration": 0.179835,
     "end_time": "2021-03-25T14:51:17.368185",
     "exception": false,
     "start_time": "2021-03-25T14:51:17.188350",
     "status": "completed"
    },
    "tags": []
   },
   "outputs": [],
   "source": []
  },
  {
   "cell_type": "markdown",
   "metadata": {
    "papermill": {
     "duration": 0.17362,
     "end_time": "2021-03-25T14:51:17.713576",
     "exception": false,
     "start_time": "2021-03-25T14:51:17.539956",
     "status": "completed"
    },
    "tags": []
   },
   "source": [
    "### 20. Hypothesis Testing"
   ]
  },
  {
   "cell_type": "code",
   "execution_count": null,
   "metadata": {
    "papermill": {
     "duration": 0.178033,
     "end_time": "2021-03-25T14:51:18.064628",
     "exception": false,
     "start_time": "2021-03-25T14:51:17.886595",
     "status": "completed"
    },
    "tags": []
   },
   "outputs": [],
   "source": []
  },
  {
   "cell_type": "code",
   "execution_count": null,
   "metadata": {
    "papermill": {
     "duration": 0.196189,
     "end_time": "2021-03-25T14:51:18.461416",
     "exception": false,
     "start_time": "2021-03-25T14:51:18.265227",
     "status": "completed"
    },
    "tags": []
   },
   "outputs": [],
   "source": []
  },
  {
   "cell_type": "code",
   "execution_count": null,
   "metadata": {
    "papermill": {
     "duration": 0.173982,
     "end_time": "2021-03-25T14:51:18.809146",
     "exception": false,
     "start_time": "2021-03-25T14:51:18.635164",
     "status": "completed"
    },
    "tags": []
   },
   "outputs": [],
   "source": []
  },
  {
   "cell_type": "markdown",
   "metadata": {
    "papermill": {
     "duration": 0.169035,
     "end_time": "2021-03-25T14:51:19.149724",
     "exception": false,
     "start_time": "2021-03-25T14:51:18.980689",
     "status": "completed"
    },
    "tags": []
   },
   "source": [
    "### 21. Type-I Error & Type-II Error"
   ]
  },
  {
   "cell_type": "code",
   "execution_count": null,
   "metadata": {
    "papermill": {
     "duration": 0.167427,
     "end_time": "2021-03-25T14:51:19.488645",
     "exception": false,
     "start_time": "2021-03-25T14:51:19.321218",
     "status": "completed"
    },
    "tags": []
   },
   "outputs": [],
   "source": []
  },
  {
   "cell_type": "code",
   "execution_count": null,
   "metadata": {
    "papermill": {
     "duration": 0.172267,
     "end_time": "2021-03-25T14:51:19.828102",
     "exception": false,
     "start_time": "2021-03-25T14:51:19.655835",
     "status": "completed"
    },
    "tags": []
   },
   "outputs": [],
   "source": []
  },
  {
   "cell_type": "markdown",
   "metadata": {
    "papermill": {
     "duration": 0.173227,
     "end_time": "2021-03-25T14:51:20.170883",
     "exception": false,
     "start_time": "2021-03-25T14:51:19.997656",
     "status": "completed"
    },
    "tags": []
   },
   "source": [
    "### 22. Z-Stats & T-Stats"
   ]
  },
  {
   "cell_type": "code",
   "execution_count": null,
   "metadata": {
    "papermill": {
     "duration": 0.169026,
     "end_time": "2021-03-25T14:51:20.512895",
     "exception": false,
     "start_time": "2021-03-25T14:51:20.343869",
     "status": "completed"
    },
    "tags": []
   },
   "outputs": [],
   "source": []
  },
  {
   "cell_type": "code",
   "execution_count": null,
   "metadata": {
    "papermill": {
     "duration": 0.174153,
     "end_time": "2021-03-25T14:51:20.857235",
     "exception": false,
     "start_time": "2021-03-25T14:51:20.683082",
     "status": "completed"
    },
    "tags": []
   },
   "outputs": [],
   "source": []
  },
  {
   "cell_type": "markdown",
   "metadata": {
    "papermill": {
     "duration": 0.173901,
     "end_time": "2021-03-25T14:51:21.204498",
     "exception": false,
     "start_time": "2021-03-25T14:51:21.030597",
     "status": "completed"
    },
    "tags": []
   },
   "source": [
    "### 23. Confidence Interval"
   ]
  },
  {
   "cell_type": "code",
   "execution_count": null,
   "metadata": {
    "papermill": {
     "duration": 0.177078,
     "end_time": "2021-03-25T14:51:21.569933",
     "exception": false,
     "start_time": "2021-03-25T14:51:21.392855",
     "status": "completed"
    },
    "tags": []
   },
   "outputs": [],
   "source": []
  },
  {
   "cell_type": "code",
   "execution_count": null,
   "metadata": {
    "papermill": {
     "duration": 0.172883,
     "end_time": "2021-03-25T14:51:21.914847",
     "exception": false,
     "start_time": "2021-03-25T14:51:21.741964",
     "status": "completed"
    },
    "tags": []
   },
   "outputs": [],
   "source": []
  },
  {
   "cell_type": "markdown",
   "metadata": {
    "papermill": {
     "duration": 0.196939,
     "end_time": "2021-03-25T14:51:22.288580",
     "exception": false,
     "start_time": "2021-03-25T14:51:22.091641",
     "status": "completed"
    },
    "tags": []
   },
   "source": [
    "### 24. Confusion Metrics, ROC & Regression Analysis"
   ]
  },
  {
   "cell_type": "code",
   "execution_count": null,
   "metadata": {
    "papermill": {
     "duration": 0.167494,
     "end_time": "2021-03-25T14:51:22.632679",
     "exception": false,
     "start_time": "2021-03-25T14:51:22.465185",
     "status": "completed"
    },
    "tags": []
   },
   "outputs": [],
   "source": []
  },
  {
   "cell_type": "code",
   "execution_count": null,
   "metadata": {
    "papermill": {
     "duration": 0.169913,
     "end_time": "2021-03-25T14:51:22.980037",
     "exception": false,
     "start_time": "2021-03-25T14:51:22.810124",
     "status": "completed"
    },
    "tags": []
   },
   "outputs": [],
   "source": []
  },
  {
   "cell_type": "code",
   "execution_count": null,
   "metadata": {
    "papermill": {
     "duration": 0.175715,
     "end_time": "2021-03-25T14:51:23.342408",
     "exception": false,
     "start_time": "2021-03-25T14:51:23.166693",
     "status": "completed"
    },
    "tags": []
   },
   "outputs": [],
   "source": []
  },
  {
   "cell_type": "markdown",
   "metadata": {
    "papermill": {
     "duration": 0.169867,
     "end_time": "2021-03-25T14:51:23.684331",
     "exception": false,
     "start_time": "2021-03-25T14:51:23.514464",
     "status": "completed"
    },
    "tags": []
   },
   "source": [
    "### Notebook in Making.  <br>\n",
    "Est. Date of Completion - 28-03-2021"
   ]
  }
 ],
 "metadata": {
  "kernelspec": {
   "display_name": "Python 3",
   "language": "python",
   "name": "python3"
  },
  "language_info": {
   "codemirror_mode": {
    "name": "ipython",
    "version": 3
   },
   "file_extension": ".py",
   "mimetype": "text/x-python",
   "name": "python",
   "nbconvert_exporter": "python",
   "pygments_lexer": "ipython3",
   "version": "3.7.9"
  },
  "papermill": {
   "default_parameters": {},
   "duration": 114.440247,
   "end_time": "2021-03-25T14:51:25.071261",
   "environment_variables": {},
   "exception": null,
   "input_path": "__notebook__.ipynb",
   "output_path": "__notebook__.ipynb",
   "parameters": {},
   "start_time": "2021-03-25T14:49:30.631014",
   "version": "2.2.2"
  }
 },
 "nbformat": 4,
 "nbformat_minor": 4
}
